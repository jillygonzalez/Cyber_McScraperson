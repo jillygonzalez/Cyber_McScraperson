{
 "cells": [
  {
   "cell_type": "code",
   "execution_count": 1,
   "metadata": {},
   "outputs": [
    {
     "name": "stdout",
     "output_type": "stream",
     "text": [
      "Requirement already satisfied: jupyter in c:\\users\\jilly\\desktop\\vs_venv\\cyber\\lib\\site-packages (1.0.0)\n",
      "Requirement already satisfied: notebook in c:\\users\\jilly\\desktop\\vs_venv\\cyber\\lib\\site-packages (from jupyter) (7.0.6)\n",
      "Requirement already satisfied: qtconsole in c:\\users\\jilly\\desktop\\vs_venv\\cyber\\lib\\site-packages (from jupyter) (5.5.1)\n",
      "Requirement already satisfied: jupyter-console in c:\\users\\jilly\\desktop\\vs_venv\\cyber\\lib\\site-packages (from jupyter) (6.6.3)\n",
      "Requirement already satisfied: nbconvert in c:\\users\\jilly\\desktop\\vs_venv\\cyber\\lib\\site-packages (from jupyter) (7.11.0)\n",
      "Requirement already satisfied: ipykernel in c:\\users\\jilly\\desktop\\vs_venv\\cyber\\lib\\site-packages (from jupyter) (6.26.0)\n",
      "Requirement already satisfied: ipywidgets in c:\\users\\jilly\\desktop\\vs_venv\\cyber\\lib\\site-packages (from jupyter) (8.1.1)\n",
      "Requirement already satisfied: comm>=0.1.1 in c:\\users\\jilly\\desktop\\vs_venv\\cyber\\lib\\site-packages (from ipykernel->jupyter) (0.2.0)\n",
      "Requirement already satisfied: debugpy>=1.6.5 in c:\\users\\jilly\\desktop\\vs_venv\\cyber\\lib\\site-packages (from ipykernel->jupyter) (1.8.0)\n",
      "Requirement already satisfied: ipython>=7.23.1 in c:\\users\\jilly\\desktop\\vs_venv\\cyber\\lib\\site-packages (from ipykernel->jupyter) (8.16.1)\n",
      "Requirement already satisfied: jupyter-client>=6.1.12 in c:\\users\\jilly\\desktop\\vs_venv\\cyber\\lib\\site-packages (from ipykernel->jupyter) (8.6.0)\n",
      "Requirement already satisfied: jupyter-core!=5.0.*,>=4.12 in c:\\users\\jilly\\desktop\\vs_venv\\cyber\\lib\\site-packages (from ipykernel->jupyter) (5.5.0)\n",
      "Requirement already satisfied: matplotlib-inline>=0.1 in c:\\users\\jilly\\desktop\\vs_venv\\cyber\\lib\\site-packages (from ipykernel->jupyter) (0.1.6)\n",
      "Requirement already satisfied: nest-asyncio in c:\\users\\jilly\\desktop\\vs_venv\\cyber\\lib\\site-packages (from ipykernel->jupyter) (1.5.8)\n",
      "Requirement already satisfied: packaging in c:\\users\\jilly\\desktop\\vs_venv\\cyber\\lib\\site-packages (from ipykernel->jupyter) (23.2)\n",
      "Requirement already satisfied: psutil in c:\\users\\jilly\\desktop\\vs_venv\\cyber\\lib\\site-packages (from ipykernel->jupyter) (5.9.6)\n",
      "Requirement already satisfied: pyzmq>=20 in c:\\users\\jilly\\desktop\\vs_venv\\cyber\\lib\\site-packages (from ipykernel->jupyter) (25.1.1)\n",
      "Requirement already satisfied: tornado>=6.1 in c:\\users\\jilly\\desktop\\vs_venv\\cyber\\lib\\site-packages (from ipykernel->jupyter) (6.3.3)\n",
      "Requirement already satisfied: traitlets>=5.4.0 in c:\\users\\jilly\\desktop\\vs_venv\\cyber\\lib\\site-packages (from ipykernel->jupyter) (5.14.0)\n",
      "Requirement already satisfied: widgetsnbextension~=4.0.9 in c:\\users\\jilly\\desktop\\vs_venv\\cyber\\lib\\site-packages (from ipywidgets->jupyter) (4.0.9)\n",
      "Requirement already satisfied: jupyterlab-widgets~=3.0.9 in c:\\users\\jilly\\desktop\\vs_venv\\cyber\\lib\\site-packages (from ipywidgets->jupyter) (3.0.9)\n",
      "Requirement already satisfied: prompt-toolkit>=3.0.30 in c:\\users\\jilly\\desktop\\vs_venv\\cyber\\lib\\site-packages (from jupyter-console->jupyter) (3.0.41)\n",
      "Requirement already satisfied: pygments in c:\\users\\jilly\\desktop\\vs_venv\\cyber\\lib\\site-packages (from jupyter-console->jupyter) (2.17.2)\n",
      "Requirement already satisfied: beautifulsoup4 in c:\\users\\jilly\\desktop\\vs_venv\\cyber\\lib\\site-packages (from nbconvert->jupyter) (4.12.2)\n",
      "Requirement already satisfied: bleach!=5.0.0 in c:\\users\\jilly\\desktop\\vs_venv\\cyber\\lib\\site-packages (from nbconvert->jupyter) (6.1.0)\n",
      "Requirement already satisfied: defusedxml in c:\\users\\jilly\\desktop\\vs_venv\\cyber\\lib\\site-packages (from nbconvert->jupyter) (0.7.1)\n",
      "Requirement already satisfied: jinja2>=3.0 in c:\\users\\jilly\\desktop\\vs_venv\\cyber\\lib\\site-packages (from nbconvert->jupyter) (3.1.2)\n",
      "Requirement already satisfied: jupyterlab-pygments in c:\\users\\jilly\\desktop\\vs_venv\\cyber\\lib\\site-packages (from nbconvert->jupyter) (0.3.0)\n",
      "Requirement already satisfied: markupsafe>=2.0 in c:\\users\\jilly\\desktop\\vs_venv\\cyber\\lib\\site-packages (from nbconvert->jupyter) (2.1.3)\n",
      "Requirement already satisfied: mistune<4,>=2.0.3 in c:\\users\\jilly\\desktop\\vs_venv\\cyber\\lib\\site-packages (from nbconvert->jupyter) (3.0.2)\n",
      "Requirement already satisfied: nbclient>=0.5.0 in c:\\users\\jilly\\desktop\\vs_venv\\cyber\\lib\\site-packages (from nbconvert->jupyter) (0.9.0)\n",
      "Requirement already satisfied: nbformat>=5.7 in c:\\users\\jilly\\desktop\\vs_venv\\cyber\\lib\\site-packages (from nbconvert->jupyter) (5.9.2)\n",
      "Requirement already satisfied: pandocfilters>=1.4.1 in c:\\users\\jilly\\desktop\\vs_venv\\cyber\\lib\\site-packages (from nbconvert->jupyter) (1.5.0)\n",
      "Requirement already satisfied: tinycss2 in c:\\users\\jilly\\desktop\\vs_venv\\cyber\\lib\\site-packages (from nbconvert->jupyter) (1.2.1)\n",
      "Requirement already satisfied: jupyter-server<3,>=2.4.0 in c:\\users\\jilly\\desktop\\vs_venv\\cyber\\lib\\site-packages (from notebook->jupyter) (2.11.1)\n",
      "Requirement already satisfied: jupyterlab-server<3,>=2.22.1 in c:\\users\\jilly\\desktop\\vs_venv\\cyber\\lib\\site-packages (from notebook->jupyter) (2.25.2)\n",
      "Requirement already satisfied: jupyterlab<5,>=4.0.2 in c:\\users\\jilly\\desktop\\vs_venv\\cyber\\lib\\site-packages (from notebook->jupyter) (4.0.9)\n",
      "Requirement already satisfied: notebook-shim<0.3,>=0.2 in c:\\users\\jilly\\desktop\\vs_venv\\cyber\\lib\\site-packages (from notebook->jupyter) (0.2.3)\n",
      "Requirement already satisfied: qtpy>=2.4.0 in c:\\users\\jilly\\desktop\\vs_venv\\cyber\\lib\\site-packages (from qtconsole->jupyter) (2.4.1)\n",
      "Requirement already satisfied: six>=1.9.0 in c:\\users\\jilly\\desktop\\vs_venv\\cyber\\lib\\site-packages (from bleach!=5.0.0->nbconvert->jupyter) (1.16.0)\n",
      "Requirement already satisfied: webencodings in c:\\users\\jilly\\desktop\\vs_venv\\cyber\\lib\\site-packages (from bleach!=5.0.0->nbconvert->jupyter) (0.5.1)\n",
      "Requirement already satisfied: backcall in c:\\users\\jilly\\desktop\\vs_venv\\cyber\\lib\\site-packages (from ipython>=7.23.1->ipykernel->jupyter) (0.2.0)\n",
      "Requirement already satisfied: decorator in c:\\users\\jilly\\desktop\\vs_venv\\cyber\\lib\\site-packages (from ipython>=7.23.1->ipykernel->jupyter) (5.1.1)\n",
      "Requirement already satisfied: jedi>=0.16 in c:\\users\\jilly\\desktop\\vs_venv\\cyber\\lib\\site-packages (from ipython>=7.23.1->ipykernel->jupyter) (0.19.1)\n",
      "Requirement already satisfied: pickleshare in c:\\users\\jilly\\desktop\\vs_venv\\cyber\\lib\\site-packages (from ipython>=7.23.1->ipykernel->jupyter) (0.7.5)\n",
      "Requirement already satisfied: stack-data in c:\\users\\jilly\\desktop\\vs_venv\\cyber\\lib\\site-packages (from ipython>=7.23.1->ipykernel->jupyter) (0.6.3)\n",
      "Requirement already satisfied: colorama in c:\\users\\jilly\\desktop\\vs_venv\\cyber\\lib\\site-packages (from ipython>=7.23.1->ipykernel->jupyter) (0.4.6)\n",
      "Requirement already satisfied: python-dateutil>=2.8.2 in c:\\users\\jilly\\desktop\\vs_venv\\cyber\\lib\\site-packages (from jupyter-client>=6.1.12->ipykernel->jupyter) (2.8.2)\n",
      "Requirement already satisfied: platformdirs>=2.5 in c:\\users\\jilly\\desktop\\vs_venv\\cyber\\lib\\site-packages (from jupyter-core!=5.0.*,>=4.12->ipykernel->jupyter) (4.0.0)\n",
      "Requirement already satisfied: pywin32>=300 in c:\\users\\jilly\\desktop\\vs_venv\\cyber\\lib\\site-packages (from jupyter-core!=5.0.*,>=4.12->ipykernel->jupyter) (306)\n",
      "Requirement already satisfied: anyio>=3.1.0 in c:\\users\\jilly\\desktop\\vs_venv\\cyber\\lib\\site-packages (from jupyter-server<3,>=2.4.0->notebook->jupyter) (4.1.0)\n",
      "Requirement already satisfied: argon2-cffi in c:\\users\\jilly\\desktop\\vs_venv\\cyber\\lib\\site-packages (from jupyter-server<3,>=2.4.0->notebook->jupyter) (23.1.0)\n",
      "Requirement already satisfied: jupyter-events>=0.9.0 in c:\\users\\jilly\\desktop\\vs_venv\\cyber\\lib\\site-packages (from jupyter-server<3,>=2.4.0->notebook->jupyter) (0.9.0)\n",
      "Requirement already satisfied: jupyter-server-terminals in c:\\users\\jilly\\desktop\\vs_venv\\cyber\\lib\\site-packages (from jupyter-server<3,>=2.4.0->notebook->jupyter) (0.4.4)\n",
      "Requirement already satisfied: overrides in c:\\users\\jilly\\desktop\\vs_venv\\cyber\\lib\\site-packages (from jupyter-server<3,>=2.4.0->notebook->jupyter) (7.4.0)\n",
      "Requirement already satisfied: prometheus-client in c:\\users\\jilly\\desktop\\vs_venv\\cyber\\lib\\site-packages (from jupyter-server<3,>=2.4.0->notebook->jupyter) (0.19.0)\n",
      "Requirement already satisfied: pywinpty in c:\\users\\jilly\\desktop\\vs_venv\\cyber\\lib\\site-packages (from jupyter-server<3,>=2.4.0->notebook->jupyter) (2.0.12)\n",
      "Requirement already satisfied: send2trash>=1.8.2 in c:\\users\\jilly\\desktop\\vs_venv\\cyber\\lib\\site-packages (from jupyter-server<3,>=2.4.0->notebook->jupyter) (1.8.2)\n",
      "Requirement already satisfied: terminado>=0.8.3 in c:\\users\\jilly\\desktop\\vs_venv\\cyber\\lib\\site-packages (from jupyter-server<3,>=2.4.0->notebook->jupyter) (0.18.0)\n",
      "Requirement already satisfied: websocket-client in c:\\users\\jilly\\desktop\\vs_venv\\cyber\\lib\\site-packages (from jupyter-server<3,>=2.4.0->notebook->jupyter) (1.6.4)\n",
      "Requirement already satisfied: async-lru>=1.0.0 in c:\\users\\jilly\\desktop\\vs_venv\\cyber\\lib\\site-packages (from jupyterlab<5,>=4.0.2->notebook->jupyter) (2.0.4)\n",
      "Requirement already satisfied: jupyter-lsp>=2.0.0 in c:\\users\\jilly\\desktop\\vs_venv\\cyber\\lib\\site-packages (from jupyterlab<5,>=4.0.2->notebook->jupyter) (2.2.1)\n",
      "Requirement already satisfied: babel>=2.10 in c:\\users\\jilly\\desktop\\vs_venv\\cyber\\lib\\site-packages (from jupyterlab-server<3,>=2.22.1->notebook->jupyter) (2.13.1)\n",
      "Requirement already satisfied: json5>=0.9.0 in c:\\users\\jilly\\desktop\\vs_venv\\cyber\\lib\\site-packages (from jupyterlab-server<3,>=2.22.1->notebook->jupyter) (0.9.14)\n",
      "Requirement already satisfied: jsonschema>=4.18.0 in c:\\users\\jilly\\desktop\\vs_venv\\cyber\\lib\\site-packages (from jupyterlab-server<3,>=2.22.1->notebook->jupyter) (4.20.0)\n",
      "Requirement already satisfied: requests>=2.31 in c:\\users\\jilly\\desktop\\vs_venv\\cyber\\lib\\site-packages (from jupyterlab-server<3,>=2.22.1->notebook->jupyter) (2.31.0)\n",
      "Requirement already satisfied: fastjsonschema in c:\\users\\jilly\\desktop\\vs_venv\\cyber\\lib\\site-packages (from nbformat>=5.7->nbconvert->jupyter) (2.19.0)\n",
      "Requirement already satisfied: wcwidth in c:\\users\\jilly\\desktop\\vs_venv\\cyber\\lib\\site-packages (from prompt-toolkit>=3.0.30->jupyter-console->jupyter) (0.2.12)\n",
      "Requirement already satisfied: soupsieve>1.2 in c:\\users\\jilly\\desktop\\vs_venv\\cyber\\lib\\site-packages (from beautifulsoup4->nbconvert->jupyter) (2.5)\n",
      "Requirement already satisfied: idna>=2.8 in c:\\users\\jilly\\desktop\\vs_venv\\cyber\\lib\\site-packages (from anyio>=3.1.0->jupyter-server<3,>=2.4.0->notebook->jupyter) (3.6)\n",
      "Requirement already satisfied: sniffio>=1.1 in c:\\users\\jilly\\desktop\\vs_venv\\cyber\\lib\\site-packages (from anyio>=3.1.0->jupyter-server<3,>=2.4.0->notebook->jupyter) (1.3.0)\n",
      "Requirement already satisfied: parso<0.9.0,>=0.8.3 in c:\\users\\jilly\\desktop\\vs_venv\\cyber\\lib\\site-packages (from jedi>=0.16->ipython>=7.23.1->ipykernel->jupyter) (0.8.3)\n",
      "Requirement already satisfied: attrs>=22.2.0 in c:\\users\\jilly\\desktop\\vs_venv\\cyber\\lib\\site-packages (from jsonschema>=4.18.0->jupyterlab-server<3,>=2.22.1->notebook->jupyter) (23.1.0)\n",
      "Requirement already satisfied: jsonschema-specifications>=2023.03.6 in c:\\users\\jilly\\desktop\\vs_venv\\cyber\\lib\\site-packages (from jsonschema>=4.18.0->jupyterlab-server<3,>=2.22.1->notebook->jupyter) (2023.11.1)\n",
      "Requirement already satisfied: referencing>=0.28.4 in c:\\users\\jilly\\desktop\\vs_venv\\cyber\\lib\\site-packages (from jsonschema>=4.18.0->jupyterlab-server<3,>=2.22.1->notebook->jupyter) (0.31.0)\n",
      "Requirement already satisfied: rpds-py>=0.7.1 in c:\\users\\jilly\\desktop\\vs_venv\\cyber\\lib\\site-packages (from jsonschema>=4.18.0->jupyterlab-server<3,>=2.22.1->notebook->jupyter) (0.13.1)\n",
      "Requirement already satisfied: python-json-logger>=2.0.4 in c:\\users\\jilly\\desktop\\vs_venv\\cyber\\lib\\site-packages (from jupyter-events>=0.9.0->jupyter-server<3,>=2.4.0->notebook->jupyter) (2.0.7)\n",
      "Requirement already satisfied: pyyaml>=5.3 in c:\\users\\jilly\\desktop\\vs_venv\\cyber\\lib\\site-packages (from jupyter-events>=0.9.0->jupyter-server<3,>=2.4.0->notebook->jupyter) (6.0.1)\n",
      "Requirement already satisfied: rfc3339-validator in c:\\users\\jilly\\desktop\\vs_venv\\cyber\\lib\\site-packages (from jupyter-events>=0.9.0->jupyter-server<3,>=2.4.0->notebook->jupyter) (0.1.4)\n",
      "Requirement already satisfied: rfc3986-validator>=0.1.1 in c:\\users\\jilly\\desktop\\vs_venv\\cyber\\lib\\site-packages (from jupyter-events>=0.9.0->jupyter-server<3,>=2.4.0->notebook->jupyter) (0.1.1)\n",
      "Requirement already satisfied: charset-normalizer<4,>=2 in c:\\users\\jilly\\desktop\\vs_venv\\cyber\\lib\\site-packages (from requests>=2.31->jupyterlab-server<3,>=2.22.1->notebook->jupyter) (3.3.2)\n",
      "Requirement already satisfied: urllib3<3,>=1.21.1 in c:\\users\\jilly\\desktop\\vs_venv\\cyber\\lib\\site-packages (from requests>=2.31->jupyterlab-server<3,>=2.22.1->notebook->jupyter) (2.1.0)\n",
      "Requirement already satisfied: certifi>=2017.4.17 in c:\\users\\jilly\\desktop\\vs_venv\\cyber\\lib\\site-packages (from requests>=2.31->jupyterlab-server<3,>=2.22.1->notebook->jupyter) (2023.11.17)\n",
      "Requirement already satisfied: argon2-cffi-bindings in c:\\users\\jilly\\desktop\\vs_venv\\cyber\\lib\\site-packages (from argon2-cffi->jupyter-server<3,>=2.4.0->notebook->jupyter) (21.2.0)\n",
      "Requirement already satisfied: executing>=1.2.0 in c:\\users\\jilly\\desktop\\vs_venv\\cyber\\lib\\site-packages (from stack-data->ipython>=7.23.1->ipykernel->jupyter) (2.0.1)\n",
      "Requirement already satisfied: asttokens>=2.1.0 in c:\\users\\jilly\\desktop\\vs_venv\\cyber\\lib\\site-packages (from stack-data->ipython>=7.23.1->ipykernel->jupyter) (2.4.1)\n",
      "Requirement already satisfied: pure-eval in c:\\users\\jilly\\desktop\\vs_venv\\cyber\\lib\\site-packages (from stack-data->ipython>=7.23.1->ipykernel->jupyter) (0.2.2)\n",
      "Requirement already satisfied: fqdn in c:\\users\\jilly\\desktop\\vs_venv\\cyber\\lib\\site-packages (from jsonschema[format-nongpl]>=4.18.0->jupyter-events>=0.9.0->jupyter-server<3,>=2.4.0->notebook->jupyter) (1.5.1)\n",
      "Requirement already satisfied: isoduration in c:\\users\\jilly\\desktop\\vs_venv\\cyber\\lib\\site-packages (from jsonschema[format-nongpl]>=4.18.0->jupyter-events>=0.9.0->jupyter-server<3,>=2.4.0->notebook->jupyter) (20.11.0)\n",
      "Requirement already satisfied: jsonpointer>1.13 in c:\\users\\jilly\\desktop\\vs_venv\\cyber\\lib\\site-packages (from jsonschema[format-nongpl]>=4.18.0->jupyter-events>=0.9.0->jupyter-server<3,>=2.4.0->notebook->jupyter) (2.4)\n",
      "Requirement already satisfied: uri-template in c:\\users\\jilly\\desktop\\vs_venv\\cyber\\lib\\site-packages (from jsonschema[format-nongpl]>=4.18.0->jupyter-events>=0.9.0->jupyter-server<3,>=2.4.0->notebook->jupyter) (1.3.0)\n",
      "Requirement already satisfied: webcolors>=1.11 in c:\\users\\jilly\\desktop\\vs_venv\\cyber\\lib\\site-packages (from jsonschema[format-nongpl]>=4.18.0->jupyter-events>=0.9.0->jupyter-server<3,>=2.4.0->notebook->jupyter) (1.13)\n",
      "Requirement already satisfied: cffi>=1.0.1 in c:\\users\\jilly\\desktop\\vs_venv\\cyber\\lib\\site-packages (from argon2-cffi-bindings->argon2-cffi->jupyter-server<3,>=2.4.0->notebook->jupyter) (1.16.0)\n",
      "Requirement already satisfied: pycparser in c:\\users\\jilly\\desktop\\vs_venv\\cyber\\lib\\site-packages (from cffi>=1.0.1->argon2-cffi-bindings->argon2-cffi->jupyter-server<3,>=2.4.0->notebook->jupyter) (2.21)\n",
      "Requirement already satisfied: arrow>=0.15.0 in c:\\users\\jilly\\desktop\\vs_venv\\cyber\\lib\\site-packages (from isoduration->jsonschema[format-nongpl]>=4.18.0->jupyter-events>=0.9.0->jupyter-server<3,>=2.4.0->notebook->jupyter) (1.3.0)\n",
      "Requirement already satisfied: types-python-dateutil>=2.8.10 in c:\\users\\jilly\\desktop\\vs_venv\\cyber\\lib\\site-packages (from arrow>=0.15.0->isoduration->jsonschema[format-nongpl]>=4.18.0->jupyter-events>=0.9.0->jupyter-server<3,>=2.4.0->notebook->jupyter) (2.8.19.14)\n",
      "Requirement already satisfied: ipywidgets in c:\\users\\jilly\\desktop\\vs_venv\\cyber\\lib\\site-packages (8.1.1)\n",
      "Requirement already satisfied: comm>=0.1.3 in c:\\users\\jilly\\desktop\\vs_venv\\cyber\\lib\\site-packages (from ipywidgets) (0.2.0)\n",
      "Requirement already satisfied: ipython>=6.1.0 in c:\\users\\jilly\\desktop\\vs_venv\\cyber\\lib\\site-packages (from ipywidgets) (8.16.1)\n",
      "Requirement already satisfied: traitlets>=4.3.1 in c:\\users\\jilly\\desktop\\vs_venv\\cyber\\lib\\site-packages (from ipywidgets) (5.14.0)\n",
      "Requirement already satisfied: widgetsnbextension~=4.0.9 in c:\\users\\jilly\\desktop\\vs_venv\\cyber\\lib\\site-packages (from ipywidgets) (4.0.9)\n",
      "Requirement already satisfied: jupyterlab-widgets~=3.0.9 in c:\\users\\jilly\\desktop\\vs_venv\\cyber\\lib\\site-packages (from ipywidgets) (3.0.9)\n",
      "Requirement already satisfied: backcall in c:\\users\\jilly\\desktop\\vs_venv\\cyber\\lib\\site-packages (from ipython>=6.1.0->ipywidgets) (0.2.0)\n",
      "Requirement already satisfied: decorator in c:\\users\\jilly\\desktop\\vs_venv\\cyber\\lib\\site-packages (from ipython>=6.1.0->ipywidgets) (5.1.1)\n",
      "Requirement already satisfied: jedi>=0.16 in c:\\users\\jilly\\desktop\\vs_venv\\cyber\\lib\\site-packages (from ipython>=6.1.0->ipywidgets) (0.19.1)\n",
      "Requirement already satisfied: matplotlib-inline in c:\\users\\jilly\\desktop\\vs_venv\\cyber\\lib\\site-packages (from ipython>=6.1.0->ipywidgets) (0.1.6)\n",
      "Requirement already satisfied: pickleshare in c:\\users\\jilly\\desktop\\vs_venv\\cyber\\lib\\site-packages (from ipython>=6.1.0->ipywidgets) (0.7.5)\n",
      "Requirement already satisfied: prompt-toolkit!=3.0.37,<3.1.0,>=3.0.30 in c:\\users\\jilly\\desktop\\vs_venv\\cyber\\lib\\site-packages (from ipython>=6.1.0->ipywidgets) (3.0.41)\n",
      "Requirement already satisfied: pygments>=2.4.0 in c:\\users\\jilly\\desktop\\vs_venv\\cyber\\lib\\site-packages (from ipython>=6.1.0->ipywidgets) (2.17.2)\n",
      "Requirement already satisfied: stack-data in c:\\users\\jilly\\desktop\\vs_venv\\cyber\\lib\\site-packages (from ipython>=6.1.0->ipywidgets) (0.6.3)\n",
      "Requirement already satisfied: colorama in c:\\users\\jilly\\desktop\\vs_venv\\cyber\\lib\\site-packages (from ipython>=6.1.0->ipywidgets) (0.4.6)\n",
      "Requirement already satisfied: parso<0.9.0,>=0.8.3 in c:\\users\\jilly\\desktop\\vs_venv\\cyber\\lib\\site-packages (from jedi>=0.16->ipython>=6.1.0->ipywidgets) (0.8.3)\n",
      "Requirement already satisfied: wcwidth in c:\\users\\jilly\\desktop\\vs_venv\\cyber\\lib\\site-packages (from prompt-toolkit!=3.0.37,<3.1.0,>=3.0.30->ipython>=6.1.0->ipywidgets) (0.2.12)\n",
      "Requirement already satisfied: executing>=1.2.0 in c:\\users\\jilly\\desktop\\vs_venv\\cyber\\lib\\site-packages (from stack-data->ipython>=6.1.0->ipywidgets) (2.0.1)\n",
      "Requirement already satisfied: asttokens>=2.1.0 in c:\\users\\jilly\\desktop\\vs_venv\\cyber\\lib\\site-packages (from stack-data->ipython>=6.1.0->ipywidgets) (2.4.1)\n",
      "Requirement already satisfied: pure-eval in c:\\users\\jilly\\desktop\\vs_venv\\cyber\\lib\\site-packages (from stack-data->ipython>=6.1.0->ipywidgets) (0.2.2)\n",
      "Requirement already satisfied: six>=1.12.0 in c:\\users\\jilly\\desktop\\vs_venv\\cyber\\lib\\site-packages (from asttokens>=2.1.0->stack-data->ipython>=6.1.0->ipywidgets) (1.16.0)\n",
      "Requirement already satisfied: sentence-transformers==2.2.2 in c:\\users\\jilly\\desktop\\vs_venv\\cyber\\lib\\site-packages (from -r requirements.txt (line 1)) (2.2.2)\n",
      "Requirement already satisfied: selenium==4.14.0 in c:\\users\\jilly\\desktop\\vs_venv\\cyber\\lib\\site-packages (from -r requirements.txt (line 2)) (4.14.0)\n",
      "Requirement already satisfied: ipython==8.16.1 in c:\\users\\jilly\\desktop\\vs_venv\\cyber\\lib\\site-packages (from -r requirements.txt (line 3)) (8.16.1)\n",
      "Requirement already satisfied: torch==2.1.0 in c:\\users\\jilly\\desktop\\vs_venv\\cyber\\lib\\site-packages (from -r requirements.txt (line 4)) (2.1.0)\n",
      "Requirement already satisfied: requests==2.31.0 in c:\\users\\jilly\\desktop\\vs_venv\\cyber\\lib\\site-packages (from -r requirements.txt (line 5)) (2.31.0)\n",
      "Requirement already satisfied: tqdm==4.66.1 in c:\\users\\jilly\\desktop\\vs_venv\\cyber\\lib\\site-packages (from -r requirements.txt (line 6)) (4.66.1)\n",
      "Requirement already satisfied: beautifulsoup4==4.12.2 in c:\\users\\jilly\\desktop\\vs_venv\\cyber\\lib\\site-packages (from -r requirements.txt (line 7)) (4.12.2)\n",
      "Requirement already satisfied: pandas==2.1.1 in c:\\users\\jilly\\desktop\\vs_venv\\cyber\\lib\\site-packages (from -r requirements.txt (line 8)) (2.1.1)\n",
      "Requirement already satisfied: numpy==1.26.1 in c:\\users\\jilly\\desktop\\vs_venv\\cyber\\lib\\site-packages (from -r requirements.txt (line 9)) (1.26.1)\n",
      "Requirement already satisfied: openpyxl==3.1.2 in c:\\users\\jilly\\desktop\\vs_venv\\cyber\\lib\\site-packages (from -r requirements.txt (line 10)) (3.1.2)\n",
      "Requirement already satisfied: transformers<5.0.0,>=4.6.0 in c:\\users\\jilly\\desktop\\vs_venv\\cyber\\lib\\site-packages (from sentence-transformers==2.2.2->-r requirements.txt (line 1)) (4.35.2)\n",
      "Requirement already satisfied: torchvision in c:\\users\\jilly\\desktop\\vs_venv\\cyber\\lib\\site-packages (from sentence-transformers==2.2.2->-r requirements.txt (line 1)) (0.16.0)\n",
      "Requirement already satisfied: scikit-learn in c:\\users\\jilly\\desktop\\vs_venv\\cyber\\lib\\site-packages (from sentence-transformers==2.2.2->-r requirements.txt (line 1)) (1.3.2)\n",
      "Requirement already satisfied: scipy in c:\\users\\jilly\\desktop\\vs_venv\\cyber\\lib\\site-packages (from sentence-transformers==2.2.2->-r requirements.txt (line 1)) (1.11.4)\n",
      "Requirement already satisfied: nltk in c:\\users\\jilly\\desktop\\vs_venv\\cyber\\lib\\site-packages (from sentence-transformers==2.2.2->-r requirements.txt (line 1)) (3.8.1)\n",
      "Requirement already satisfied: sentencepiece in c:\\users\\jilly\\desktop\\vs_venv\\cyber\\lib\\site-packages (from sentence-transformers==2.2.2->-r requirements.txt (line 1)) (0.1.99)\n",
      "Requirement already satisfied: huggingface-hub>=0.4.0 in c:\\users\\jilly\\desktop\\vs_venv\\cyber\\lib\\site-packages (from sentence-transformers==2.2.2->-r requirements.txt (line 1)) (0.19.4)\n",
      "Requirement already satisfied: urllib3<3,>=1.26 in c:\\users\\jilly\\desktop\\vs_venv\\cyber\\lib\\site-packages (from urllib3[socks]<3,>=1.26->selenium==4.14.0->-r requirements.txt (line 2)) (2.1.0)\n",
      "Requirement already satisfied: trio~=0.17 in c:\\users\\jilly\\desktop\\vs_venv\\cyber\\lib\\site-packages (from selenium==4.14.0->-r requirements.txt (line 2)) (0.23.1)\n",
      "Requirement already satisfied: trio-websocket~=0.9 in c:\\users\\jilly\\desktop\\vs_venv\\cyber\\lib\\site-packages (from selenium==4.14.0->-r requirements.txt (line 2)) (0.11.1)\n",
      "Requirement already satisfied: certifi>=2021.10.8 in c:\\users\\jilly\\desktop\\vs_venv\\cyber\\lib\\site-packages (from selenium==4.14.0->-r requirements.txt (line 2)) (2023.11.17)\n",
      "Requirement already satisfied: backcall in c:\\users\\jilly\\desktop\\vs_venv\\cyber\\lib\\site-packages (from ipython==8.16.1->-r requirements.txt (line 3)) (0.2.0)\n",
      "Requirement already satisfied: decorator in c:\\users\\jilly\\desktop\\vs_venv\\cyber\\lib\\site-packages (from ipython==8.16.1->-r requirements.txt (line 3)) (5.1.1)\n",
      "Requirement already satisfied: jedi>=0.16 in c:\\users\\jilly\\desktop\\vs_venv\\cyber\\lib\\site-packages (from ipython==8.16.1->-r requirements.txt (line 3)) (0.19.1)\n",
      "Requirement already satisfied: matplotlib-inline in c:\\users\\jilly\\desktop\\vs_venv\\cyber\\lib\\site-packages (from ipython==8.16.1->-r requirements.txt (line 3)) (0.1.6)\n",
      "Requirement already satisfied: pickleshare in c:\\users\\jilly\\desktop\\vs_venv\\cyber\\lib\\site-packages (from ipython==8.16.1->-r requirements.txt (line 3)) (0.7.5)\n",
      "Requirement already satisfied: prompt-toolkit!=3.0.37,<3.1.0,>=3.0.30 in c:\\users\\jilly\\desktop\\vs_venv\\cyber\\lib\\site-packages (from ipython==8.16.1->-r requirements.txt (line 3)) (3.0.41)\n",
      "Requirement already satisfied: pygments>=2.4.0 in c:\\users\\jilly\\desktop\\vs_venv\\cyber\\lib\\site-packages (from ipython==8.16.1->-r requirements.txt (line 3)) (2.17.2)\n",
      "Requirement already satisfied: stack-data in c:\\users\\jilly\\desktop\\vs_venv\\cyber\\lib\\site-packages (from ipython==8.16.1->-r requirements.txt (line 3)) (0.6.3)\n",
      "Requirement already satisfied: traitlets>=5 in c:\\users\\jilly\\desktop\\vs_venv\\cyber\\lib\\site-packages (from ipython==8.16.1->-r requirements.txt (line 3)) (5.14.0)\n",
      "Requirement already satisfied: colorama in c:\\users\\jilly\\desktop\\vs_venv\\cyber\\lib\\site-packages (from ipython==8.16.1->-r requirements.txt (line 3)) (0.4.6)\n",
      "Requirement already satisfied: filelock in c:\\users\\jilly\\desktop\\vs_venv\\cyber\\lib\\site-packages (from torch==2.1.0->-r requirements.txt (line 4)) (3.13.1)\n",
      "Requirement already satisfied: typing-extensions in c:\\users\\jilly\\desktop\\vs_venv\\cyber\\lib\\site-packages (from torch==2.1.0->-r requirements.txt (line 4)) (4.8.0)\n",
      "Requirement already satisfied: sympy in c:\\users\\jilly\\desktop\\vs_venv\\cyber\\lib\\site-packages (from torch==2.1.0->-r requirements.txt (line 4)) (1.12)\n",
      "Requirement already satisfied: networkx in c:\\users\\jilly\\desktop\\vs_venv\\cyber\\lib\\site-packages (from torch==2.1.0->-r requirements.txt (line 4)) (3.2.1)\n",
      "Requirement already satisfied: jinja2 in c:\\users\\jilly\\desktop\\vs_venv\\cyber\\lib\\site-packages (from torch==2.1.0->-r requirements.txt (line 4)) (3.1.2)\n",
      "Requirement already satisfied: fsspec in c:\\users\\jilly\\desktop\\vs_venv\\cyber\\lib\\site-packages (from torch==2.1.0->-r requirements.txt (line 4)) (2023.10.0)\n",
      "Requirement already satisfied: charset-normalizer<4,>=2 in c:\\users\\jilly\\desktop\\vs_venv\\cyber\\lib\\site-packages (from requests==2.31.0->-r requirements.txt (line 5)) (3.3.2)\n",
      "Requirement already satisfied: idna<4,>=2.5 in c:\\users\\jilly\\desktop\\vs_venv\\cyber\\lib\\site-packages (from requests==2.31.0->-r requirements.txt (line 5)) (3.6)\n",
      "Requirement already satisfied: soupsieve>1.2 in c:\\users\\jilly\\desktop\\vs_venv\\cyber\\lib\\site-packages (from beautifulsoup4==4.12.2->-r requirements.txt (line 7)) (2.5)\n",
      "Requirement already satisfied: python-dateutil>=2.8.2 in c:\\users\\jilly\\desktop\\vs_venv\\cyber\\lib\\site-packages (from pandas==2.1.1->-r requirements.txt (line 8)) (2.8.2)\n",
      "Requirement already satisfied: pytz>=2020.1 in c:\\users\\jilly\\desktop\\vs_venv\\cyber\\lib\\site-packages (from pandas==2.1.1->-r requirements.txt (line 8)) (2023.3.post1)\n",
      "Requirement already satisfied: tzdata>=2022.1 in c:\\users\\jilly\\desktop\\vs_venv\\cyber\\lib\\site-packages (from pandas==2.1.1->-r requirements.txt (line 8)) (2023.3)\n",
      "Requirement already satisfied: et-xmlfile in c:\\users\\jilly\\desktop\\vs_venv\\cyber\\lib\\site-packages (from openpyxl==3.1.2->-r requirements.txt (line 10)) (1.1.0)\n",
      "Requirement already satisfied: pyyaml>=5.1 in c:\\users\\jilly\\desktop\\vs_venv\\cyber\\lib\\site-packages (from huggingface-hub>=0.4.0->sentence-transformers==2.2.2->-r requirements.txt (line 1)) (6.0.1)\n",
      "Requirement already satisfied: packaging>=20.9 in c:\\users\\jilly\\desktop\\vs_venv\\cyber\\lib\\site-packages (from huggingface-hub>=0.4.0->sentence-transformers==2.2.2->-r requirements.txt (line 1)) (23.2)\n",
      "Requirement already satisfied: parso<0.9.0,>=0.8.3 in c:\\users\\jilly\\desktop\\vs_venv\\cyber\\lib\\site-packages (from jedi>=0.16->ipython==8.16.1->-r requirements.txt (line 3)) (0.8.3)\n",
      "Requirement already satisfied: wcwidth in c:\\users\\jilly\\desktop\\vs_venv\\cyber\\lib\\site-packages (from prompt-toolkit!=3.0.37,<3.1.0,>=3.0.30->ipython==8.16.1->-r requirements.txt (line 3)) (0.2.12)\n",
      "Requirement already satisfied: six>=1.5 in c:\\users\\jilly\\desktop\\vs_venv\\cyber\\lib\\site-packages (from python-dateutil>=2.8.2->pandas==2.1.1->-r requirements.txt (line 8)) (1.16.0)\n",
      "Requirement already satisfied: regex!=2019.12.17 in c:\\users\\jilly\\desktop\\vs_venv\\cyber\\lib\\site-packages (from transformers<5.0.0,>=4.6.0->sentence-transformers==2.2.2->-r requirements.txt (line 1)) (2023.10.3)\n",
      "Requirement already satisfied: tokenizers<0.19,>=0.14 in c:\\users\\jilly\\desktop\\vs_venv\\cyber\\lib\\site-packages (from transformers<5.0.0,>=4.6.0->sentence-transformers==2.2.2->-r requirements.txt (line 1)) (0.15.0)\n",
      "Requirement already satisfied: safetensors>=0.3.1 in c:\\users\\jilly\\desktop\\vs_venv\\cyber\\lib\\site-packages (from transformers<5.0.0,>=4.6.0->sentence-transformers==2.2.2->-r requirements.txt (line 1)) (0.4.1)\n",
      "Requirement already satisfied: attrs>=20.1.0 in c:\\users\\jilly\\desktop\\vs_venv\\cyber\\lib\\site-packages (from trio~=0.17->selenium==4.14.0->-r requirements.txt (line 2)) (23.1.0)\n",
      "Requirement already satisfied: sortedcontainers in c:\\users\\jilly\\desktop\\vs_venv\\cyber\\lib\\site-packages (from trio~=0.17->selenium==4.14.0->-r requirements.txt (line 2)) (2.4.0)\n",
      "Requirement already satisfied: outcome in c:\\users\\jilly\\desktop\\vs_venv\\cyber\\lib\\site-packages (from trio~=0.17->selenium==4.14.0->-r requirements.txt (line 2)) (1.3.0.post0)\n",
      "Requirement already satisfied: sniffio>=1.3.0 in c:\\users\\jilly\\desktop\\vs_venv\\cyber\\lib\\site-packages (from trio~=0.17->selenium==4.14.0->-r requirements.txt (line 2)) (1.3.0)\n",
      "Requirement already satisfied: cffi>=1.14 in c:\\users\\jilly\\desktop\\vs_venv\\cyber\\lib\\site-packages (from trio~=0.17->selenium==4.14.0->-r requirements.txt (line 2)) (1.16.0)\n",
      "Requirement already satisfied: wsproto>=0.14 in c:\\users\\jilly\\desktop\\vs_venv\\cyber\\lib\\site-packages (from trio-websocket~=0.9->selenium==4.14.0->-r requirements.txt (line 2)) (1.2.0)\n",
      "Requirement already satisfied: pysocks!=1.5.7,<2.0,>=1.5.6 in c:\\users\\jilly\\desktop\\vs_venv\\cyber\\lib\\site-packages (from urllib3[socks]<3,>=1.26->selenium==4.14.0->-r requirements.txt (line 2)) (1.7.1)\n",
      "Requirement already satisfied: MarkupSafe>=2.0 in c:\\users\\jilly\\desktop\\vs_venv\\cyber\\lib\\site-packages (from jinja2->torch==2.1.0->-r requirements.txt (line 4)) (2.1.3)\n",
      "Requirement already satisfied: click in c:\\users\\jilly\\desktop\\vs_venv\\cyber\\lib\\site-packages (from nltk->sentence-transformers==2.2.2->-r requirements.txt (line 1)) (8.1.7)\n",
      "Requirement already satisfied: joblib in c:\\users\\jilly\\desktop\\vs_venv\\cyber\\lib\\site-packages (from nltk->sentence-transformers==2.2.2->-r requirements.txt (line 1)) (1.3.2)\n",
      "Requirement already satisfied: threadpoolctl>=2.0.0 in c:\\users\\jilly\\desktop\\vs_venv\\cyber\\lib\\site-packages (from scikit-learn->sentence-transformers==2.2.2->-r requirements.txt (line 1)) (3.2.0)\n",
      "Requirement already satisfied: executing>=1.2.0 in c:\\users\\jilly\\desktop\\vs_venv\\cyber\\lib\\site-packages (from stack-data->ipython==8.16.1->-r requirements.txt (line 3)) (2.0.1)\n",
      "Requirement already satisfied: asttokens>=2.1.0 in c:\\users\\jilly\\desktop\\vs_venv\\cyber\\lib\\site-packages (from stack-data->ipython==8.16.1->-r requirements.txt (line 3)) (2.4.1)\n",
      "Requirement already satisfied: pure-eval in c:\\users\\jilly\\desktop\\vs_venv\\cyber\\lib\\site-packages (from stack-data->ipython==8.16.1->-r requirements.txt (line 3)) (0.2.2)\n",
      "Requirement already satisfied: mpmath>=0.19 in c:\\users\\jilly\\desktop\\vs_venv\\cyber\\lib\\site-packages (from sympy->torch==2.1.0->-r requirements.txt (line 4)) (1.3.0)\n",
      "Requirement already satisfied: pillow!=8.3.*,>=5.3.0 in c:\\users\\jilly\\desktop\\vs_venv\\cyber\\lib\\site-packages (from torchvision->sentence-transformers==2.2.2->-r requirements.txt (line 1)) (10.1.0)\n",
      "Requirement already satisfied: pycparser in c:\\users\\jilly\\desktop\\vs_venv\\cyber\\lib\\site-packages (from cffi>=1.14->trio~=0.17->selenium==4.14.0->-r requirements.txt (line 2)) (2.21)\n",
      "Requirement already satisfied: h11<1,>=0.9.0 in c:\\users\\jilly\\desktop\\vs_venv\\cyber\\lib\\site-packages (from wsproto>=0.14->trio-websocket~=0.9->selenium==4.14.0->-r requirements.txt (line 2)) (0.14.0)\n"
     ]
    },
    {
     "name": "stderr",
     "output_type": "stream",
     "text": [
      "`text_config_dict` is provided which will be used to initialize `CLIPTextConfig`. The value `text_config[\"id2label\"]` will be overriden.\n",
      "`text_config_dict` is provided which will be used to initialize `CLIPTextConfig`. The value `text_config[\"bos_token_id\"]` will be overriden.\n",
      "`text_config_dict` is provided which will be used to initialize `CLIPTextConfig`. The value `text_config[\"eos_token_id\"]` will be overriden.\n"
     ]
    },
    {
     "name": "stdout",
     "output_type": "stream",
     "text": [
      "WARNING:tensorflow:From c:\\Users\\jilly\\Desktop\\VS_Venv\\cyber\\Lib\\site-packages\\keras\\src\\losses.py:2976: The name tf.losses.sparse_softmax_cross_entropy is deprecated. Please use tf.compat.v1.losses.sparse_softmax_cross_entropy instead.\n",
      "\n"
     ]
    }
   ],
   "source": [
    "#Possibly have to run pip install --upgrade jupyter and pip install --upgrade ipywidgets\n",
    "!pip install --upgrade jupyter\n",
    "!pip install --upgrade ipywidgets\n",
    "!pip install -r requirements.txt\n",
    "from selenium import webdriver\n",
    "from selenium.webdriver.common.by import By\n",
    "from selenium.webdriver.support.ui import WebDriverWait\n",
    "from selenium.webdriver.support import expected_conditions as EC\n",
    "from sentence_transformers import SentenceTransformer, util\n",
    "from PIL import Image\n",
    "import torch\n",
    "import pickle\n",
    "import zipfile\n",
    "from IPython.display import display\n",
    "from IPython.display import Image as IPImage\n",
    "import os\n",
    "from tqdm.autonotebook import tqdm\n",
    "import re\n",
    "import requests\n",
    "from bs4 import BeautifulSoup\n",
    "import pandas as pd\n",
    "import numpy as np\n",
    "import datetime\n",
    "import shutil\n",
    "import time\n",
    "import glob\n",
    "from concurrent.futures import ThreadPoolExecutor\n",
    "from datetime import datetime, timedelta\n",
    "import json\n",
    "\n",
    "torch.set_num_threads(4)\n",
    "\n",
    "model = SentenceTransformer('clip-ViT-L-14')"
   ]
  },
  {
   "cell_type": "code",
   "execution_count": 2,
   "metadata": {},
   "outputs": [],
   "source": [
    "# List of terms to scrape from https://relatedwords.io. \n",
    "cyber_terms = [\"Cyber Security\", \"Cybersecurity\", \"Information Security\"] # Limited to three for testing, but can be expanded.\n",
    "\n",
    "# Create an empty set for cyber_terms for future querying. Set was used to prevent duplicates from being updated.\n",
    "cyber_master_set = set()\n",
    "\n",
    "# Open a request session to https://relatedwords.io. The will scrape all terms related to each intry in the cyber_terms list.\n",
    "with requests.Session() as session:\n",
    "    for term in cyber_terms:\n",
    "        url = f\"https://relatedwords.io/{term.lower()}\"\n",
    "        response = session.get(url)\n",
    "        if response.status_code == 200:\n",
    "            soup = BeautifulSoup(response.text, \"html.parser\")\n",
    "            elements_with_data_term = soup.find_all(attrs={\"data-term\": True}) # Identies all data-term attribute elements in the webpage HTML.\n",
    "            data_term_set = {element[\"data-term\"] for element in elements_with_data_term} # scrapes the terms inside of the data-term attribute and adds them to the data_term_set\n",
    "            cyber_master_set.update(data_term_set)\n",
    "        else:\n",
    "            print(f\"Failed to fetch the webpage for {term}\")\n",
    "cyber_master_list = list(cyber_master_set) #convert set to list"
   ]
  },
  {
   "cell_type": "code",
   "execution_count": 3,
   "metadata": {},
   "outputs": [
    {
     "name": "stdout",
     "output_type": "stream",
     "text": [
      "974\n",
      "['fencer', 'rome laboratory', 'backdoor', 'access', 'kiss and tell']\n"
     ]
    }
   ],
   "source": [
    "# Print the number of entries in the cyber_master_list\n",
    "print(len(cyber_master_list))\n",
    "\n",
    "# return the top 30 terms of the list\n",
    "cyber_master_list = cyber_master_list[:5]\n",
    "\n",
    "print(cyber_master_list)"
   ]
  },
  {
   "cell_type": "code",
   "execution_count": 4,
   "metadata": {},
   "outputs": [],
   "source": [
    "# def scrape_gdelt_for_date(date, hashtag):\n",
    "#     url = f\"https://api.gdeltproject.org/api/v2/tvv/tvv?date={date}#{hashtag}\"\n",
    "#     filename = f\"./TXT_Files/{date}_{hashtag}.txt\"\n",
    "#     driver = webdriver.Edge()\n",
    "#     driver.get(url)\n",
    "#     wait = WebDriverWait(driver, 10)\n",
    "#     container = wait.until(EC.presence_of_element_located((By.XPATH, \"//div[@class='itemdetails-container']\")))\n",
    "#     items = container.find_elements(By.XPATH, \"//div[@class='itemdetails-item']\")\n",
    "#     records_found = False\n",
    "#     record_count = 0\n",
    "    \n",
    "#     # StartTimes list initailization\n",
    "#     start_times = []\n",
    "#     with open(filename, 'w', encoding='utf-8') as text_file:\n",
    "#         for item in items:\n",
    "#             link = item.find_element(By.TAG_NAME, 'a').get_attribute('href')\n",
    "#             if link.startswith(f\"https://api.gdeltproject.org/api/v2/tvv/tvv?id={hashtag}\"):\n",
    "#                 records_found = True\n",
    "#                 record_count += 1\n",
    "#                 image = item.find_element(By.TAG_NAME, 'img').get_attribute('src')\n",
    "#                 description = item.find_element(By.TAG_NAME, 'p').text\n",
    "#                 text_file.write(f\"Link: {link}\\nImage: {image}\\nDescription: {description}\\nStartTime: \\n\\n\")\n",
    "#     if records_found:\n",
    "#         print(f\"{record_count} records found for the requested date.\")\n",
    "#     else:\n",
    "#         print(\"No records found/available for the requested date.\")\n",
    "#     return driver, filename\n",
    "\n",
    "# # Extracting StartTimes from tabs\n",
    "# def open_links_in_tabs(driver, filename):\n",
    "#     with open(filename, \"r\", encoding=\"utf-8\") as file:\n",
    "#         lines = file.readlines()\n",
    "#     # List for unique window handles\n",
    "#     window_handles = []\n",
    "#     new_start_times = []\n",
    "#     for index, line in enumerate(lines):\n",
    "#         if line.startswith(\"Link: \"):\n",
    "#             link = line.replace(\"Link: \", \"\").strip()\n",
    "#             #This verifies if the link is already opened\n",
    "#             if link not in window_handles:\n",
    "#                 # Link opened in new tab\n",
    "#                 driver.execute_script(f'window.open(\"{link}\", \"_blank\");')\n",
    "#                 window_handles.append(link)\n",
    "#                 driver.switch_to.window(driver.window_handles[-1])\n",
    "#                 try:\n",
    "#                     wait = WebDriverWait(driver, 15)\n",
    "#                     # wait for the 'imagemap' element to load\n",
    "#                     thumbnails = wait.until(EC.presence_of_element_located((By.NAME, 'imagemap')))\n",
    "#                     # Executing the playClip JavaScript function\n",
    "#                     driver.execute_script('playClip(0);')\n",
    "#                     #Timestamp extraction from the URL\n",
    "#                     match = re.search(r'&play=(\\d+)', driver.current_url)\n",
    "#                     if match:\n",
    "#                         timestamp = match.group(1)\n",
    "#                         new_start_times.append(timestamp)\n",
    "#                     else:\n",
    "#                         timestamp = \"N/A\"\n",
    "#                     # Find the inex of the current \"StartTime: \" line\n",
    "#                     line_index = index\n",
    "#                     while line_index >= 0 and not lines[line_index].startswith(\"StartTime: \"):\n",
    "#                         line_index -= 1\n",
    "#                     # Current StartTime:\" line update\n",
    "#                     if line_index >= 0:\n",
    "#                         lines[line_index] = f\"StartTime: {timestamp}\\n\"\n",
    "#                 except Exception as e:\n",
    "#                     print(f\"Error while interacting with the page: {e}\")\n",
    "#     for link in window_handles:\n",
    "#         driver.switch_to.window(driver.window_handles[-1])\n",
    "#         driver.close()\n",
    "#         driver.switch_to.window(driver.window_handles[0])\n",
    "#     append_start_times_to_document(new_start_times)\n",
    "#     driver.quit()\n",
    "\n",
    "# def append_start_times_to_document(start_times, document_name='./TXT_Files/start_times.txt'):\n",
    "#     with open(document_name, 'a', encoding='utf-8') as file:\n",
    "#         for start_time in start_times:\n",
    "#             file.write(str(start_time) + '\\n')\n",
    "                \n",
    "# def integrate_start_times_with_content(filename):\n",
    "#     with open('./TXT_Files/start_times.txt', 'r') as start_time_file:\n",
    "#         start_times = start_time_file.readlines()\n",
    "#     with open(filename, 'r') as other_file:\n",
    "#         lines = other_file.readlines()\n",
    "#     final_content = []\n",
    "#     start_time_index = 0\n",
    "#     for line in lines:\n",
    "#         if \"StartTime:\" in line:\n",
    "#             final_content.append(line.strip() + \" \" + start_times[start_time_index].strip() + \"\\n\")\n",
    "#             start_time_index += 1\n",
    "#         else:\n",
    "#             final_content.append(line)\n",
    "#     with open(filename, 'w') as other_file:\n",
    "#         other_file.writelines(final_content)\n",
    "#     os.remove('./TXT_Files/start_times.txt')\n",
    "\n",
    "# user_date = input(\"Enter the date (in the format YYYYMMDD): \") # Restricted to one specific date for testing purposes. \n",
    "# hashtags = [\"KGO\", \"CNN\", \"FOXNEWS\"] # List of three US News stations available on GDELT Project. Open Source and Publicly available.\n",
    "# for hashtag in hashtags:\n",
    "#     driver, filename = scrape_gdelt_for_date(user_date, hashtag)\n",
    "#     open_links_in_tabs(driver, filename)\n",
    "#     integrate_start_times_with_content(filename)"
   ]
  },
  {
   "cell_type": "code",
   "execution_count": 5,
   "metadata": {},
   "outputs": [
    {
     "name": "stdout",
     "output_type": "stream",
     "text": [
      "25 records found for 20231123.\n",
      "Images for showid CNNW_20231124_070000_CNN_Newsroom_Live: 915\n"
     ]
    },
    {
     "data": {
      "application/vnd.jupyter.widget-view+json": {
       "model_id": "62605cebd8af4466bf614a1fbb60470c",
       "version_major": 2,
       "version_minor": 0
      },
      "text/plain": [
       "Batches:   0%|          | 0/8 [00:00<?, ?it/s]"
      ]
     },
     "metadata": {},
     "output_type": "display_data"
    },
    {
     "name": "stdout",
     "output_type": "stream",
     "text": [
      "Images for showid CNNW_20231124_060000_CNN_Newsroom_Live: 915\n"
     ]
    },
    {
     "data": {
      "application/vnd.jupyter.widget-view+json": {
       "model_id": "d4d8cb3c2bc94744915528da57658ddd",
       "version_major": 2,
       "version_minor": 0
      },
      "text/plain": [
       "Batches:   0%|          | 0/8 [00:00<?, ?it/s]"
      ]
     },
     "metadata": {},
     "output_type": "display_data"
    },
    {
     "name": "stdout",
     "output_type": "stream",
     "text": [
      "Images for showid CNNW_20231124_050000_CNN_Newsroom_Live: 915\n"
     ]
    },
    {
     "data": {
      "application/vnd.jupyter.widget-view+json": {
       "model_id": "ee5aaf8983374b79a27711aff09a679b",
       "version_major": 2,
       "version_minor": 0
      },
      "text/plain": [
       "Batches:   0%|          | 0/8 [00:00<?, ?it/s]"
      ]
     },
     "metadata": {},
     "output_type": "display_data"
    },
    {
     "name": "stdout",
     "output_type": "stream",
     "text": [
      "Images for showid CNNW_20231124_040000_The_Whole_Story_With_Anderson_Cooper: 915\n"
     ]
    },
    {
     "data": {
      "application/vnd.jupyter.widget-view+json": {
       "model_id": "82cee09b6f874d12ac63b08be124af58",
       "version_major": 2,
       "version_minor": 0
      },
      "text/plain": [
       "Batches:   0%|          | 0/8 [00:00<?, ?it/s]"
      ]
     },
     "metadata": {},
     "output_type": "display_data"
    },
    {
     "name": "stdout",
     "output_type": "stream",
     "text": [
      "Images for showid CNNW_20231124_030000_The_Source_With_Kaitlan_Collins: 915\n"
     ]
    },
    {
     "data": {
      "application/vnd.jupyter.widget-view+json": {
       "model_id": "5f668d7de3e4490b84cd06aae26e531a",
       "version_major": 2,
       "version_minor": 0
      },
      "text/plain": [
       "Batches:   0%|          | 0/8 [00:00<?, ?it/s]"
      ]
     },
     "metadata": {},
     "output_type": "display_data"
    },
    {
     "name": "stdout",
     "output_type": "stream",
     "text": [
      "Images for showid CNNW_20231124_020000_The_Source_With_Kaitlan_Collins: 915\n"
     ]
    },
    {
     "data": {
      "application/vnd.jupyter.widget-view+json": {
       "model_id": "960b62584ac54ca6aac7151ba4563734",
       "version_major": 2,
       "version_minor": 0
      },
      "text/plain": [
       "Batches:   0%|          | 0/8 [00:00<?, ?it/s]"
      ]
     },
     "metadata": {},
     "output_type": "display_data"
    },
    {
     "name": "stdout",
     "output_type": "stream",
     "text": [
      "Images for showid CNNW_20231124_010000_The_Source_With_Kaitlan_Collins: 915\n"
     ]
    },
    {
     "data": {
      "application/vnd.jupyter.widget-view+json": {
       "model_id": "9371c3a9eb9d43619bab999d967a0852",
       "version_major": 2,
       "version_minor": 0
      },
      "text/plain": [
       "Batches:   0%|          | 0/8 [00:00<?, ?it/s]"
      ]
     },
     "metadata": {},
     "output_type": "display_data"
    },
    {
     "name": "stdout",
     "output_type": "stream",
     "text": [
      "Images for showid CNNW_20231124_000000_The_Situation_Room_With_Wolf_Blitzer: 915\n"
     ]
    },
    {
     "data": {
      "application/vnd.jupyter.widget-view+json": {
       "model_id": "381b802d4c6a4a20998df453b9b0fbb2",
       "version_major": 2,
       "version_minor": 0
      },
      "text/plain": [
       "Batches:   0%|          | 0/8 [00:00<?, ?it/s]"
      ]
     },
     "metadata": {},
     "output_type": "display_data"
    },
    {
     "name": "stdout",
     "output_type": "stream",
     "text": [
      "Images for showid CNNW_20231123_230000_The_Situation_Room_With_Wolf_Blitzer: 915\n"
     ]
    },
    {
     "data": {
      "application/vnd.jupyter.widget-view+json": {
       "model_id": "4ff46fde128c445694cc849658e98c10",
       "version_major": 2,
       "version_minor": 0
      },
      "text/plain": [
       "Batches:   0%|          | 0/8 [00:00<?, ?it/s]"
      ]
     },
     "metadata": {},
     "output_type": "display_data"
    },
    {
     "name": "stdout",
     "output_type": "stream",
     "text": [
      "Images for showid CNNW_20231123_220000_The_Situation_Room_With_Wolf_Blitzer: 915\n"
     ]
    },
    {
     "data": {
      "application/vnd.jupyter.widget-view+json": {
       "model_id": "3efb7e0854374d4982c6c054d487d5e3",
       "version_major": 2,
       "version_minor": 0
      },
      "text/plain": [
       "Batches:   0%|          | 0/8 [00:00<?, ?it/s]"
      ]
     },
     "metadata": {},
     "output_type": "display_data"
    },
    {
     "name": "stdout",
     "output_type": "stream",
     "text": [
      "Images for showid CNNW_20231123_210000_CNN_News_Central: 915\n"
     ]
    },
    {
     "data": {
      "application/vnd.jupyter.widget-view+json": {
       "model_id": "84a8515d5b504d488ef0fd06e2b85e23",
       "version_major": 2,
       "version_minor": 0
      },
      "text/plain": [
       "Batches:   0%|          | 0/8 [00:00<?, ?it/s]"
      ]
     },
     "metadata": {},
     "output_type": "display_data"
    },
    {
     "name": "stdout",
     "output_type": "stream",
     "text": [
      "Images for showid CNNW_20231123_200000_CNN_News_Central: 915\n"
     ]
    },
    {
     "data": {
      "application/vnd.jupyter.widget-view+json": {
       "model_id": "f74eb123a5f545c5a4deed5607a387e3",
       "version_major": 2,
       "version_minor": 0
      },
      "text/plain": [
       "Batches:   0%|          | 0/8 [00:00<?, ?it/s]"
      ]
     },
     "metadata": {},
     "output_type": "display_data"
    },
    {
     "name": "stdout",
     "output_type": "stream",
     "text": [
      "Images for showid CNNW_20231123_190000_CNN_News_Central: 915\n"
     ]
    },
    {
     "data": {
      "application/vnd.jupyter.widget-view+json": {
       "model_id": "367dccf9d3a74eb8ba6fd47e8a925023",
       "version_major": 2,
       "version_minor": 0
      },
      "text/plain": [
       "Batches:   0%|          | 0/8 [00:00<?, ?it/s]"
      ]
     },
     "metadata": {},
     "output_type": "display_data"
    },
    {
     "name": "stdout",
     "output_type": "stream",
     "text": [
      "Images for showid CNNW_20231123_180000_CNN_News_Central: 915\n"
     ]
    },
    {
     "data": {
      "application/vnd.jupyter.widget-view+json": {
       "model_id": "c5ef884a771c497192f9dc4a185bc619",
       "version_major": 2,
       "version_minor": 0
      },
      "text/plain": [
       "Batches:   0%|          | 0/8 [00:00<?, ?it/s]"
      ]
     },
     "metadata": {},
     "output_type": "display_data"
    },
    {
     "name": "stdout",
     "output_type": "stream",
     "text": [
      "Images for showid CNNW_20231123_170000_Inside_Politics_With_Dana_Bash: 915\n"
     ]
    },
    {
     "data": {
      "application/vnd.jupyter.widget-view+json": {
       "model_id": "3e7438fe8de045f6999753328f508d2f",
       "version_major": 2,
       "version_minor": 0
      },
      "text/plain": [
       "Batches:   0%|          | 0/8 [00:00<?, ?it/s]"
      ]
     },
     "metadata": {},
     "output_type": "display_data"
    },
    {
     "name": "stdout",
     "output_type": "stream",
     "text": [
      "Images for showid CNNW_20231123_160000_CNN_News_Central: 915\n"
     ]
    },
    {
     "data": {
      "application/vnd.jupyter.widget-view+json": {
       "model_id": "5c487182b93943b88594b011a95609a4",
       "version_major": 2,
       "version_minor": 0
      },
      "text/plain": [
       "Batches:   0%|          | 0/8 [00:00<?, ?it/s]"
      ]
     },
     "metadata": {},
     "output_type": "display_data"
    },
    {
     "name": "stdout",
     "output_type": "stream",
     "text": [
      "Images for showid CNNW_20231123_150000_CNN_News_Central: 915\n"
     ]
    },
    {
     "data": {
      "application/vnd.jupyter.widget-view+json": {
       "model_id": "05117cf5682b4859b5c366861fa74efc",
       "version_major": 2,
       "version_minor": 0
      },
      "text/plain": [
       "Batches:   0%|          | 0/8 [00:00<?, ?it/s]"
      ]
     },
     "metadata": {},
     "output_type": "display_data"
    },
    {
     "name": "stdout",
     "output_type": "stream",
     "text": [
      "Images for showid CNNW_20231123_140000_CNN_News_Central: 915\n"
     ]
    },
    {
     "data": {
      "application/vnd.jupyter.widget-view+json": {
       "model_id": "4f1c3e9f59f34d7aa6e11efbdee0da7e",
       "version_major": 2,
       "version_minor": 0
      },
      "text/plain": [
       "Batches:   0%|          | 0/8 [00:00<?, ?it/s]"
      ]
     },
     "metadata": {},
     "output_type": "display_data"
    },
    {
     "name": "stdout",
     "output_type": "stream",
     "text": [
      "Images for showid CNNW_20231123_130000_CNN_This_Morning: 915\n"
     ]
    },
    {
     "data": {
      "application/vnd.jupyter.widget-view+json": {
       "model_id": "14e86145499c4bd4aa2f0cde67dd5852",
       "version_major": 2,
       "version_minor": 0
      },
      "text/plain": [
       "Batches:   0%|          | 0/8 [00:00<?, ?it/s]"
      ]
     },
     "metadata": {},
     "output_type": "display_data"
    },
    {
     "name": "stdout",
     "output_type": "stream",
     "text": [
      "Images for showid CNNW_20231123_120000_CNN_This_Morning: 915\n"
     ]
    },
    {
     "data": {
      "application/vnd.jupyter.widget-view+json": {
       "model_id": "5f3dae47b6fd4f4a886bcd26e9005a9e",
       "version_major": 2,
       "version_minor": 0
      },
      "text/plain": [
       "Batches:   0%|          | 0/8 [00:00<?, ?it/s]"
      ]
     },
     "metadata": {},
     "output_type": "display_data"
    },
    {
     "name": "stdout",
     "output_type": "stream",
     "text": [
      "Images for showid CNNW_20231123_110000_CNN_This_Morning: 915\n"
     ]
    },
    {
     "data": {
      "application/vnd.jupyter.widget-view+json": {
       "model_id": "f031952f87dc4945a1eee97cf090b41d",
       "version_major": 2,
       "version_minor": 0
      },
      "text/plain": [
       "Batches:   0%|          | 0/8 [00:00<?, ?it/s]"
      ]
     },
     "metadata": {},
     "output_type": "display_data"
    },
    {
     "name": "stdout",
     "output_type": "stream",
     "text": [
      "Images for showid CNNW_20231123_100000_Early_Start_With_Kasie_Hunt: 915\n"
     ]
    },
    {
     "data": {
      "application/vnd.jupyter.widget-view+json": {
       "model_id": "025be6c27c714e71bb1242ab93e053e7",
       "version_major": 2,
       "version_minor": 0
      },
      "text/plain": [
       "Batches:   0%|          | 0/8 [00:00<?, ?it/s]"
      ]
     },
     "metadata": {},
     "output_type": "display_data"
    },
    {
     "name": "stdout",
     "output_type": "stream",
     "text": [
      "Images for showid CNNW_20231123_090000_CNN_Newsroom_Live: 915\n"
     ]
    },
    {
     "data": {
      "application/vnd.jupyter.widget-view+json": {
       "model_id": "b581084783a4410faf2ea26f297bcf75",
       "version_major": 2,
       "version_minor": 0
      },
      "text/plain": [
       "Batches:   0%|          | 0/8 [00:00<?, ?it/s]"
      ]
     },
     "metadata": {},
     "output_type": "display_data"
    },
    {
     "name": "stdout",
     "output_type": "stream",
     "text": [
      "Images for showid CNNW_20231123_080000_Laura_Coates_Live: 915\n"
     ]
    },
    {
     "data": {
      "application/vnd.jupyter.widget-view+json": {
       "model_id": "64b7e537c9fd441c857b69860d971213",
       "version_major": 2,
       "version_minor": 0
      },
      "text/plain": [
       "Batches:   0%|          | 0/8 [00:00<?, ?it/s]"
      ]
     },
     "metadata": {},
     "output_type": "display_data"
    },
    {
     "name": "stdout",
     "output_type": "stream",
     "text": [
      "Images for showid CNNW_20231123_070000_CNN_NewsNight_With_Abby_Phillip: 915\n"
     ]
    },
    {
     "data": {
      "application/vnd.jupyter.widget-view+json": {
       "model_id": "39e33871062441be9d7fc89655fe1a24",
       "version_major": 2,
       "version_minor": 0
      },
      "text/plain": [
       "Batches:   0%|          | 0/8 [00:00<?, ?it/s]"
      ]
     },
     "metadata": {},
     "output_type": "display_data"
    },
    {
     "data": {
      "application/vnd.jupyter.widget-view+json": {
       "model_id": "b29b8c6ee4f543ee8beed4b1809e640f",
       "version_major": 2,
       "version_minor": 0
      },
      "text/plain": [
       "Batches:   0%|          | 0/1 [00:00<?, ?it/s]"
      ]
     },
     "metadata": {},
     "output_type": "display_data"
    },
    {
     "data": {
      "application/vnd.jupyter.widget-view+json": {
       "model_id": "8ee0125eb3e94af98436ea27eaa803e9",
       "version_major": 2,
       "version_minor": 0
      },
      "text/plain": [
       "Batches:   0%|          | 0/1 [00:00<?, ?it/s]"
      ]
     },
     "metadata": {},
     "output_type": "display_data"
    },
    {
     "data": {
      "application/vnd.jupyter.widget-view+json": {
       "model_id": "66d8ea4b96c34c64b8d6b37738de977f",
       "version_major": 2,
       "version_minor": 0
      },
      "text/plain": [
       "Batches:   0%|          | 0/1 [00:00<?, ?it/s]"
      ]
     },
     "metadata": {},
     "output_type": "display_data"
    },
    {
     "data": {
      "application/vnd.jupyter.widget-view+json": {
       "model_id": "15ae717562654c7799db1254c80b3a1d",
       "version_major": 2,
       "version_minor": 0
      },
      "text/plain": [
       "Batches:   0%|          | 0/1 [00:00<?, ?it/s]"
      ]
     },
     "metadata": {},
     "output_type": "display_data"
    },
    {
     "data": {
      "application/vnd.jupyter.widget-view+json": {
       "model_id": "9f4cef5e4c78440c94d5504c2767b5ee",
       "version_major": 2,
       "version_minor": 0
      },
      "text/plain": [
       "Batches:   0%|          | 0/1 [00:00<?, ?it/s]"
      ]
     },
     "metadata": {},
     "output_type": "display_data"
    },
    {
     "data": {
      "application/vnd.jupyter.widget-view+json": {
       "model_id": "cb744f87ab984dbe822b30f7f033f567",
       "version_major": 2,
       "version_minor": 0
      },
      "text/plain": [
       "Batches:   0%|          | 0/29 [00:00<?, ?it/s]"
      ]
     },
     "metadata": {},
     "output_type": "display_data"
    },
    {
     "data": {
      "application/vnd.jupyter.widget-view+json": {
       "model_id": "16948dc57fc442e884e196705741fd21",
       "version_major": 2,
       "version_minor": 0
      },
      "text/plain": [
       "Batches:   0%|          | 0/29 [00:00<?, ?it/s]"
      ]
     },
     "metadata": {},
     "output_type": "display_data"
    },
    {
     "data": {
      "application/vnd.jupyter.widget-view+json": {
       "model_id": "de4fb9e56f8d4985aef6cdf721911c96",
       "version_major": 2,
       "version_minor": 0
      },
      "text/plain": [
       "Batches:   0%|          | 0/29 [00:00<?, ?it/s]"
      ]
     },
     "metadata": {},
     "output_type": "display_data"
    },
    {
     "data": {
      "application/vnd.jupyter.widget-view+json": {
       "model_id": "433a360e7edd4ef69ded0788c372a7ba",
       "version_major": 2,
       "version_minor": 0
      },
      "text/plain": [
       "Batches:   0%|          | 0/29 [00:00<?, ?it/s]"
      ]
     },
     "metadata": {},
     "output_type": "display_data"
    },
    {
     "data": {
      "application/vnd.jupyter.widget-view+json": {
       "model_id": "88b6f2eeb44b49d29be0a92b209cc2e4",
       "version_major": 2,
       "version_minor": 0
      },
      "text/plain": [
       "Batches:   0%|          | 0/29 [00:00<?, ?it/s]"
      ]
     },
     "metadata": {},
     "output_type": "display_data"
    },
    {
     "data": {
      "application/vnd.jupyter.widget-view+json": {
       "model_id": "d70e8f9fca304e9fb1f8a75406bae88d",
       "version_major": 2,
       "version_minor": 0
      },
      "text/plain": [
       "Batches:   0%|          | 0/1 [00:00<?, ?it/s]"
      ]
     },
     "metadata": {},
     "output_type": "display_data"
    },
    {
     "data": {
      "application/vnd.jupyter.widget-view+json": {
       "model_id": "f85d4e13fded4a2fa391d5c951192c2e",
       "version_major": 2,
       "version_minor": 0
      },
      "text/plain": [
       "Batches:   0%|          | 0/1 [00:00<?, ?it/s]"
      ]
     },
     "metadata": {},
     "output_type": "display_data"
    },
    {
     "data": {
      "application/vnd.jupyter.widget-view+json": {
       "model_id": "c00ef26097e84e2d8cce64e23d211077",
       "version_major": 2,
       "version_minor": 0
      },
      "text/plain": [
       "Batches:   0%|          | 0/1 [00:00<?, ?it/s]"
      ]
     },
     "metadata": {},
     "output_type": "display_data"
    },
    {
     "data": {
      "application/vnd.jupyter.widget-view+json": {
       "model_id": "7a887d5522ba4a46a77f9325b9db6238",
       "version_major": 2,
       "version_minor": 0
      },
      "text/plain": [
       "Batches:   0%|          | 0/1 [00:00<?, ?it/s]"
      ]
     },
     "metadata": {},
     "output_type": "display_data"
    },
    {
     "data": {
      "application/vnd.jupyter.widget-view+json": {
       "model_id": "9d6a4142617e4fd081cf9b097197c844",
       "version_major": 2,
       "version_minor": 0
      },
      "text/plain": [
       "Batches:   0%|          | 0/1 [00:00<?, ?it/s]"
      ]
     },
     "metadata": {},
     "output_type": "display_data"
    },
    {
     "data": {
      "application/vnd.jupyter.widget-view+json": {
       "model_id": "1761e007bdc4418986e860ccc6ae6fd7",
       "version_major": 2,
       "version_minor": 0
      },
      "text/plain": [
       "Batches:   0%|          | 0/29 [00:00<?, ?it/s]"
      ]
     },
     "metadata": {},
     "output_type": "display_data"
    },
    {
     "data": {
      "application/vnd.jupyter.widget-view+json": {
       "model_id": "44a82400370843d5b60232775e3907a1",
       "version_major": 2,
       "version_minor": 0
      },
      "text/plain": [
       "Batches:   0%|          | 0/29 [00:00<?, ?it/s]"
      ]
     },
     "metadata": {},
     "output_type": "display_data"
    },
    {
     "data": {
      "application/vnd.jupyter.widget-view+json": {
       "model_id": "0e10d074f3a34affa300014f14aee6bc",
       "version_major": 2,
       "version_minor": 0
      },
      "text/plain": [
       "Batches:   0%|          | 0/29 [00:00<?, ?it/s]"
      ]
     },
     "metadata": {},
     "output_type": "display_data"
    },
    {
     "data": {
      "application/vnd.jupyter.widget-view+json": {
       "model_id": "5aa31787e4f040e89ec336fcbe982d25",
       "version_major": 2,
       "version_minor": 0
      },
      "text/plain": [
       "Batches:   0%|          | 0/29 [00:00<?, ?it/s]"
      ]
     },
     "metadata": {},
     "output_type": "display_data"
    },
    {
     "data": {
      "application/vnd.jupyter.widget-view+json": {
       "model_id": "d4bd96ba2321409ba5bb6d5377480b8e",
       "version_major": 2,
       "version_minor": 0
      },
      "text/plain": [
       "Batches:   0%|          | 0/29 [00:00<?, ?it/s]"
      ]
     },
     "metadata": {},
     "output_type": "display_data"
    },
    {
     "data": {
      "application/vnd.jupyter.widget-view+json": {
       "model_id": "6c2525dacb014f2db5eb03af34037d2c",
       "version_major": 2,
       "version_minor": 0
      },
      "text/plain": [
       "Batches:   0%|          | 0/1 [00:00<?, ?it/s]"
      ]
     },
     "metadata": {},
     "output_type": "display_data"
    },
    {
     "data": {
      "application/vnd.jupyter.widget-view+json": {
       "model_id": "348edf1f0a0f41dd9af761aeacc1cbd2",
       "version_major": 2,
       "version_minor": 0
      },
      "text/plain": [
       "Batches:   0%|          | 0/1 [00:00<?, ?it/s]"
      ]
     },
     "metadata": {},
     "output_type": "display_data"
    },
    {
     "data": {
      "application/vnd.jupyter.widget-view+json": {
       "model_id": "507515ffd025401aa44a254378b65b19",
       "version_major": 2,
       "version_minor": 0
      },
      "text/plain": [
       "Batches:   0%|          | 0/1 [00:00<?, ?it/s]"
      ]
     },
     "metadata": {},
     "output_type": "display_data"
    },
    {
     "data": {
      "application/vnd.jupyter.widget-view+json": {
       "model_id": "66bbec0fde4143bebce8c9ef34e7e778",
       "version_major": 2,
       "version_minor": 0
      },
      "text/plain": [
       "Batches:   0%|          | 0/1 [00:00<?, ?it/s]"
      ]
     },
     "metadata": {},
     "output_type": "display_data"
    },
    {
     "data": {
      "application/vnd.jupyter.widget-view+json": {
       "model_id": "428aa8c32f9a4e1d9ea97176db7638d6",
       "version_major": 2,
       "version_minor": 0
      },
      "text/plain": [
       "Batches:   0%|          | 0/1 [00:00<?, ?it/s]"
      ]
     },
     "metadata": {},
     "output_type": "display_data"
    },
    {
     "data": {
      "application/vnd.jupyter.widget-view+json": {
       "model_id": "89795705aac34a3aafb35f7d2233592f",
       "version_major": 2,
       "version_minor": 0
      },
      "text/plain": [
       "Batches:   0%|          | 0/29 [00:00<?, ?it/s]"
      ]
     },
     "metadata": {},
     "output_type": "display_data"
    },
    {
     "data": {
      "application/vnd.jupyter.widget-view+json": {
       "model_id": "75bd82efa11845b096750430539bbdd4",
       "version_major": 2,
       "version_minor": 0
      },
      "text/plain": [
       "Batches:   0%|          | 0/29 [00:00<?, ?it/s]"
      ]
     },
     "metadata": {},
     "output_type": "display_data"
    },
    {
     "data": {
      "application/vnd.jupyter.widget-view+json": {
       "model_id": "31dd28daa0414263bf36811518d60d7e",
       "version_major": 2,
       "version_minor": 0
      },
      "text/plain": [
       "Batches:   0%|          | 0/29 [00:00<?, ?it/s]"
      ]
     },
     "metadata": {},
     "output_type": "display_data"
    },
    {
     "data": {
      "application/vnd.jupyter.widget-view+json": {
       "model_id": "3f39fe1a513e436291d58610bbd1cc7a",
       "version_major": 2,
       "version_minor": 0
      },
      "text/plain": [
       "Batches:   0%|          | 0/29 [00:00<?, ?it/s]"
      ]
     },
     "metadata": {},
     "output_type": "display_data"
    },
    {
     "data": {
      "application/vnd.jupyter.widget-view+json": {
       "model_id": "64835aac6bd34319bf1b6d2a93db1b2a",
       "version_major": 2,
       "version_minor": 0
      },
      "text/plain": [
       "Batches:   0%|          | 0/29 [00:00<?, ?it/s]"
      ]
     },
     "metadata": {},
     "output_type": "display_data"
    },
    {
     "data": {
      "application/vnd.jupyter.widget-view+json": {
       "model_id": "2e41f464acdb40d6a8839cae80ceeb30",
       "version_major": 2,
       "version_minor": 0
      },
      "text/plain": [
       "Batches:   0%|          | 0/1 [00:00<?, ?it/s]"
      ]
     },
     "metadata": {},
     "output_type": "display_data"
    },
    {
     "data": {
      "application/vnd.jupyter.widget-view+json": {
       "model_id": "81bf136369b247adb47d26960c0d7c63",
       "version_major": 2,
       "version_minor": 0
      },
      "text/plain": [
       "Batches:   0%|          | 0/1 [00:00<?, ?it/s]"
      ]
     },
     "metadata": {},
     "output_type": "display_data"
    },
    {
     "data": {
      "application/vnd.jupyter.widget-view+json": {
       "model_id": "39900d71cd2e4c9d85f5c5134985fd55",
       "version_major": 2,
       "version_minor": 0
      },
      "text/plain": [
       "Batches:   0%|          | 0/1 [00:00<?, ?it/s]"
      ]
     },
     "metadata": {},
     "output_type": "display_data"
    },
    {
     "data": {
      "application/vnd.jupyter.widget-view+json": {
       "model_id": "1a62047a3f6a442c85f358a18aa5f6e4",
       "version_major": 2,
       "version_minor": 0
      },
      "text/plain": [
       "Batches:   0%|          | 0/1 [00:00<?, ?it/s]"
      ]
     },
     "metadata": {},
     "output_type": "display_data"
    },
    {
     "data": {
      "application/vnd.jupyter.widget-view+json": {
       "model_id": "9c9437b2ad974584af7ff74c9a18e68d",
       "version_major": 2,
       "version_minor": 0
      },
      "text/plain": [
       "Batches:   0%|          | 0/1 [00:00<?, ?it/s]"
      ]
     },
     "metadata": {},
     "output_type": "display_data"
    },
    {
     "data": {
      "application/vnd.jupyter.widget-view+json": {
       "model_id": "97a89a0fc1f24829858af3f88fdec34a",
       "version_major": 2,
       "version_minor": 0
      },
      "text/plain": [
       "Batches:   0%|          | 0/29 [00:00<?, ?it/s]"
      ]
     },
     "metadata": {},
     "output_type": "display_data"
    },
    {
     "data": {
      "application/vnd.jupyter.widget-view+json": {
       "model_id": "6b937ffa1c9d4a93a20502c99ce4b1bc",
       "version_major": 2,
       "version_minor": 0
      },
      "text/plain": [
       "Batches:   0%|          | 0/29 [00:00<?, ?it/s]"
      ]
     },
     "metadata": {},
     "output_type": "display_data"
    },
    {
     "data": {
      "application/vnd.jupyter.widget-view+json": {
       "model_id": "460101bfeb7047c5b6ef1a2ea844d1be",
       "version_major": 2,
       "version_minor": 0
      },
      "text/plain": [
       "Batches:   0%|          | 0/29 [00:00<?, ?it/s]"
      ]
     },
     "metadata": {},
     "output_type": "display_data"
    },
    {
     "data": {
      "application/vnd.jupyter.widget-view+json": {
       "model_id": "02c9975fc43f4e8ebd6671064bd409cd",
       "version_major": 2,
       "version_minor": 0
      },
      "text/plain": [
       "Batches:   0%|          | 0/29 [00:00<?, ?it/s]"
      ]
     },
     "metadata": {},
     "output_type": "display_data"
    },
    {
     "data": {
      "application/vnd.jupyter.widget-view+json": {
       "model_id": "901ecf5d6cee48bb89c380fde4d1dfb8",
       "version_major": 2,
       "version_minor": 0
      },
      "text/plain": [
       "Batches:   0%|          | 0/29 [00:00<?, ?it/s]"
      ]
     },
     "metadata": {},
     "output_type": "display_data"
    },
    {
     "data": {
      "application/vnd.jupyter.widget-view+json": {
       "model_id": "204074bf549448d3a0a11869b080c56e",
       "version_major": 2,
       "version_minor": 0
      },
      "text/plain": [
       "Batches:   0%|          | 0/1 [00:00<?, ?it/s]"
      ]
     },
     "metadata": {},
     "output_type": "display_data"
    },
    {
     "data": {
      "application/vnd.jupyter.widget-view+json": {
       "model_id": "5ec45a3cce4e430db9930a2b3d08c9a5",
       "version_major": 2,
       "version_minor": 0
      },
      "text/plain": [
       "Batches:   0%|          | 0/1 [00:00<?, ?it/s]"
      ]
     },
     "metadata": {},
     "output_type": "display_data"
    },
    {
     "data": {
      "application/vnd.jupyter.widget-view+json": {
       "model_id": "6d681b9ae0b843ed849942c847dbd300",
       "version_major": 2,
       "version_minor": 0
      },
      "text/plain": [
       "Batches:   0%|          | 0/1 [00:00<?, ?it/s]"
      ]
     },
     "metadata": {},
     "output_type": "display_data"
    },
    {
     "data": {
      "application/vnd.jupyter.widget-view+json": {
       "model_id": "30e1738e27f04227bfe5a1ffefe5850f",
       "version_major": 2,
       "version_minor": 0
      },
      "text/plain": [
       "Batches:   0%|          | 0/1 [00:00<?, ?it/s]"
      ]
     },
     "metadata": {},
     "output_type": "display_data"
    },
    {
     "data": {
      "application/vnd.jupyter.widget-view+json": {
       "model_id": "6fa61f7b650b493696542bb816c6507b",
       "version_major": 2,
       "version_minor": 0
      },
      "text/plain": [
       "Batches:   0%|          | 0/1 [00:00<?, ?it/s]"
      ]
     },
     "metadata": {},
     "output_type": "display_data"
    },
    {
     "data": {
      "application/vnd.jupyter.widget-view+json": {
       "model_id": "e07dc7afe6194377930752e3cfada981",
       "version_major": 2,
       "version_minor": 0
      },
      "text/plain": [
       "Batches:   0%|          | 0/29 [00:00<?, ?it/s]"
      ]
     },
     "metadata": {},
     "output_type": "display_data"
    },
    {
     "data": {
      "application/vnd.jupyter.widget-view+json": {
       "model_id": "cc6e72c8dc2d45169881b96e6cacd00d",
       "version_major": 2,
       "version_minor": 0
      },
      "text/plain": [
       "Batches:   0%|          | 0/29 [00:00<?, ?it/s]"
      ]
     },
     "metadata": {},
     "output_type": "display_data"
    },
    {
     "data": {
      "application/vnd.jupyter.widget-view+json": {
       "model_id": "3e45a6c3695344ed949ba7fc0243f3d5",
       "version_major": 2,
       "version_minor": 0
      },
      "text/plain": [
       "Batches:   0%|          | 0/29 [00:00<?, ?it/s]"
      ]
     },
     "metadata": {},
     "output_type": "display_data"
    },
    {
     "data": {
      "application/vnd.jupyter.widget-view+json": {
       "model_id": "faaf231158024ac0a62e9187d3ee0b2b",
       "version_major": 2,
       "version_minor": 0
      },
      "text/plain": [
       "Batches:   0%|          | 0/29 [00:00<?, ?it/s]"
      ]
     },
     "metadata": {},
     "output_type": "display_data"
    },
    {
     "data": {
      "application/vnd.jupyter.widget-view+json": {
       "model_id": "cbf645a4a10448db8b5ab3bfd50adbc4",
       "version_major": 2,
       "version_minor": 0
      },
      "text/plain": [
       "Batches:   0%|          | 0/29 [00:00<?, ?it/s]"
      ]
     },
     "metadata": {},
     "output_type": "display_data"
    },
    {
     "data": {
      "application/vnd.jupyter.widget-view+json": {
       "model_id": "f995f54ccc1b48809ff7a62164ee7caf",
       "version_major": 2,
       "version_minor": 0
      },
      "text/plain": [
       "Batches:   0%|          | 0/1 [00:00<?, ?it/s]"
      ]
     },
     "metadata": {},
     "output_type": "display_data"
    },
    {
     "data": {
      "application/vnd.jupyter.widget-view+json": {
       "model_id": "e64f4aee42824513beab8c9bbdecd686",
       "version_major": 2,
       "version_minor": 0
      },
      "text/plain": [
       "Batches:   0%|          | 0/1 [00:00<?, ?it/s]"
      ]
     },
     "metadata": {},
     "output_type": "display_data"
    },
    {
     "data": {
      "application/vnd.jupyter.widget-view+json": {
       "model_id": "d4672715cc764694a0fd3e89edce5550",
       "version_major": 2,
       "version_minor": 0
      },
      "text/plain": [
       "Batches:   0%|          | 0/1 [00:00<?, ?it/s]"
      ]
     },
     "metadata": {},
     "output_type": "display_data"
    },
    {
     "data": {
      "application/vnd.jupyter.widget-view+json": {
       "model_id": "9c8f70892a8043eba883299c856fdf3c",
       "version_major": 2,
       "version_minor": 0
      },
      "text/plain": [
       "Batches:   0%|          | 0/1 [00:00<?, ?it/s]"
      ]
     },
     "metadata": {},
     "output_type": "display_data"
    },
    {
     "data": {
      "application/vnd.jupyter.widget-view+json": {
       "model_id": "048ebbc177b141beb1765634fa975190",
       "version_major": 2,
       "version_minor": 0
      },
      "text/plain": [
       "Batches:   0%|          | 0/1 [00:00<?, ?it/s]"
      ]
     },
     "metadata": {},
     "output_type": "display_data"
    },
    {
     "data": {
      "application/vnd.jupyter.widget-view+json": {
       "model_id": "2c0bf745fdbc49f39995923c9fb352d5",
       "version_major": 2,
       "version_minor": 0
      },
      "text/plain": [
       "Batches:   0%|          | 0/29 [00:00<?, ?it/s]"
      ]
     },
     "metadata": {},
     "output_type": "display_data"
    },
    {
     "data": {
      "application/vnd.jupyter.widget-view+json": {
       "model_id": "93bcf7e4c5e84caebe925ca39320a883",
       "version_major": 2,
       "version_minor": 0
      },
      "text/plain": [
       "Batches:   0%|          | 0/29 [00:00<?, ?it/s]"
      ]
     },
     "metadata": {},
     "output_type": "display_data"
    },
    {
     "data": {
      "application/vnd.jupyter.widget-view+json": {
       "model_id": "64ba35a8e8754255989740407eb2f2c6",
       "version_major": 2,
       "version_minor": 0
      },
      "text/plain": [
       "Batches:   0%|          | 0/29 [00:00<?, ?it/s]"
      ]
     },
     "metadata": {},
     "output_type": "display_data"
    },
    {
     "data": {
      "application/vnd.jupyter.widget-view+json": {
       "model_id": "3f0f5dfedfac49eea1dc7e63760871af",
       "version_major": 2,
       "version_minor": 0
      },
      "text/plain": [
       "Batches:   0%|          | 0/29 [00:00<?, ?it/s]"
      ]
     },
     "metadata": {},
     "output_type": "display_data"
    },
    {
     "data": {
      "application/vnd.jupyter.widget-view+json": {
       "model_id": "3b9f48835153487caba1dff10ef80916",
       "version_major": 2,
       "version_minor": 0
      },
      "text/plain": [
       "Batches:   0%|          | 0/29 [00:00<?, ?it/s]"
      ]
     },
     "metadata": {},
     "output_type": "display_data"
    },
    {
     "data": {
      "application/vnd.jupyter.widget-view+json": {
       "model_id": "76715517d8f24c4aa34ab40e4c24f2a9",
       "version_major": 2,
       "version_minor": 0
      },
      "text/plain": [
       "Batches:   0%|          | 0/1 [00:00<?, ?it/s]"
      ]
     },
     "metadata": {},
     "output_type": "display_data"
    },
    {
     "data": {
      "application/vnd.jupyter.widget-view+json": {
       "model_id": "f21b3380f3fa43189a656b94eaee5560",
       "version_major": 2,
       "version_minor": 0
      },
      "text/plain": [
       "Batches:   0%|          | 0/1 [00:00<?, ?it/s]"
      ]
     },
     "metadata": {},
     "output_type": "display_data"
    },
    {
     "data": {
      "application/vnd.jupyter.widget-view+json": {
       "model_id": "8065410937da401ca9bb51471b2e195d",
       "version_major": 2,
       "version_minor": 0
      },
      "text/plain": [
       "Batches:   0%|          | 0/1 [00:00<?, ?it/s]"
      ]
     },
     "metadata": {},
     "output_type": "display_data"
    },
    {
     "data": {
      "application/vnd.jupyter.widget-view+json": {
       "model_id": "be6b692a92434d08aba31236895f88ab",
       "version_major": 2,
       "version_minor": 0
      },
      "text/plain": [
       "Batches:   0%|          | 0/1 [00:00<?, ?it/s]"
      ]
     },
     "metadata": {},
     "output_type": "display_data"
    },
    {
     "data": {
      "application/vnd.jupyter.widget-view+json": {
       "model_id": "df24cd33fdcc4a99a6d7b87a3ddf41da",
       "version_major": 2,
       "version_minor": 0
      },
      "text/plain": [
       "Batches:   0%|          | 0/1 [00:00<?, ?it/s]"
      ]
     },
     "metadata": {},
     "output_type": "display_data"
    },
    {
     "data": {
      "application/vnd.jupyter.widget-view+json": {
       "model_id": "822a5548ce6c4232a9fac960afcc4202",
       "version_major": 2,
       "version_minor": 0
      },
      "text/plain": [
       "Batches:   0%|          | 0/29 [00:00<?, ?it/s]"
      ]
     },
     "metadata": {},
     "output_type": "display_data"
    },
    {
     "data": {
      "application/vnd.jupyter.widget-view+json": {
       "model_id": "d3cb81a6245b46e38de099e7a33aa945",
       "version_major": 2,
       "version_minor": 0
      },
      "text/plain": [
       "Batches:   0%|          | 0/29 [00:00<?, ?it/s]"
      ]
     },
     "metadata": {},
     "output_type": "display_data"
    },
    {
     "data": {
      "application/vnd.jupyter.widget-view+json": {
       "model_id": "2cdcdc7b0b9e4362a7f36c675cc9bb42",
       "version_major": 2,
       "version_minor": 0
      },
      "text/plain": [
       "Batches:   0%|          | 0/29 [00:00<?, ?it/s]"
      ]
     },
     "metadata": {},
     "output_type": "display_data"
    },
    {
     "data": {
      "application/vnd.jupyter.widget-view+json": {
       "model_id": "706671cf69df40dda552aadeba200187",
       "version_major": 2,
       "version_minor": 0
      },
      "text/plain": [
       "Batches:   0%|          | 0/29 [00:00<?, ?it/s]"
      ]
     },
     "metadata": {},
     "output_type": "display_data"
    },
    {
     "data": {
      "application/vnd.jupyter.widget-view+json": {
       "model_id": "83ee57ba0adf416d920483377aeaeaa7",
       "version_major": 2,
       "version_minor": 0
      },
      "text/plain": [
       "Batches:   0%|          | 0/29 [00:00<?, ?it/s]"
      ]
     },
     "metadata": {},
     "output_type": "display_data"
    },
    {
     "data": {
      "application/vnd.jupyter.widget-view+json": {
       "model_id": "0b9463fd2c8949b390d9ce10b0212544",
       "version_major": 2,
       "version_minor": 0
      },
      "text/plain": [
       "Batches:   0%|          | 0/1 [00:00<?, ?it/s]"
      ]
     },
     "metadata": {},
     "output_type": "display_data"
    },
    {
     "data": {
      "application/vnd.jupyter.widget-view+json": {
       "model_id": "1a424fe96e1f472890b1babc6fe5a18c",
       "version_major": 2,
       "version_minor": 0
      },
      "text/plain": [
       "Batches:   0%|          | 0/1 [00:00<?, ?it/s]"
      ]
     },
     "metadata": {},
     "output_type": "display_data"
    },
    {
     "data": {
      "application/vnd.jupyter.widget-view+json": {
       "model_id": "94795fac626e45bc9132a597f52f6a91",
       "version_major": 2,
       "version_minor": 0
      },
      "text/plain": [
       "Batches:   0%|          | 0/1 [00:00<?, ?it/s]"
      ]
     },
     "metadata": {},
     "output_type": "display_data"
    },
    {
     "data": {
      "application/vnd.jupyter.widget-view+json": {
       "model_id": "840f9771524e41e8b7fcd2366a5ffb94",
       "version_major": 2,
       "version_minor": 0
      },
      "text/plain": [
       "Batches:   0%|          | 0/1 [00:00<?, ?it/s]"
      ]
     },
     "metadata": {},
     "output_type": "display_data"
    },
    {
     "data": {
      "application/vnd.jupyter.widget-view+json": {
       "model_id": "4acfb85334af4bd7b478966641ffb238",
       "version_major": 2,
       "version_minor": 0
      },
      "text/plain": [
       "Batches:   0%|          | 0/1 [00:00<?, ?it/s]"
      ]
     },
     "metadata": {},
     "output_type": "display_data"
    },
    {
     "data": {
      "application/vnd.jupyter.widget-view+json": {
       "model_id": "b285ef6313dd4465a30062ff7ea00a9f",
       "version_major": 2,
       "version_minor": 0
      },
      "text/plain": [
       "Batches:   0%|          | 0/29 [00:00<?, ?it/s]"
      ]
     },
     "metadata": {},
     "output_type": "display_data"
    },
    {
     "data": {
      "application/vnd.jupyter.widget-view+json": {
       "model_id": "3db6ab1d81124d889c3ae1f84f7973ff",
       "version_major": 2,
       "version_minor": 0
      },
      "text/plain": [
       "Batches:   0%|          | 0/29 [00:00<?, ?it/s]"
      ]
     },
     "metadata": {},
     "output_type": "display_data"
    },
    {
     "data": {
      "application/vnd.jupyter.widget-view+json": {
       "model_id": "7c49f4b7c6f94aa881d6055623977efe",
       "version_major": 2,
       "version_minor": 0
      },
      "text/plain": [
       "Batches:   0%|          | 0/29 [00:00<?, ?it/s]"
      ]
     },
     "metadata": {},
     "output_type": "display_data"
    },
    {
     "data": {
      "application/vnd.jupyter.widget-view+json": {
       "model_id": "2738a0417fa14e0fa801ced6c93dfd63",
       "version_major": 2,
       "version_minor": 0
      },
      "text/plain": [
       "Batches:   0%|          | 0/29 [00:00<?, ?it/s]"
      ]
     },
     "metadata": {},
     "output_type": "display_data"
    },
    {
     "data": {
      "application/vnd.jupyter.widget-view+json": {
       "model_id": "f94652ddc51a4a2996475a0f0cf8ba8f",
       "version_major": 2,
       "version_minor": 0
      },
      "text/plain": [
       "Batches:   0%|          | 0/29 [00:00<?, ?it/s]"
      ]
     },
     "metadata": {},
     "output_type": "display_data"
    },
    {
     "data": {
      "application/vnd.jupyter.widget-view+json": {
       "model_id": "f55b7e52913c419291ebb37da6b8434c",
       "version_major": 2,
       "version_minor": 0
      },
      "text/plain": [
       "Batches:   0%|          | 0/1 [00:00<?, ?it/s]"
      ]
     },
     "metadata": {},
     "output_type": "display_data"
    },
    {
     "data": {
      "application/vnd.jupyter.widget-view+json": {
       "model_id": "38d38d4a6a4e41e3b4102ea691afbf05",
       "version_major": 2,
       "version_minor": 0
      },
      "text/plain": [
       "Batches:   0%|          | 0/1 [00:00<?, ?it/s]"
      ]
     },
     "metadata": {},
     "output_type": "display_data"
    },
    {
     "data": {
      "application/vnd.jupyter.widget-view+json": {
       "model_id": "8633b57f9acd4f2899dbeb0467705f22",
       "version_major": 2,
       "version_minor": 0
      },
      "text/plain": [
       "Batches:   0%|          | 0/1 [00:00<?, ?it/s]"
      ]
     },
     "metadata": {},
     "output_type": "display_data"
    },
    {
     "data": {
      "application/vnd.jupyter.widget-view+json": {
       "model_id": "47fabab7be014626bc21e147fa050c10",
       "version_major": 2,
       "version_minor": 0
      },
      "text/plain": [
       "Batches:   0%|          | 0/1 [00:00<?, ?it/s]"
      ]
     },
     "metadata": {},
     "output_type": "display_data"
    },
    {
     "data": {
      "application/vnd.jupyter.widget-view+json": {
       "model_id": "27ccb684338c402b8b6567088233407e",
       "version_major": 2,
       "version_minor": 0
      },
      "text/plain": [
       "Batches:   0%|          | 0/1 [00:00<?, ?it/s]"
      ]
     },
     "metadata": {},
     "output_type": "display_data"
    },
    {
     "data": {
      "application/vnd.jupyter.widget-view+json": {
       "model_id": "19e12435135048f788809c82a3622bd6",
       "version_major": 2,
       "version_minor": 0
      },
      "text/plain": [
       "Batches:   0%|          | 0/29 [00:00<?, ?it/s]"
      ]
     },
     "metadata": {},
     "output_type": "display_data"
    },
    {
     "data": {
      "application/vnd.jupyter.widget-view+json": {
       "model_id": "cb16d0528c9a42b1af4e9ada149735fd",
       "version_major": 2,
       "version_minor": 0
      },
      "text/plain": [
       "Batches:   0%|          | 0/29 [00:00<?, ?it/s]"
      ]
     },
     "metadata": {},
     "output_type": "display_data"
    },
    {
     "data": {
      "application/vnd.jupyter.widget-view+json": {
       "model_id": "5f207c9c5cc74882a03f0b6e31f67169",
       "version_major": 2,
       "version_minor": 0
      },
      "text/plain": [
       "Batches:   0%|          | 0/29 [00:00<?, ?it/s]"
      ]
     },
     "metadata": {},
     "output_type": "display_data"
    },
    {
     "data": {
      "application/vnd.jupyter.widget-view+json": {
       "model_id": "c7f5b4fd5c6145fa805720e52e1dff47",
       "version_major": 2,
       "version_minor": 0
      },
      "text/plain": [
       "Batches:   0%|          | 0/29 [00:00<?, ?it/s]"
      ]
     },
     "metadata": {},
     "output_type": "display_data"
    },
    {
     "data": {
      "application/vnd.jupyter.widget-view+json": {
       "model_id": "830d6c6fdbee4105ae31f84807969a34",
       "version_major": 2,
       "version_minor": 0
      },
      "text/plain": [
       "Batches:   0%|          | 0/29 [00:00<?, ?it/s]"
      ]
     },
     "metadata": {},
     "output_type": "display_data"
    },
    {
     "data": {
      "application/vnd.jupyter.widget-view+json": {
       "model_id": "ed96d5296bdf4301b79cdbfbe364a7ce",
       "version_major": 2,
       "version_minor": 0
      },
      "text/plain": [
       "Batches:   0%|          | 0/1 [00:00<?, ?it/s]"
      ]
     },
     "metadata": {},
     "output_type": "display_data"
    },
    {
     "data": {
      "application/vnd.jupyter.widget-view+json": {
       "model_id": "b9eede1972f948d0a00b2d0443cbb3f0",
       "version_major": 2,
       "version_minor": 0
      },
      "text/plain": [
       "Batches:   0%|          | 0/1 [00:00<?, ?it/s]"
      ]
     },
     "metadata": {},
     "output_type": "display_data"
    },
    {
     "data": {
      "application/vnd.jupyter.widget-view+json": {
       "model_id": "f1f5ed1babc64de09c10a57b119d52dd",
       "version_major": 2,
       "version_minor": 0
      },
      "text/plain": [
       "Batches:   0%|          | 0/1 [00:00<?, ?it/s]"
      ]
     },
     "metadata": {},
     "output_type": "display_data"
    },
    {
     "data": {
      "application/vnd.jupyter.widget-view+json": {
       "model_id": "cd4d9aeca76d44f398af9cc1cb6d61bf",
       "version_major": 2,
       "version_minor": 0
      },
      "text/plain": [
       "Batches:   0%|          | 0/1 [00:00<?, ?it/s]"
      ]
     },
     "metadata": {},
     "output_type": "display_data"
    },
    {
     "data": {
      "application/vnd.jupyter.widget-view+json": {
       "model_id": "373bdb8a80c14426a95b0af3d97aa4fd",
       "version_major": 2,
       "version_minor": 0
      },
      "text/plain": [
       "Batches:   0%|          | 0/1 [00:00<?, ?it/s]"
      ]
     },
     "metadata": {},
     "output_type": "display_data"
    },
    {
     "data": {
      "application/vnd.jupyter.widget-view+json": {
       "model_id": "6438c38ad6fc4b87b5b7ee7d2701a679",
       "version_major": 2,
       "version_minor": 0
      },
      "text/plain": [
       "Batches:   0%|          | 0/29 [00:00<?, ?it/s]"
      ]
     },
     "metadata": {},
     "output_type": "display_data"
    },
    {
     "data": {
      "application/vnd.jupyter.widget-view+json": {
       "model_id": "e6a9677979a84e2c890e3deeda9cc9fb",
       "version_major": 2,
       "version_minor": 0
      },
      "text/plain": [
       "Batches:   0%|          | 0/29 [00:00<?, ?it/s]"
      ]
     },
     "metadata": {},
     "output_type": "display_data"
    },
    {
     "data": {
      "application/vnd.jupyter.widget-view+json": {
       "model_id": "a8fd960d47a34852bdfe2fde6d2498ea",
       "version_major": 2,
       "version_minor": 0
      },
      "text/plain": [
       "Batches:   0%|          | 0/29 [00:00<?, ?it/s]"
      ]
     },
     "metadata": {},
     "output_type": "display_data"
    },
    {
     "data": {
      "application/vnd.jupyter.widget-view+json": {
       "model_id": "39cd7bdcd65641f9aad94643a03414b4",
       "version_major": 2,
       "version_minor": 0
      },
      "text/plain": [
       "Batches:   0%|          | 0/29 [00:00<?, ?it/s]"
      ]
     },
     "metadata": {},
     "output_type": "display_data"
    },
    {
     "data": {
      "application/vnd.jupyter.widget-view+json": {
       "model_id": "c147223c35a74d5592affd3c382c8198",
       "version_major": 2,
       "version_minor": 0
      },
      "text/plain": [
       "Batches:   0%|          | 0/29 [00:00<?, ?it/s]"
      ]
     },
     "metadata": {},
     "output_type": "display_data"
    },
    {
     "data": {
      "application/vnd.jupyter.widget-view+json": {
       "model_id": "df1a1d9d75194bafa2633278f05628f8",
       "version_major": 2,
       "version_minor": 0
      },
      "text/plain": [
       "Batches:   0%|          | 0/1 [00:00<?, ?it/s]"
      ]
     },
     "metadata": {},
     "output_type": "display_data"
    },
    {
     "data": {
      "application/vnd.jupyter.widget-view+json": {
       "model_id": "4707c3051d5b4c2880d55a883ceb1fc0",
       "version_major": 2,
       "version_minor": 0
      },
      "text/plain": [
       "Batches:   0%|          | 0/1 [00:00<?, ?it/s]"
      ]
     },
     "metadata": {},
     "output_type": "display_data"
    },
    {
     "data": {
      "application/vnd.jupyter.widget-view+json": {
       "model_id": "6a9e3a64744345f3a4b2afbbe91c0831",
       "version_major": 2,
       "version_minor": 0
      },
      "text/plain": [
       "Batches:   0%|          | 0/1 [00:00<?, ?it/s]"
      ]
     },
     "metadata": {},
     "output_type": "display_data"
    },
    {
     "data": {
      "application/vnd.jupyter.widget-view+json": {
       "model_id": "ebd281ec8edb481bb3c5a7ea6cbef442",
       "version_major": 2,
       "version_minor": 0
      },
      "text/plain": [
       "Batches:   0%|          | 0/1 [00:00<?, ?it/s]"
      ]
     },
     "metadata": {},
     "output_type": "display_data"
    },
    {
     "data": {
      "application/vnd.jupyter.widget-view+json": {
       "model_id": "e24bd2e7616649cfbf7e4dc5b0f6a069",
       "version_major": 2,
       "version_minor": 0
      },
      "text/plain": [
       "Batches:   0%|          | 0/1 [00:00<?, ?it/s]"
      ]
     },
     "metadata": {},
     "output_type": "display_data"
    },
    {
     "data": {
      "application/vnd.jupyter.widget-view+json": {
       "model_id": "e9d87ccd550d44a48ca93875b45b24a0",
       "version_major": 2,
       "version_minor": 0
      },
      "text/plain": [
       "Batches:   0%|          | 0/29 [00:00<?, ?it/s]"
      ]
     },
     "metadata": {},
     "output_type": "display_data"
    },
    {
     "data": {
      "application/vnd.jupyter.widget-view+json": {
       "model_id": "3257474b8ebd4821a1ff2ddbbec1e0b1",
       "version_major": 2,
       "version_minor": 0
      },
      "text/plain": [
       "Batches:   0%|          | 0/29 [00:00<?, ?it/s]"
      ]
     },
     "metadata": {},
     "output_type": "display_data"
    },
    {
     "data": {
      "application/vnd.jupyter.widget-view+json": {
       "model_id": "6ebab4795f99422ca39275750f802e14",
       "version_major": 2,
       "version_minor": 0
      },
      "text/plain": [
       "Batches:   0%|          | 0/29 [00:00<?, ?it/s]"
      ]
     },
     "metadata": {},
     "output_type": "display_data"
    },
    {
     "data": {
      "application/vnd.jupyter.widget-view+json": {
       "model_id": "0fd9eef33a7f4ce9b6c4027ab226ff66",
       "version_major": 2,
       "version_minor": 0
      },
      "text/plain": [
       "Batches:   0%|          | 0/29 [00:00<?, ?it/s]"
      ]
     },
     "metadata": {},
     "output_type": "display_data"
    },
    {
     "data": {
      "application/vnd.jupyter.widget-view+json": {
       "model_id": "a3c3a2ffaae94dc3879d0cf43ea1e9c2",
       "version_major": 2,
       "version_minor": 0
      },
      "text/plain": [
       "Batches:   0%|          | 0/29 [00:00<?, ?it/s]"
      ]
     },
     "metadata": {},
     "output_type": "display_data"
    },
    {
     "data": {
      "application/vnd.jupyter.widget-view+json": {
       "model_id": "0eff72fea0af455ea907499eda58ca43",
       "version_major": 2,
       "version_minor": 0
      },
      "text/plain": [
       "Batches:   0%|          | 0/1 [00:00<?, ?it/s]"
      ]
     },
     "metadata": {},
     "output_type": "display_data"
    },
    {
     "data": {
      "application/vnd.jupyter.widget-view+json": {
       "model_id": "f9a47d7324524ecc87fe5c46ad562dc8",
       "version_major": 2,
       "version_minor": 0
      },
      "text/plain": [
       "Batches:   0%|          | 0/1 [00:00<?, ?it/s]"
      ]
     },
     "metadata": {},
     "output_type": "display_data"
    },
    {
     "data": {
      "application/vnd.jupyter.widget-view+json": {
       "model_id": "7c4bc170522c432e87186c95b6b01f4d",
       "version_major": 2,
       "version_minor": 0
      },
      "text/plain": [
       "Batches:   0%|          | 0/1 [00:00<?, ?it/s]"
      ]
     },
     "metadata": {},
     "output_type": "display_data"
    },
    {
     "data": {
      "application/vnd.jupyter.widget-view+json": {
       "model_id": "5ebe70a65acc43f9ab4cad3eccc6252d",
       "version_major": 2,
       "version_minor": 0
      },
      "text/plain": [
       "Batches:   0%|          | 0/1 [00:00<?, ?it/s]"
      ]
     },
     "metadata": {},
     "output_type": "display_data"
    },
    {
     "data": {
      "application/vnd.jupyter.widget-view+json": {
       "model_id": "4ce69bbbecef446ba5e12f0228fae456",
       "version_major": 2,
       "version_minor": 0
      },
      "text/plain": [
       "Batches:   0%|          | 0/1 [00:00<?, ?it/s]"
      ]
     },
     "metadata": {},
     "output_type": "display_data"
    },
    {
     "data": {
      "application/vnd.jupyter.widget-view+json": {
       "model_id": "dec44967fdaa456d807a7925c3755cee",
       "version_major": 2,
       "version_minor": 0
      },
      "text/plain": [
       "Batches:   0%|          | 0/29 [00:00<?, ?it/s]"
      ]
     },
     "metadata": {},
     "output_type": "display_data"
    },
    {
     "data": {
      "application/vnd.jupyter.widget-view+json": {
       "model_id": "75a98ca53b9d42a9a2c391955191280f",
       "version_major": 2,
       "version_minor": 0
      },
      "text/plain": [
       "Batches:   0%|          | 0/29 [00:00<?, ?it/s]"
      ]
     },
     "metadata": {},
     "output_type": "display_data"
    },
    {
     "data": {
      "application/vnd.jupyter.widget-view+json": {
       "model_id": "5ffb196dc03a4b27a3d206badf24903c",
       "version_major": 2,
       "version_minor": 0
      },
      "text/plain": [
       "Batches:   0%|          | 0/29 [00:00<?, ?it/s]"
      ]
     },
     "metadata": {},
     "output_type": "display_data"
    },
    {
     "data": {
      "application/vnd.jupyter.widget-view+json": {
       "model_id": "9be212f6c1a1481ba58521465ad5eb29",
       "version_major": 2,
       "version_minor": 0
      },
      "text/plain": [
       "Batches:   0%|          | 0/29 [00:00<?, ?it/s]"
      ]
     },
     "metadata": {},
     "output_type": "display_data"
    },
    {
     "data": {
      "application/vnd.jupyter.widget-view+json": {
       "model_id": "bfaabfdf4fc043cd9304629599fd36a5",
       "version_major": 2,
       "version_minor": 0
      },
      "text/plain": [
       "Batches:   0%|          | 0/29 [00:00<?, ?it/s]"
      ]
     },
     "metadata": {},
     "output_type": "display_data"
    },
    {
     "data": {
      "application/vnd.jupyter.widget-view+json": {
       "model_id": "e0d4ec01de654877b3b05f040747afc9",
       "version_major": 2,
       "version_minor": 0
      },
      "text/plain": [
       "Batches:   0%|          | 0/1 [00:00<?, ?it/s]"
      ]
     },
     "metadata": {},
     "output_type": "display_data"
    },
    {
     "data": {
      "application/vnd.jupyter.widget-view+json": {
       "model_id": "63f9af2a3e5a4cdd88baaa22a48d8e57",
       "version_major": 2,
       "version_minor": 0
      },
      "text/plain": [
       "Batches:   0%|          | 0/1 [00:00<?, ?it/s]"
      ]
     },
     "metadata": {},
     "output_type": "display_data"
    },
    {
     "data": {
      "application/vnd.jupyter.widget-view+json": {
       "model_id": "7dbdb711a8024c7982eb6969264abf38",
       "version_major": 2,
       "version_minor": 0
      },
      "text/plain": [
       "Batches:   0%|          | 0/1 [00:00<?, ?it/s]"
      ]
     },
     "metadata": {},
     "output_type": "display_data"
    },
    {
     "data": {
      "application/vnd.jupyter.widget-view+json": {
       "model_id": "05c6dd0681ad4ecdaca91f8aa230dba9",
       "version_major": 2,
       "version_minor": 0
      },
      "text/plain": [
       "Batches:   0%|          | 0/1 [00:00<?, ?it/s]"
      ]
     },
     "metadata": {},
     "output_type": "display_data"
    },
    {
     "data": {
      "application/vnd.jupyter.widget-view+json": {
       "model_id": "14e9210cc0dd4a7c88d40d952dadb272",
       "version_major": 2,
       "version_minor": 0
      },
      "text/plain": [
       "Batches:   0%|          | 0/1 [00:00<?, ?it/s]"
      ]
     },
     "metadata": {},
     "output_type": "display_data"
    },
    {
     "data": {
      "application/vnd.jupyter.widget-view+json": {
       "model_id": "27b10d2265004d8b9c7086f5e51d7c10",
       "version_major": 2,
       "version_minor": 0
      },
      "text/plain": [
       "Batches:   0%|          | 0/29 [00:00<?, ?it/s]"
      ]
     },
     "metadata": {},
     "output_type": "display_data"
    },
    {
     "data": {
      "application/vnd.jupyter.widget-view+json": {
       "model_id": "43696c9eb96e4509badefa4cce78fa0c",
       "version_major": 2,
       "version_minor": 0
      },
      "text/plain": [
       "Batches:   0%|          | 0/29 [00:00<?, ?it/s]"
      ]
     },
     "metadata": {},
     "output_type": "display_data"
    },
    {
     "data": {
      "application/vnd.jupyter.widget-view+json": {
       "model_id": "43800bef62ad4c9f93f74717c533b37d",
       "version_major": 2,
       "version_minor": 0
      },
      "text/plain": [
       "Batches:   0%|          | 0/29 [00:00<?, ?it/s]"
      ]
     },
     "metadata": {},
     "output_type": "display_data"
    },
    {
     "data": {
      "application/vnd.jupyter.widget-view+json": {
       "model_id": "a245c92b75b8480191375cc701b6398e",
       "version_major": 2,
       "version_minor": 0
      },
      "text/plain": [
       "Batches:   0%|          | 0/29 [00:00<?, ?it/s]"
      ]
     },
     "metadata": {},
     "output_type": "display_data"
    },
    {
     "data": {
      "application/vnd.jupyter.widget-view+json": {
       "model_id": "8562713e278c4fc7932aa3ea2604de9c",
       "version_major": 2,
       "version_minor": 0
      },
      "text/plain": [
       "Batches:   0%|          | 0/29 [00:00<?, ?it/s]"
      ]
     },
     "metadata": {},
     "output_type": "display_data"
    },
    {
     "data": {
      "application/vnd.jupyter.widget-view+json": {
       "model_id": "d160bc68dae54a77a2ee3b127a4c3102",
       "version_major": 2,
       "version_minor": 0
      },
      "text/plain": [
       "Batches:   0%|          | 0/1 [00:00<?, ?it/s]"
      ]
     },
     "metadata": {},
     "output_type": "display_data"
    },
    {
     "data": {
      "application/vnd.jupyter.widget-view+json": {
       "model_id": "fb7c193e24e845709836ab29218b9c93",
       "version_major": 2,
       "version_minor": 0
      },
      "text/plain": [
       "Batches:   0%|          | 0/1 [00:00<?, ?it/s]"
      ]
     },
     "metadata": {},
     "output_type": "display_data"
    },
    {
     "data": {
      "application/vnd.jupyter.widget-view+json": {
       "model_id": "a294cb1b5752441baf21544fd5dc6c9f",
       "version_major": 2,
       "version_minor": 0
      },
      "text/plain": [
       "Batches:   0%|          | 0/1 [00:00<?, ?it/s]"
      ]
     },
     "metadata": {},
     "output_type": "display_data"
    },
    {
     "data": {
      "application/vnd.jupyter.widget-view+json": {
       "model_id": "1f5eb9498c8f4b8faf129362b9b98448",
       "version_major": 2,
       "version_minor": 0
      },
      "text/plain": [
       "Batches:   0%|          | 0/1 [00:00<?, ?it/s]"
      ]
     },
     "metadata": {},
     "output_type": "display_data"
    },
    {
     "data": {
      "application/vnd.jupyter.widget-view+json": {
       "model_id": "16ecefa343e64b659a4e9f1168e3af17",
       "version_major": 2,
       "version_minor": 0
      },
      "text/plain": [
       "Batches:   0%|          | 0/1 [00:00<?, ?it/s]"
      ]
     },
     "metadata": {},
     "output_type": "display_data"
    },
    {
     "data": {
      "application/vnd.jupyter.widget-view+json": {
       "model_id": "97e7113935f246d7be29d3517601deac",
       "version_major": 2,
       "version_minor": 0
      },
      "text/plain": [
       "Batches:   0%|          | 0/29 [00:00<?, ?it/s]"
      ]
     },
     "metadata": {},
     "output_type": "display_data"
    },
    {
     "data": {
      "application/vnd.jupyter.widget-view+json": {
       "model_id": "7e72168c40a24b0bbbbb124bf300fd09",
       "version_major": 2,
       "version_minor": 0
      },
      "text/plain": [
       "Batches:   0%|          | 0/29 [00:00<?, ?it/s]"
      ]
     },
     "metadata": {},
     "output_type": "display_data"
    },
    {
     "data": {
      "application/vnd.jupyter.widget-view+json": {
       "model_id": "e95e257bc12747e4a72a286215b81e32",
       "version_major": 2,
       "version_minor": 0
      },
      "text/plain": [
       "Batches:   0%|          | 0/29 [00:00<?, ?it/s]"
      ]
     },
     "metadata": {},
     "output_type": "display_data"
    },
    {
     "data": {
      "application/vnd.jupyter.widget-view+json": {
       "model_id": "f140963752d6433996353c30f1eb43f6",
       "version_major": 2,
       "version_minor": 0
      },
      "text/plain": [
       "Batches:   0%|          | 0/29 [00:00<?, ?it/s]"
      ]
     },
     "metadata": {},
     "output_type": "display_data"
    },
    {
     "data": {
      "application/vnd.jupyter.widget-view+json": {
       "model_id": "5605a30401e34c888fee9b2af3b2daca",
       "version_major": 2,
       "version_minor": 0
      },
      "text/plain": [
       "Batches:   0%|          | 0/29 [00:00<?, ?it/s]"
      ]
     },
     "metadata": {},
     "output_type": "display_data"
    },
    {
     "data": {
      "application/vnd.jupyter.widget-view+json": {
       "model_id": "9f45b7ad9f4a49cd818fa68d54f88b6e",
       "version_major": 2,
       "version_minor": 0
      },
      "text/plain": [
       "Batches:   0%|          | 0/1 [00:00<?, ?it/s]"
      ]
     },
     "metadata": {},
     "output_type": "display_data"
    },
    {
     "data": {
      "application/vnd.jupyter.widget-view+json": {
       "model_id": "199e1509ae0a40bd8adc82e97ef6b1c9",
       "version_major": 2,
       "version_minor": 0
      },
      "text/plain": [
       "Batches:   0%|          | 0/1 [00:00<?, ?it/s]"
      ]
     },
     "metadata": {},
     "output_type": "display_data"
    },
    {
     "data": {
      "application/vnd.jupyter.widget-view+json": {
       "model_id": "a193ba848a6d4cc99c10cbd74a33e6c0",
       "version_major": 2,
       "version_minor": 0
      },
      "text/plain": [
       "Batches:   0%|          | 0/1 [00:00<?, ?it/s]"
      ]
     },
     "metadata": {},
     "output_type": "display_data"
    },
    {
     "data": {
      "application/vnd.jupyter.widget-view+json": {
       "model_id": "8c433e67675b4af0a9a951da138188b2",
       "version_major": 2,
       "version_minor": 0
      },
      "text/plain": [
       "Batches:   0%|          | 0/1 [00:00<?, ?it/s]"
      ]
     },
     "metadata": {},
     "output_type": "display_data"
    },
    {
     "data": {
      "application/vnd.jupyter.widget-view+json": {
       "model_id": "976871156cf34e2fae2bca6fae1bf820",
       "version_major": 2,
       "version_minor": 0
      },
      "text/plain": [
       "Batches:   0%|          | 0/1 [00:00<?, ?it/s]"
      ]
     },
     "metadata": {},
     "output_type": "display_data"
    },
    {
     "data": {
      "application/vnd.jupyter.widget-view+json": {
       "model_id": "2df9471a04a04383a92b59f4a82c5319",
       "version_major": 2,
       "version_minor": 0
      },
      "text/plain": [
       "Batches:   0%|          | 0/29 [00:00<?, ?it/s]"
      ]
     },
     "metadata": {},
     "output_type": "display_data"
    },
    {
     "data": {
      "application/vnd.jupyter.widget-view+json": {
       "model_id": "eb00861e6bc941f6bf02dd6381b31005",
       "version_major": 2,
       "version_minor": 0
      },
      "text/plain": [
       "Batches:   0%|          | 0/29 [00:00<?, ?it/s]"
      ]
     },
     "metadata": {},
     "output_type": "display_data"
    },
    {
     "data": {
      "application/vnd.jupyter.widget-view+json": {
       "model_id": "885fd4530f2848e8b75f1a0c3d2205b3",
       "version_major": 2,
       "version_minor": 0
      },
      "text/plain": [
       "Batches:   0%|          | 0/29 [00:00<?, ?it/s]"
      ]
     },
     "metadata": {},
     "output_type": "display_data"
    },
    {
     "data": {
      "application/vnd.jupyter.widget-view+json": {
       "model_id": "b648ef807dd94b2ba08205f32a0fd771",
       "version_major": 2,
       "version_minor": 0
      },
      "text/plain": [
       "Batches:   0%|          | 0/29 [00:00<?, ?it/s]"
      ]
     },
     "metadata": {},
     "output_type": "display_data"
    },
    {
     "data": {
      "application/vnd.jupyter.widget-view+json": {
       "model_id": "6d3b07a7aa63441ea30c17ee7e6ad442",
       "version_major": 2,
       "version_minor": 0
      },
      "text/plain": [
       "Batches:   0%|          | 0/29 [00:00<?, ?it/s]"
      ]
     },
     "metadata": {},
     "output_type": "display_data"
    },
    {
     "data": {
      "application/vnd.jupyter.widget-view+json": {
       "model_id": "cbad31568e5e43c99e474158871d3416",
       "version_major": 2,
       "version_minor": 0
      },
      "text/plain": [
       "Batches:   0%|          | 0/1 [00:00<?, ?it/s]"
      ]
     },
     "metadata": {},
     "output_type": "display_data"
    },
    {
     "data": {
      "application/vnd.jupyter.widget-view+json": {
       "model_id": "1a425be8bc664367a496f404a5f67143",
       "version_major": 2,
       "version_minor": 0
      },
      "text/plain": [
       "Batches:   0%|          | 0/1 [00:00<?, ?it/s]"
      ]
     },
     "metadata": {},
     "output_type": "display_data"
    },
    {
     "data": {
      "application/vnd.jupyter.widget-view+json": {
       "model_id": "18a4b2d3bb954a61b599a761db51a772",
       "version_major": 2,
       "version_minor": 0
      },
      "text/plain": [
       "Batches:   0%|          | 0/1 [00:00<?, ?it/s]"
      ]
     },
     "metadata": {},
     "output_type": "display_data"
    },
    {
     "data": {
      "application/vnd.jupyter.widget-view+json": {
       "model_id": "4cd3e366b34c4ebf8597fa67b32fa96c",
       "version_major": 2,
       "version_minor": 0
      },
      "text/plain": [
       "Batches:   0%|          | 0/1 [00:00<?, ?it/s]"
      ]
     },
     "metadata": {},
     "output_type": "display_data"
    },
    {
     "data": {
      "application/vnd.jupyter.widget-view+json": {
       "model_id": "1ba4c6d0ff2c42f3a4790ac324172bae",
       "version_major": 2,
       "version_minor": 0
      },
      "text/plain": [
       "Batches:   0%|          | 0/1 [00:00<?, ?it/s]"
      ]
     },
     "metadata": {},
     "output_type": "display_data"
    },
    {
     "data": {
      "application/vnd.jupyter.widget-view+json": {
       "model_id": "9ee7812866c244c196b3478455e7aa83",
       "version_major": 2,
       "version_minor": 0
      },
      "text/plain": [
       "Batches:   0%|          | 0/29 [00:00<?, ?it/s]"
      ]
     },
     "metadata": {},
     "output_type": "display_data"
    },
    {
     "data": {
      "application/vnd.jupyter.widget-view+json": {
       "model_id": "90eb487734d74feda67df9b61a6d307d",
       "version_major": 2,
       "version_minor": 0
      },
      "text/plain": [
       "Batches:   0%|          | 0/29 [00:00<?, ?it/s]"
      ]
     },
     "metadata": {},
     "output_type": "display_data"
    },
    {
     "data": {
      "application/vnd.jupyter.widget-view+json": {
       "model_id": "9dcf47e1ad34469d85953c9c3ab28b30",
       "version_major": 2,
       "version_minor": 0
      },
      "text/plain": [
       "Batches:   0%|          | 0/29 [00:00<?, ?it/s]"
      ]
     },
     "metadata": {},
     "output_type": "display_data"
    },
    {
     "data": {
      "application/vnd.jupyter.widget-view+json": {
       "model_id": "98ddd0aa2e624993b23c9f82bc8429a5",
       "version_major": 2,
       "version_minor": 0
      },
      "text/plain": [
       "Batches:   0%|          | 0/29 [00:00<?, ?it/s]"
      ]
     },
     "metadata": {},
     "output_type": "display_data"
    },
    {
     "data": {
      "application/vnd.jupyter.widget-view+json": {
       "model_id": "e93ccf7a19ac4b13919f7fa70932b19f",
       "version_major": 2,
       "version_minor": 0
      },
      "text/plain": [
       "Batches:   0%|          | 0/29 [00:00<?, ?it/s]"
      ]
     },
     "metadata": {},
     "output_type": "display_data"
    },
    {
     "data": {
      "application/vnd.jupyter.widget-view+json": {
       "model_id": "053dc8e6e7d242ddaf6b2b84426ce24c",
       "version_major": 2,
       "version_minor": 0
      },
      "text/plain": [
       "Batches:   0%|          | 0/1 [00:00<?, ?it/s]"
      ]
     },
     "metadata": {},
     "output_type": "display_data"
    },
    {
     "data": {
      "application/vnd.jupyter.widget-view+json": {
       "model_id": "a71269d411a04180af1d7938b73362da",
       "version_major": 2,
       "version_minor": 0
      },
      "text/plain": [
       "Batches:   0%|          | 0/1 [00:00<?, ?it/s]"
      ]
     },
     "metadata": {},
     "output_type": "display_data"
    },
    {
     "data": {
      "application/vnd.jupyter.widget-view+json": {
       "model_id": "aaec884a43814a4988257dba1241f13d",
       "version_major": 2,
       "version_minor": 0
      },
      "text/plain": [
       "Batches:   0%|          | 0/1 [00:00<?, ?it/s]"
      ]
     },
     "metadata": {},
     "output_type": "display_data"
    },
    {
     "data": {
      "application/vnd.jupyter.widget-view+json": {
       "model_id": "6ed755e1fab5422ea200974e0026aa44",
       "version_major": 2,
       "version_minor": 0
      },
      "text/plain": [
       "Batches:   0%|          | 0/1 [00:00<?, ?it/s]"
      ]
     },
     "metadata": {},
     "output_type": "display_data"
    },
    {
     "data": {
      "application/vnd.jupyter.widget-view+json": {
       "model_id": "a1de9da6c84d40cdb18fa57fbcf379ee",
       "version_major": 2,
       "version_minor": 0
      },
      "text/plain": [
       "Batches:   0%|          | 0/1 [00:00<?, ?it/s]"
      ]
     },
     "metadata": {},
     "output_type": "display_data"
    },
    {
     "data": {
      "application/vnd.jupyter.widget-view+json": {
       "model_id": "ab8aead0ee2546dfa571fca39bd307d8",
       "version_major": 2,
       "version_minor": 0
      },
      "text/plain": [
       "Batches:   0%|          | 0/29 [00:00<?, ?it/s]"
      ]
     },
     "metadata": {},
     "output_type": "display_data"
    },
    {
     "data": {
      "application/vnd.jupyter.widget-view+json": {
       "model_id": "ce4d9d41a5c94dc0b45184324982d894",
       "version_major": 2,
       "version_minor": 0
      },
      "text/plain": [
       "Batches:   0%|          | 0/29 [00:00<?, ?it/s]"
      ]
     },
     "metadata": {},
     "output_type": "display_data"
    },
    {
     "data": {
      "application/vnd.jupyter.widget-view+json": {
       "model_id": "314d2f848afc45589ab83e59864dd75b",
       "version_major": 2,
       "version_minor": 0
      },
      "text/plain": [
       "Batches:   0%|          | 0/29 [00:00<?, ?it/s]"
      ]
     },
     "metadata": {},
     "output_type": "display_data"
    },
    {
     "data": {
      "application/vnd.jupyter.widget-view+json": {
       "model_id": "6cabeb99c7414ca1aed46990c283bb4f",
       "version_major": 2,
       "version_minor": 0
      },
      "text/plain": [
       "Batches:   0%|          | 0/29 [00:00<?, ?it/s]"
      ]
     },
     "metadata": {},
     "output_type": "display_data"
    },
    {
     "data": {
      "application/vnd.jupyter.widget-view+json": {
       "model_id": "3fa3c54e06644003b4b72223275c6fff",
       "version_major": 2,
       "version_minor": 0
      },
      "text/plain": [
       "Batches:   0%|          | 0/29 [00:00<?, ?it/s]"
      ]
     },
     "metadata": {},
     "output_type": "display_data"
    },
    {
     "data": {
      "application/vnd.jupyter.widget-view+json": {
       "model_id": "aa35100f547d4e368d975c3a68031f63",
       "version_major": 2,
       "version_minor": 0
      },
      "text/plain": [
       "Batches:   0%|          | 0/1 [00:00<?, ?it/s]"
      ]
     },
     "metadata": {},
     "output_type": "display_data"
    },
    {
     "data": {
      "application/vnd.jupyter.widget-view+json": {
       "model_id": "35afa009af614b089419613febbce3a9",
       "version_major": 2,
       "version_minor": 0
      },
      "text/plain": [
       "Batches:   0%|          | 0/1 [00:00<?, ?it/s]"
      ]
     },
     "metadata": {},
     "output_type": "display_data"
    },
    {
     "data": {
      "application/vnd.jupyter.widget-view+json": {
       "model_id": "d303b083af0c484aaf412300c3196fee",
       "version_major": 2,
       "version_minor": 0
      },
      "text/plain": [
       "Batches:   0%|          | 0/1 [00:00<?, ?it/s]"
      ]
     },
     "metadata": {},
     "output_type": "display_data"
    },
    {
     "data": {
      "application/vnd.jupyter.widget-view+json": {
       "model_id": "06878098b08c4db2a78ababdc423dfb0",
       "version_major": 2,
       "version_minor": 0
      },
      "text/plain": [
       "Batches:   0%|          | 0/1 [00:00<?, ?it/s]"
      ]
     },
     "metadata": {},
     "output_type": "display_data"
    },
    {
     "data": {
      "application/vnd.jupyter.widget-view+json": {
       "model_id": "574a3ec85ae54929b47fe8764a4266af",
       "version_major": 2,
       "version_minor": 0
      },
      "text/plain": [
       "Batches:   0%|          | 0/1 [00:00<?, ?it/s]"
      ]
     },
     "metadata": {},
     "output_type": "display_data"
    },
    {
     "data": {
      "application/vnd.jupyter.widget-view+json": {
       "model_id": "db66a1ddfcf14f9ea3e281a26337b78c",
       "version_major": 2,
       "version_minor": 0
      },
      "text/plain": [
       "Batches:   0%|          | 0/29 [00:00<?, ?it/s]"
      ]
     },
     "metadata": {},
     "output_type": "display_data"
    },
    {
     "data": {
      "application/vnd.jupyter.widget-view+json": {
       "model_id": "76af324470c34c85be2fe6642581b0b5",
       "version_major": 2,
       "version_minor": 0
      },
      "text/plain": [
       "Batches:   0%|          | 0/29 [00:00<?, ?it/s]"
      ]
     },
     "metadata": {},
     "output_type": "display_data"
    },
    {
     "data": {
      "application/vnd.jupyter.widget-view+json": {
       "model_id": "fbb840911ab246c99289ae61f40f4cc0",
       "version_major": 2,
       "version_minor": 0
      },
      "text/plain": [
       "Batches:   0%|          | 0/29 [00:00<?, ?it/s]"
      ]
     },
     "metadata": {},
     "output_type": "display_data"
    },
    {
     "data": {
      "application/vnd.jupyter.widget-view+json": {
       "model_id": "225db174534f45dc982e9890dab52ddc",
       "version_major": 2,
       "version_minor": 0
      },
      "text/plain": [
       "Batches:   0%|          | 0/29 [00:00<?, ?it/s]"
      ]
     },
     "metadata": {},
     "output_type": "display_data"
    },
    {
     "data": {
      "application/vnd.jupyter.widget-view+json": {
       "model_id": "541ddc392f5b4581a881cbc42a268e33",
       "version_major": 2,
       "version_minor": 0
      },
      "text/plain": [
       "Batches:   0%|          | 0/29 [00:00<?, ?it/s]"
      ]
     },
     "metadata": {},
     "output_type": "display_data"
    },
    {
     "data": {
      "application/vnd.jupyter.widget-view+json": {
       "model_id": "cdf06ffd332d4a129029d10e54d0f022",
       "version_major": 2,
       "version_minor": 0
      },
      "text/plain": [
       "Batches:   0%|          | 0/1 [00:00<?, ?it/s]"
      ]
     },
     "metadata": {},
     "output_type": "display_data"
    },
    {
     "data": {
      "application/vnd.jupyter.widget-view+json": {
       "model_id": "639d2e447ec043779ef5f7a71b9be19c",
       "version_major": 2,
       "version_minor": 0
      },
      "text/plain": [
       "Batches:   0%|          | 0/1 [00:00<?, ?it/s]"
      ]
     },
     "metadata": {},
     "output_type": "display_data"
    },
    {
     "data": {
      "application/vnd.jupyter.widget-view+json": {
       "model_id": "7afb994e81af4138b973b071c6b71fe3",
       "version_major": 2,
       "version_minor": 0
      },
      "text/plain": [
       "Batches:   0%|          | 0/1 [00:00<?, ?it/s]"
      ]
     },
     "metadata": {},
     "output_type": "display_data"
    },
    {
     "data": {
      "application/vnd.jupyter.widget-view+json": {
       "model_id": "65733b11de26447da091a13f85770987",
       "version_major": 2,
       "version_minor": 0
      },
      "text/plain": [
       "Batches:   0%|          | 0/1 [00:00<?, ?it/s]"
      ]
     },
     "metadata": {},
     "output_type": "display_data"
    },
    {
     "data": {
      "application/vnd.jupyter.widget-view+json": {
       "model_id": "8f8dec394ca445ecba8f9ef28ede7b32",
       "version_major": 2,
       "version_minor": 0
      },
      "text/plain": [
       "Batches:   0%|          | 0/1 [00:00<?, ?it/s]"
      ]
     },
     "metadata": {},
     "output_type": "display_data"
    },
    {
     "data": {
      "application/vnd.jupyter.widget-view+json": {
       "model_id": "cda0933add174e2da51051e4a3d7784f",
       "version_major": 2,
       "version_minor": 0
      },
      "text/plain": [
       "Batches:   0%|          | 0/29 [00:00<?, ?it/s]"
      ]
     },
     "metadata": {},
     "output_type": "display_data"
    },
    {
     "data": {
      "application/vnd.jupyter.widget-view+json": {
       "model_id": "000497fef7884503a5d4b23e2dfec2b9",
       "version_major": 2,
       "version_minor": 0
      },
      "text/plain": [
       "Batches:   0%|          | 0/29 [00:00<?, ?it/s]"
      ]
     },
     "metadata": {},
     "output_type": "display_data"
    },
    {
     "data": {
      "application/vnd.jupyter.widget-view+json": {
       "model_id": "1e064460c1ea4727a1d88a223c4c56eb",
       "version_major": 2,
       "version_minor": 0
      },
      "text/plain": [
       "Batches:   0%|          | 0/29 [00:00<?, ?it/s]"
      ]
     },
     "metadata": {},
     "output_type": "display_data"
    },
    {
     "data": {
      "application/vnd.jupyter.widget-view+json": {
       "model_id": "a6b1b1db07a34f4f96f5d87fb8067279",
       "version_major": 2,
       "version_minor": 0
      },
      "text/plain": [
       "Batches:   0%|          | 0/29 [00:00<?, ?it/s]"
      ]
     },
     "metadata": {},
     "output_type": "display_data"
    },
    {
     "data": {
      "application/vnd.jupyter.widget-view+json": {
       "model_id": "ad2c4ba99c9c4a97b3899513f49d0480",
       "version_major": 2,
       "version_minor": 0
      },
      "text/plain": [
       "Batches:   0%|          | 0/29 [00:00<?, ?it/s]"
      ]
     },
     "metadata": {},
     "output_type": "display_data"
    },
    {
     "data": {
      "application/vnd.jupyter.widget-view+json": {
       "model_id": "5f806935c9e7464099742fc9d6041de6",
       "version_major": 2,
       "version_minor": 0
      },
      "text/plain": [
       "Batches:   0%|          | 0/1 [00:00<?, ?it/s]"
      ]
     },
     "metadata": {},
     "output_type": "display_data"
    },
    {
     "data": {
      "application/vnd.jupyter.widget-view+json": {
       "model_id": "324b1f2198784ade9f9281165773f279",
       "version_major": 2,
       "version_minor": 0
      },
      "text/plain": [
       "Batches:   0%|          | 0/1 [00:00<?, ?it/s]"
      ]
     },
     "metadata": {},
     "output_type": "display_data"
    },
    {
     "data": {
      "application/vnd.jupyter.widget-view+json": {
       "model_id": "b8797eca0b9948f3b0868aa84338459e",
       "version_major": 2,
       "version_minor": 0
      },
      "text/plain": [
       "Batches:   0%|          | 0/1 [00:00<?, ?it/s]"
      ]
     },
     "metadata": {},
     "output_type": "display_data"
    },
    {
     "data": {
      "application/vnd.jupyter.widget-view+json": {
       "model_id": "5ce6fe04f6404c07ac142b9108719709",
       "version_major": 2,
       "version_minor": 0
      },
      "text/plain": [
       "Batches:   0%|          | 0/1 [00:00<?, ?it/s]"
      ]
     },
     "metadata": {},
     "output_type": "display_data"
    },
    {
     "data": {
      "application/vnd.jupyter.widget-view+json": {
       "model_id": "ec40dc7c53b3448ba4c183158d994446",
       "version_major": 2,
       "version_minor": 0
      },
      "text/plain": [
       "Batches:   0%|          | 0/1 [00:00<?, ?it/s]"
      ]
     },
     "metadata": {},
     "output_type": "display_data"
    },
    {
     "data": {
      "application/vnd.jupyter.widget-view+json": {
       "model_id": "565fe2351cb7485fb564828220fd547d",
       "version_major": 2,
       "version_minor": 0
      },
      "text/plain": [
       "Batches:   0%|          | 0/29 [00:00<?, ?it/s]"
      ]
     },
     "metadata": {},
     "output_type": "display_data"
    },
    {
     "data": {
      "application/vnd.jupyter.widget-view+json": {
       "model_id": "464b1ec8bd514dc186e5b30fdfa85ab2",
       "version_major": 2,
       "version_minor": 0
      },
      "text/plain": [
       "Batches:   0%|          | 0/29 [00:00<?, ?it/s]"
      ]
     },
     "metadata": {},
     "output_type": "display_data"
    },
    {
     "data": {
      "application/vnd.jupyter.widget-view+json": {
       "model_id": "d64073319e2d4a70a92619b4d60390de",
       "version_major": 2,
       "version_minor": 0
      },
      "text/plain": [
       "Batches:   0%|          | 0/29 [00:00<?, ?it/s]"
      ]
     },
     "metadata": {},
     "output_type": "display_data"
    },
    {
     "data": {
      "application/vnd.jupyter.widget-view+json": {
       "model_id": "3ce0a4b9b07646c585e107777cd55883",
       "version_major": 2,
       "version_minor": 0
      },
      "text/plain": [
       "Batches:   0%|          | 0/29 [00:00<?, ?it/s]"
      ]
     },
     "metadata": {},
     "output_type": "display_data"
    },
    {
     "data": {
      "application/vnd.jupyter.widget-view+json": {
       "model_id": "effbddc3a1c14b948186563868bd60c7",
       "version_major": 2,
       "version_minor": 0
      },
      "text/plain": [
       "Batches:   0%|          | 0/29 [00:00<?, ?it/s]"
      ]
     },
     "metadata": {},
     "output_type": "display_data"
    },
    {
     "data": {
      "application/vnd.jupyter.widget-view+json": {
       "model_id": "0d6ed3049e0c4317b36c71ae76dce356",
       "version_major": 2,
       "version_minor": 0
      },
      "text/plain": [
       "Batches:   0%|          | 0/1 [00:00<?, ?it/s]"
      ]
     },
     "metadata": {},
     "output_type": "display_data"
    },
    {
     "data": {
      "application/vnd.jupyter.widget-view+json": {
       "model_id": "6236a27759d04034b1127ad9454d5334",
       "version_major": 2,
       "version_minor": 0
      },
      "text/plain": [
       "Batches:   0%|          | 0/1 [00:00<?, ?it/s]"
      ]
     },
     "metadata": {},
     "output_type": "display_data"
    },
    {
     "data": {
      "application/vnd.jupyter.widget-view+json": {
       "model_id": "0bfc384ac0d34ec89915c6b6cd91d41b",
       "version_major": 2,
       "version_minor": 0
      },
      "text/plain": [
       "Batches:   0%|          | 0/1 [00:00<?, ?it/s]"
      ]
     },
     "metadata": {},
     "output_type": "display_data"
    },
    {
     "data": {
      "application/vnd.jupyter.widget-view+json": {
       "model_id": "ef13d60a726f480e94badbda7baae341",
       "version_major": 2,
       "version_minor": 0
      },
      "text/plain": [
       "Batches:   0%|          | 0/1 [00:00<?, ?it/s]"
      ]
     },
     "metadata": {},
     "output_type": "display_data"
    },
    {
     "data": {
      "application/vnd.jupyter.widget-view+json": {
       "model_id": "3980dd233a7741b8bd30ad953b01b488",
       "version_major": 2,
       "version_minor": 0
      },
      "text/plain": [
       "Batches:   0%|          | 0/1 [00:00<?, ?it/s]"
      ]
     },
     "metadata": {},
     "output_type": "display_data"
    },
    {
     "data": {
      "application/vnd.jupyter.widget-view+json": {
       "model_id": "295d23128231424eac64e8f5a9e9574d",
       "version_major": 2,
       "version_minor": 0
      },
      "text/plain": [
       "Batches:   0%|          | 0/29 [00:00<?, ?it/s]"
      ]
     },
     "metadata": {},
     "output_type": "display_data"
    },
    {
     "data": {
      "application/vnd.jupyter.widget-view+json": {
       "model_id": "b9f0cf5ec3fe487b9cd646caf65dd671",
       "version_major": 2,
       "version_minor": 0
      },
      "text/plain": [
       "Batches:   0%|          | 0/29 [00:00<?, ?it/s]"
      ]
     },
     "metadata": {},
     "output_type": "display_data"
    },
    {
     "data": {
      "application/vnd.jupyter.widget-view+json": {
       "model_id": "e32f4a3dd08041819626dc78bc2619de",
       "version_major": 2,
       "version_minor": 0
      },
      "text/plain": [
       "Batches:   0%|          | 0/29 [00:00<?, ?it/s]"
      ]
     },
     "metadata": {},
     "output_type": "display_data"
    },
    {
     "data": {
      "application/vnd.jupyter.widget-view+json": {
       "model_id": "6e71fe2186604e0eae061b710292570d",
       "version_major": 2,
       "version_minor": 0
      },
      "text/plain": [
       "Batches:   0%|          | 0/29 [00:00<?, ?it/s]"
      ]
     },
     "metadata": {},
     "output_type": "display_data"
    },
    {
     "data": {
      "application/vnd.jupyter.widget-view+json": {
       "model_id": "7e1a1c32d03e4e4ba490e1ff9cd98d1d",
       "version_major": 2,
       "version_minor": 0
      },
      "text/plain": [
       "Batches:   0%|          | 0/29 [00:00<?, ?it/s]"
      ]
     },
     "metadata": {},
     "output_type": "display_data"
    },
    {
     "data": {
      "application/vnd.jupyter.widget-view+json": {
       "model_id": "16f79629e9584da5aa6c1d2eada493a6",
       "version_major": 2,
       "version_minor": 0
      },
      "text/plain": [
       "Batches:   0%|          | 0/1 [00:00<?, ?it/s]"
      ]
     },
     "metadata": {},
     "output_type": "display_data"
    },
    {
     "data": {
      "application/vnd.jupyter.widget-view+json": {
       "model_id": "80275c5ad8b34717a043734a0289c68e",
       "version_major": 2,
       "version_minor": 0
      },
      "text/plain": [
       "Batches:   0%|          | 0/1 [00:00<?, ?it/s]"
      ]
     },
     "metadata": {},
     "output_type": "display_data"
    },
    {
     "data": {
      "application/vnd.jupyter.widget-view+json": {
       "model_id": "7bdb4aff92e04b22902a2aa6ce8df7cb",
       "version_major": 2,
       "version_minor": 0
      },
      "text/plain": [
       "Batches:   0%|          | 0/1 [00:00<?, ?it/s]"
      ]
     },
     "metadata": {},
     "output_type": "display_data"
    },
    {
     "data": {
      "application/vnd.jupyter.widget-view+json": {
       "model_id": "7df343f0f251471db5d62d4ed504afe5",
       "version_major": 2,
       "version_minor": 0
      },
      "text/plain": [
       "Batches:   0%|          | 0/1 [00:00<?, ?it/s]"
      ]
     },
     "metadata": {},
     "output_type": "display_data"
    },
    {
     "data": {
      "application/vnd.jupyter.widget-view+json": {
       "model_id": "64b53fa769e14fadb6447f5a8a52557b",
       "version_major": 2,
       "version_minor": 0
      },
      "text/plain": [
       "Batches:   0%|          | 0/1 [00:00<?, ?it/s]"
      ]
     },
     "metadata": {},
     "output_type": "display_data"
    },
    {
     "data": {
      "application/vnd.jupyter.widget-view+json": {
       "model_id": "b553c61a7664406f84d053240dd1abf5",
       "version_major": 2,
       "version_minor": 0
      },
      "text/plain": [
       "Batches:   0%|          | 0/29 [00:00<?, ?it/s]"
      ]
     },
     "metadata": {},
     "output_type": "display_data"
    },
    {
     "data": {
      "application/vnd.jupyter.widget-view+json": {
       "model_id": "6f460e073bee4dcda434dcc1f0e4046e",
       "version_major": 2,
       "version_minor": 0
      },
      "text/plain": [
       "Batches:   0%|          | 0/29 [00:00<?, ?it/s]"
      ]
     },
     "metadata": {},
     "output_type": "display_data"
    },
    {
     "data": {
      "application/vnd.jupyter.widget-view+json": {
       "model_id": "2ec7596b5e9c461eae49f3dff5c94769",
       "version_major": 2,
       "version_minor": 0
      },
      "text/plain": [
       "Batches:   0%|          | 0/29 [00:00<?, ?it/s]"
      ]
     },
     "metadata": {},
     "output_type": "display_data"
    },
    {
     "data": {
      "application/vnd.jupyter.widget-view+json": {
       "model_id": "6236313a700e45b392cc183ddec78c77",
       "version_major": 2,
       "version_minor": 0
      },
      "text/plain": [
       "Batches:   0%|          | 0/29 [00:00<?, ?it/s]"
      ]
     },
     "metadata": {},
     "output_type": "display_data"
    },
    {
     "data": {
      "application/vnd.jupyter.widget-view+json": {
       "model_id": "91b9ae91753647d48973dc021fb68c0e",
       "version_major": 2,
       "version_minor": 0
      },
      "text/plain": [
       "Batches:   0%|          | 0/29 [00:00<?, ?it/s]"
      ]
     },
     "metadata": {},
     "output_type": "display_data"
    },
    {
     "data": {
      "application/vnd.jupyter.widget-view+json": {
       "model_id": "4bed0214e9ce4bc9b734c1b9221a64cb",
       "version_major": 2,
       "version_minor": 0
      },
      "text/plain": [
       "Batches:   0%|          | 0/1 [00:00<?, ?it/s]"
      ]
     },
     "metadata": {},
     "output_type": "display_data"
    },
    {
     "data": {
      "application/vnd.jupyter.widget-view+json": {
       "model_id": "35e0cb5e12ff46ada336dc12f6694f2f",
       "version_major": 2,
       "version_minor": 0
      },
      "text/plain": [
       "Batches:   0%|          | 0/1 [00:00<?, ?it/s]"
      ]
     },
     "metadata": {},
     "output_type": "display_data"
    },
    {
     "data": {
      "application/vnd.jupyter.widget-view+json": {
       "model_id": "b774a3b4c85f4d85baaf57dd447d7aa0",
       "version_major": 2,
       "version_minor": 0
      },
      "text/plain": [
       "Batches:   0%|          | 0/1 [00:00<?, ?it/s]"
      ]
     },
     "metadata": {},
     "output_type": "display_data"
    },
    {
     "data": {
      "application/vnd.jupyter.widget-view+json": {
       "model_id": "9af277130dca484c9d39e05522ab7509",
       "version_major": 2,
       "version_minor": 0
      },
      "text/plain": [
       "Batches:   0%|          | 0/1 [00:00<?, ?it/s]"
      ]
     },
     "metadata": {},
     "output_type": "display_data"
    },
    {
     "data": {
      "application/vnd.jupyter.widget-view+json": {
       "model_id": "f37b7c30fbf8468b8058fe101e10418d",
       "version_major": 2,
       "version_minor": 0
      },
      "text/plain": [
       "Batches:   0%|          | 0/1 [00:00<?, ?it/s]"
      ]
     },
     "metadata": {},
     "output_type": "display_data"
    },
    {
     "data": {
      "application/vnd.jupyter.widget-view+json": {
       "model_id": "ed5a14eaa068401fb5240bffc1b81fc0",
       "version_major": 2,
       "version_minor": 0
      },
      "text/plain": [
       "Batches:   0%|          | 0/29 [00:00<?, ?it/s]"
      ]
     },
     "metadata": {},
     "output_type": "display_data"
    },
    {
     "data": {
      "application/vnd.jupyter.widget-view+json": {
       "model_id": "6cfdfb80ac2b4c9bbfb1ec39737982f5",
       "version_major": 2,
       "version_minor": 0
      },
      "text/plain": [
       "Batches:   0%|          | 0/29 [00:00<?, ?it/s]"
      ]
     },
     "metadata": {},
     "output_type": "display_data"
    },
    {
     "data": {
      "application/vnd.jupyter.widget-view+json": {
       "model_id": "216c3e2a1af549f1b68e0290537662b1",
       "version_major": 2,
       "version_minor": 0
      },
      "text/plain": [
       "Batches:   0%|          | 0/29 [00:00<?, ?it/s]"
      ]
     },
     "metadata": {},
     "output_type": "display_data"
    },
    {
     "data": {
      "application/vnd.jupyter.widget-view+json": {
       "model_id": "af7191dc11fe43619962dea7b6da8466",
       "version_major": 2,
       "version_minor": 0
      },
      "text/plain": [
       "Batches:   0%|          | 0/29 [00:00<?, ?it/s]"
      ]
     },
     "metadata": {},
     "output_type": "display_data"
    },
    {
     "data": {
      "application/vnd.jupyter.widget-view+json": {
       "model_id": "a17cf5e931bb40619c6975ea02b1fe47",
       "version_major": 2,
       "version_minor": 0
      },
      "text/plain": [
       "Batches:   0%|          | 0/29 [00:00<?, ?it/s]"
      ]
     },
     "metadata": {},
     "output_type": "display_data"
    },
    {
     "data": {
      "application/vnd.jupyter.widget-view+json": {
       "model_id": "103c07a1744d4756ac48468de9834eb8",
       "version_major": 2,
       "version_minor": 0
      },
      "text/plain": [
       "Batches:   0%|          | 0/1 [00:00<?, ?it/s]"
      ]
     },
     "metadata": {},
     "output_type": "display_data"
    },
    {
     "data": {
      "application/vnd.jupyter.widget-view+json": {
       "model_id": "8ddba53f3661444aad3945237a74a8f6",
       "version_major": 2,
       "version_minor": 0
      },
      "text/plain": [
       "Batches:   0%|          | 0/1 [00:00<?, ?it/s]"
      ]
     },
     "metadata": {},
     "output_type": "display_data"
    },
    {
     "data": {
      "application/vnd.jupyter.widget-view+json": {
       "model_id": "6f16083cb8d34630a50d9f1e4d53a55f",
       "version_major": 2,
       "version_minor": 0
      },
      "text/plain": [
       "Batches:   0%|          | 0/1 [00:00<?, ?it/s]"
      ]
     },
     "metadata": {},
     "output_type": "display_data"
    },
    {
     "data": {
      "application/vnd.jupyter.widget-view+json": {
       "model_id": "696d24b3bfb94d0089fa46ec7f2b7c3a",
       "version_major": 2,
       "version_minor": 0
      },
      "text/plain": [
       "Batches:   0%|          | 0/1 [00:00<?, ?it/s]"
      ]
     },
     "metadata": {},
     "output_type": "display_data"
    },
    {
     "data": {
      "application/vnd.jupyter.widget-view+json": {
       "model_id": "353cd04f57ad4cfd93de46cf280b576b",
       "version_major": 2,
       "version_minor": 0
      },
      "text/plain": [
       "Batches:   0%|          | 0/1 [00:00<?, ?it/s]"
      ]
     },
     "metadata": {},
     "output_type": "display_data"
    },
    {
     "data": {
      "application/vnd.jupyter.widget-view+json": {
       "model_id": "3511311ea3a7409c9e04085d6ebfbf3b",
       "version_major": 2,
       "version_minor": 0
      },
      "text/plain": [
       "Batches:   0%|          | 0/29 [00:00<?, ?it/s]"
      ]
     },
     "metadata": {},
     "output_type": "display_data"
    },
    {
     "data": {
      "application/vnd.jupyter.widget-view+json": {
       "model_id": "740eff1f746d4820b19a755754d8bf1d",
       "version_major": 2,
       "version_minor": 0
      },
      "text/plain": [
       "Batches:   0%|          | 0/29 [00:00<?, ?it/s]"
      ]
     },
     "metadata": {},
     "output_type": "display_data"
    },
    {
     "data": {
      "application/vnd.jupyter.widget-view+json": {
       "model_id": "abba85f1bf0c4e939812c0327169e04a",
       "version_major": 2,
       "version_minor": 0
      },
      "text/plain": [
       "Batches:   0%|          | 0/29 [00:00<?, ?it/s]"
      ]
     },
     "metadata": {},
     "output_type": "display_data"
    },
    {
     "data": {
      "application/vnd.jupyter.widget-view+json": {
       "model_id": "19451bab00f241e398283dee35786461",
       "version_major": 2,
       "version_minor": 0
      },
      "text/plain": [
       "Batches:   0%|          | 0/29 [00:00<?, ?it/s]"
      ]
     },
     "metadata": {},
     "output_type": "display_data"
    },
    {
     "data": {
      "application/vnd.jupyter.widget-view+json": {
       "model_id": "4f88ecf96b62492592a345edce1802a6",
       "version_major": 2,
       "version_minor": 0
      },
      "text/plain": [
       "Batches:   0%|          | 0/29 [00:00<?, ?it/s]"
      ]
     },
     "metadata": {},
     "output_type": "display_data"
    },
    {
     "data": {
      "application/vnd.jupyter.widget-view+json": {
       "model_id": "bd7ddf45afeb4523b269f1924a0e6d2b",
       "version_major": 2,
       "version_minor": 0
      },
      "text/plain": [
       "Batches:   0%|          | 0/1 [00:00<?, ?it/s]"
      ]
     },
     "metadata": {},
     "output_type": "display_data"
    },
    {
     "data": {
      "application/vnd.jupyter.widget-view+json": {
       "model_id": "f964fc29982f47cc8a464ccb581d57ef",
       "version_major": 2,
       "version_minor": 0
      },
      "text/plain": [
       "Batches:   0%|          | 0/1 [00:00<?, ?it/s]"
      ]
     },
     "metadata": {},
     "output_type": "display_data"
    },
    {
     "data": {
      "application/vnd.jupyter.widget-view+json": {
       "model_id": "a09d8e075bf6406280d467653c06df0d",
       "version_major": 2,
       "version_minor": 0
      },
      "text/plain": [
       "Batches:   0%|          | 0/1 [00:00<?, ?it/s]"
      ]
     },
     "metadata": {},
     "output_type": "display_data"
    },
    {
     "data": {
      "application/vnd.jupyter.widget-view+json": {
       "model_id": "e1b6b8717fd44a909c294f96c63562c8",
       "version_major": 2,
       "version_minor": 0
      },
      "text/plain": [
       "Batches:   0%|          | 0/1 [00:00<?, ?it/s]"
      ]
     },
     "metadata": {},
     "output_type": "display_data"
    },
    {
     "data": {
      "application/vnd.jupyter.widget-view+json": {
       "model_id": "1788cfe5b20444acbf3333e184a06843",
       "version_major": 2,
       "version_minor": 0
      },
      "text/plain": [
       "Batches:   0%|          | 0/1 [00:00<?, ?it/s]"
      ]
     },
     "metadata": {},
     "output_type": "display_data"
    },
    {
     "data": {
      "application/vnd.jupyter.widget-view+json": {
       "model_id": "363e7d5a5fd6411eb8dc485e1088359e",
       "version_major": 2,
       "version_minor": 0
      },
      "text/plain": [
       "Batches:   0%|          | 0/29 [00:00<?, ?it/s]"
      ]
     },
     "metadata": {},
     "output_type": "display_data"
    },
    {
     "data": {
      "application/vnd.jupyter.widget-view+json": {
       "model_id": "efbdc16af6c54838a91f82a47fd8496d",
       "version_major": 2,
       "version_minor": 0
      },
      "text/plain": [
       "Batches:   0%|          | 0/29 [00:00<?, ?it/s]"
      ]
     },
     "metadata": {},
     "output_type": "display_data"
    },
    {
     "data": {
      "application/vnd.jupyter.widget-view+json": {
       "model_id": "46b29aff2ea34a67a3f93b6c65894af4",
       "version_major": 2,
       "version_minor": 0
      },
      "text/plain": [
       "Batches:   0%|          | 0/29 [00:00<?, ?it/s]"
      ]
     },
     "metadata": {},
     "output_type": "display_data"
    },
    {
     "data": {
      "application/vnd.jupyter.widget-view+json": {
       "model_id": "949f0cf251074fe0b68da6c513f79393",
       "version_major": 2,
       "version_minor": 0
      },
      "text/plain": [
       "Batches:   0%|          | 0/29 [00:00<?, ?it/s]"
      ]
     },
     "metadata": {},
     "output_type": "display_data"
    },
    {
     "data": {
      "application/vnd.jupyter.widget-view+json": {
       "model_id": "7c56a757d94b48c58a2d0483eeb5217b",
       "version_major": 2,
       "version_minor": 0
      },
      "text/plain": [
       "Batches:   0%|          | 0/29 [00:00<?, ?it/s]"
      ]
     },
     "metadata": {},
     "output_type": "display_data"
    },
    {
     "name": "stdout",
     "output_type": "stream",
     "text": [
      "23 records found for 20231123.\n",
      "Images for showid FOXNEWSW_20231124_060000_Fox_Nation_Presents_The_Patriot_Awards_2023: 1816\n"
     ]
    },
    {
     "data": {
      "application/vnd.jupyter.widget-view+json": {
       "model_id": "ab3c592bee1e4f07964c0098e4664d49",
       "version_major": 2,
       "version_minor": 0
      },
      "text/plain": [
       "Batches:   0%|          | 0/15 [00:00<?, ?it/s]"
      ]
     },
     "metadata": {},
     "output_type": "display_data"
    },
    {
     "name": "stdout",
     "output_type": "stream",
     "text": [
      "Images for showid FOXNEWSW_20231124_050000_The_Five: 916\n"
     ]
    },
    {
     "data": {
      "application/vnd.jupyter.widget-view+json": {
       "model_id": "34266e7be82a48f58a73cb83a7422ac5",
       "version_major": 2,
       "version_minor": 0
      },
      "text/plain": [
       "Batches:   0%|          | 0/8 [00:00<?, ?it/s]"
      ]
     },
     "metadata": {},
     "output_type": "display_data"
    },
    {
     "name": "stdout",
     "output_type": "stream",
     "text": [
      "Images for showid FOXNEWSW_20231124_040000_Special_Report_With_Bret_Baier: 916\n"
     ]
    },
    {
     "data": {
      "application/vnd.jupyter.widget-view+json": {
       "model_id": "08e4683a8444457784339ee19b27abab",
       "version_major": 2,
       "version_minor": 0
      },
      "text/plain": [
       "Batches:   0%|          | 0/8 [00:00<?, ?it/s]"
      ]
     },
     "metadata": {},
     "output_type": "display_data"
    },
    {
     "name": "stdout",
     "output_type": "stream",
     "text": [
      "Images for showid FOXNEWSW_20231124_030000_Gutfeld: 916\n"
     ]
    },
    {
     "data": {
      "application/vnd.jupyter.widget-view+json": {
       "model_id": "7b3e7099df0840b687d0b23ea2c535f1",
       "version_major": 2,
       "version_minor": 0
      },
      "text/plain": [
       "Batches:   0%|          | 0/8 [00:00<?, ?it/s]"
      ]
     },
     "metadata": {},
     "output_type": "display_data"
    },
    {
     "name": "stdout",
     "output_type": "stream",
     "text": [
      "Images for showid FOXNEWSW_20231124_010000_Fox_Nation_Presents_The_Patriot_Awards_2023: 1812\n"
     ]
    },
    {
     "data": {
      "application/vnd.jupyter.widget-view+json": {
       "model_id": "966c99a3f58e432bb86d041c6e89c52a",
       "version_major": 2,
       "version_minor": 0
      },
      "text/plain": [
       "Batches:   0%|          | 0/15 [00:00<?, ?it/s]"
      ]
     },
     "metadata": {},
     "output_type": "display_data"
    },
    {
     "name": "stdout",
     "output_type": "stream",
     "text": [
      "Images for showid FOXNEWSW_20231124_000000_The_Ingraham_Angle: 916\n"
     ]
    },
    {
     "data": {
      "application/vnd.jupyter.widget-view+json": {
       "model_id": "0d505b860b06492fbd839ef3864b080e",
       "version_major": 2,
       "version_minor": 0
      },
      "text/plain": [
       "Batches:   0%|          | 0/8 [00:00<?, ?it/s]"
      ]
     },
     "metadata": {},
     "output_type": "display_data"
    },
    {
     "name": "stdout",
     "output_type": "stream",
     "text": [
      "Images for showid FOXNEWSW_20231123_230000_Special_Report_With_Bret_Baier: 916\n"
     ]
    },
    {
     "data": {
      "application/vnd.jupyter.widget-view+json": {
       "model_id": "edec0663555047558a2a1bf80c9b42d8",
       "version_major": 2,
       "version_minor": 0
      },
      "text/plain": [
       "Batches:   0%|          | 0/8 [00:00<?, ?it/s]"
      ]
     },
     "metadata": {},
     "output_type": "display_data"
    },
    {
     "name": "stdout",
     "output_type": "stream",
     "text": [
      "Images for showid FOXNEWSW_20231123_220000_The_Five: 916\n"
     ]
    },
    {
     "data": {
      "application/vnd.jupyter.widget-view+json": {
       "model_id": "279b176c103441fbb630cab50ce41e64",
       "version_major": 2,
       "version_minor": 0
      },
      "text/plain": [
       "Batches:   0%|          | 0/8 [00:00<?, ?it/s]"
      ]
     },
     "metadata": {},
     "output_type": "display_data"
    },
    {
     "name": "stdout",
     "output_type": "stream",
     "text": [
      "Images for showid FOXNEWSW_20231123_210000_Your_World_With_Neil_Cavuto: 916\n"
     ]
    },
    {
     "data": {
      "application/vnd.jupyter.widget-view+json": {
       "model_id": "8ea876615c8d4c909aaf316da104e042",
       "version_major": 2,
       "version_minor": 0
      },
      "text/plain": [
       "Batches:   0%|          | 0/8 [00:00<?, ?it/s]"
      ]
     },
     "metadata": {},
     "output_type": "display_data"
    },
    {
     "name": "stdout",
     "output_type": "stream",
     "text": [
      "Images for showid FOXNEWSW_20231123_200000_Fox_News_Live: 916\n"
     ]
    },
    {
     "data": {
      "application/vnd.jupyter.widget-view+json": {
       "model_id": "aac069da77b14e8a972c58d0224ee7f3",
       "version_major": 2,
       "version_minor": 0
      },
      "text/plain": [
       "Batches:   0%|          | 0/8 [00:00<?, ?it/s]"
      ]
     },
     "metadata": {},
     "output_type": "display_data"
    },
    {
     "name": "stdout",
     "output_type": "stream",
     "text": [
      "Images for showid FOXNEWSW_20231123_190000_Fox_News_Live: 916\n"
     ]
    },
    {
     "data": {
      "application/vnd.jupyter.widget-view+json": {
       "model_id": "a0f0df87e4f24a1c9ddd99425f669042",
       "version_major": 2,
       "version_minor": 0
      },
      "text/plain": [
       "Batches:   0%|          | 0/8 [00:00<?, ?it/s]"
      ]
     },
     "metadata": {},
     "output_type": "display_data"
    },
    {
     "name": "stdout",
     "output_type": "stream",
     "text": [
      "Images for showid FOXNEWSW_20231123_180000_Fox_News_Live: 916\n"
     ]
    },
    {
     "data": {
      "application/vnd.jupyter.widget-view+json": {
       "model_id": "421ae6b4393a4a28a63cc7313459a1af",
       "version_major": 2,
       "version_minor": 0
      },
      "text/plain": [
       "Batches:   0%|          | 0/8 [00:00<?, ?it/s]"
      ]
     },
     "metadata": {},
     "output_type": "display_data"
    },
    {
     "name": "stdout",
     "output_type": "stream",
     "text": [
      "Images for showid FOXNEWSW_20231123_170000_Outnumbered: 916\n"
     ]
    },
    {
     "data": {
      "application/vnd.jupyter.widget-view+json": {
       "model_id": "7900412ef67240f1897a7c8370754ea7",
       "version_major": 2,
       "version_minor": 0
      },
      "text/plain": [
       "Batches:   0%|          | 0/8 [00:00<?, ?it/s]"
      ]
     },
     "metadata": {},
     "output_type": "display_data"
    },
    {
     "name": "stdout",
     "output_type": "stream",
     "text": [
      "Images for showid FOXNEWSW_20231123_160000_Fox_News_Live: 916\n"
     ]
    },
    {
     "data": {
      "application/vnd.jupyter.widget-view+json": {
       "model_id": "268d0c6fe5af48a1a2191e8a5a77f764",
       "version_major": 2,
       "version_minor": 0
      },
      "text/plain": [
       "Batches:   0%|          | 0/8 [00:00<?, ?it/s]"
      ]
     },
     "metadata": {},
     "output_type": "display_data"
    },
    {
     "name": "stdout",
     "output_type": "stream",
     "text": [
      "Images for showid FOXNEWSW_20231123_150000_Fox_News_Live: 916\n"
     ]
    },
    {
     "data": {
      "application/vnd.jupyter.widget-view+json": {
       "model_id": "db22efed94514c98a69137b4c4f8e5bf",
       "version_major": 2,
       "version_minor": 0
      },
      "text/plain": [
       "Batches:   0%|          | 0/8 [00:00<?, ?it/s]"
      ]
     },
     "metadata": {},
     "output_type": "display_data"
    },
    {
     "name": "stdout",
     "output_type": "stream",
     "text": [
      "Images for showid FOXNEWSW_20231123_140000_Fox_News_Live: 915\n"
     ]
    },
    {
     "data": {
      "application/vnd.jupyter.widget-view+json": {
       "model_id": "74b5b302a86f440ab95165e79fda2bdf",
       "version_major": 2,
       "version_minor": 0
      },
      "text/plain": [
       "Batches:   0%|          | 0/8 [00:00<?, ?it/s]"
      ]
     },
     "metadata": {},
     "output_type": "display_data"
    },
    {
     "name": "stdout",
     "output_type": "stream",
     "text": [
      "Images for showid FOXNEWSW_20231123_130000_FOX_and_Friends: 916\n"
     ]
    },
    {
     "data": {
      "application/vnd.jupyter.widget-view+json": {
       "model_id": "653b0d2aff9349f6a67528bd2f17efc9",
       "version_major": 2,
       "version_minor": 0
      },
      "text/plain": [
       "Batches:   0%|          | 0/8 [00:00<?, ?it/s]"
      ]
     },
     "metadata": {},
     "output_type": "display_data"
    },
    {
     "name": "stdout",
     "output_type": "stream",
     "text": [
      "Images for showid FOXNEWSW_20231123_120000_FOX_and_Friends: 916\n"
     ]
    },
    {
     "data": {
      "application/vnd.jupyter.widget-view+json": {
       "model_id": "811b8e3dea9f4d3c969de7eebfcfcb4d",
       "version_major": 2,
       "version_minor": 0
      },
      "text/plain": [
       "Batches:   0%|          | 0/8 [00:00<?, ?it/s]"
      ]
     },
     "metadata": {},
     "output_type": "display_data"
    },
    {
     "name": "stdout",
     "output_type": "stream",
     "text": [
      "Images for showid FOXNEWSW_20231123_110000_FOX_and_Friends: 916\n"
     ]
    },
    {
     "data": {
      "application/vnd.jupyter.widget-view+json": {
       "model_id": "89e4fab8829e4370bdb56447941d996f",
       "version_major": 2,
       "version_minor": 0
      },
      "text/plain": [
       "Batches:   0%|          | 0/8 [00:00<?, ?it/s]"
      ]
     },
     "metadata": {},
     "output_type": "display_data"
    },
    {
     "name": "stdout",
     "output_type": "stream",
     "text": [
      "Images for showid FOXNEWSW_20231123_100000_FOX__Friends_First: 916\n"
     ]
    },
    {
     "data": {
      "application/vnd.jupyter.widget-view+json": {
       "model_id": "f0ccb066da3a403290acce65a7206e63",
       "version_major": 2,
       "version_minor": 0
      },
      "text/plain": [
       "Batches:   0%|          | 0/8 [00:00<?, ?it/s]"
      ]
     },
     "metadata": {},
     "output_type": "display_data"
    },
    {
     "name": "stdout",
     "output_type": "stream",
     "text": [
      "Images for showid FOXNEWSW_20231123_090000_The_Ingraham_Angle: 916\n"
     ]
    },
    {
     "data": {
      "application/vnd.jupyter.widget-view+json": {
       "model_id": "b8cc98fb7fe94487ae99b82bc9094240",
       "version_major": 2,
       "version_minor": 0
      },
      "text/plain": [
       "Batches:   0%|          | 0/8 [00:00<?, ?it/s]"
      ]
     },
     "metadata": {},
     "output_type": "display_data"
    },
    {
     "name": "stdout",
     "output_type": "stream",
     "text": [
      "Images for showid FOXNEWSW_20231123_080000_Gutfeld: 916\n"
     ]
    },
    {
     "data": {
      "application/vnd.jupyter.widget-view+json": {
       "model_id": "ca04c514a38b4215aa2c651ed6472c06",
       "version_major": 2,
       "version_minor": 0
      },
      "text/plain": [
       "Batches:   0%|          | 0/8 [00:00<?, ?it/s]"
      ]
     },
     "metadata": {},
     "output_type": "display_data"
    },
    {
     "name": "stdout",
     "output_type": "stream",
     "text": [
      "Images for showid FOXNEWSW_20231123_070000_Hannity: 916\n"
     ]
    },
    {
     "data": {
      "application/vnd.jupyter.widget-view+json": {
       "model_id": "28eef15d976a4c7eb4b58731feefff25",
       "version_major": 2,
       "version_minor": 0
      },
      "text/plain": [
       "Batches:   0%|          | 0/8 [00:00<?, ?it/s]"
      ]
     },
     "metadata": {},
     "output_type": "display_data"
    },
    {
     "data": {
      "application/vnd.jupyter.widget-view+json": {
       "model_id": "c123fe2eb10f44e5a5d7a71a02ea935e",
       "version_major": 2,
       "version_minor": 0
      },
      "text/plain": [
       "Batches:   0%|          | 0/1 [00:00<?, ?it/s]"
      ]
     },
     "metadata": {},
     "output_type": "display_data"
    },
    {
     "data": {
      "application/vnd.jupyter.widget-view+json": {
       "model_id": "230712d41d674089b07da3db9d7cb938",
       "version_major": 2,
       "version_minor": 0
      },
      "text/plain": [
       "Batches:   0%|          | 0/1 [00:00<?, ?it/s]"
      ]
     },
     "metadata": {},
     "output_type": "display_data"
    },
    {
     "data": {
      "application/vnd.jupyter.widget-view+json": {
       "model_id": "fe177409b09a4dee9ef3e89be4f319cc",
       "version_major": 2,
       "version_minor": 0
      },
      "text/plain": [
       "Batches:   0%|          | 0/1 [00:00<?, ?it/s]"
      ]
     },
     "metadata": {},
     "output_type": "display_data"
    },
    {
     "data": {
      "application/vnd.jupyter.widget-view+json": {
       "model_id": "cf91f3ee280442a686a5743cf7910584",
       "version_major": 2,
       "version_minor": 0
      },
      "text/plain": [
       "Batches:   0%|          | 0/1 [00:00<?, ?it/s]"
      ]
     },
     "metadata": {},
     "output_type": "display_data"
    },
    {
     "data": {
      "application/vnd.jupyter.widget-view+json": {
       "model_id": "b69e382ca36f4bfc9de9dfa0f3099902",
       "version_major": 2,
       "version_minor": 0
      },
      "text/plain": [
       "Batches:   0%|          | 0/1 [00:00<?, ?it/s]"
      ]
     },
     "metadata": {},
     "output_type": "display_data"
    },
    {
     "data": {
      "application/vnd.jupyter.widget-view+json": {
       "model_id": "1add7bb7f43a4009adde118e14667556",
       "version_major": 2,
       "version_minor": 0
      },
      "text/plain": [
       "Batches:   0%|          | 0/29 [00:00<?, ?it/s]"
      ]
     },
     "metadata": {},
     "output_type": "display_data"
    },
    {
     "data": {
      "application/vnd.jupyter.widget-view+json": {
       "model_id": "ca75d0ba73e54bd2b2fb4a7a39f5dcfe",
       "version_major": 2,
       "version_minor": 0
      },
      "text/plain": [
       "Batches:   0%|          | 0/29 [00:00<?, ?it/s]"
      ]
     },
     "metadata": {},
     "output_type": "display_data"
    },
    {
     "data": {
      "application/vnd.jupyter.widget-view+json": {
       "model_id": "29866336c2284ababe1cf97863cd52df",
       "version_major": 2,
       "version_minor": 0
      },
      "text/plain": [
       "Batches:   0%|          | 0/29 [00:00<?, ?it/s]"
      ]
     },
     "metadata": {},
     "output_type": "display_data"
    },
    {
     "data": {
      "application/vnd.jupyter.widget-view+json": {
       "model_id": "93c329d37c5048a9b85e8ad16bbabb24",
       "version_major": 2,
       "version_minor": 0
      },
      "text/plain": [
       "Batches:   0%|          | 0/29 [00:00<?, ?it/s]"
      ]
     },
     "metadata": {},
     "output_type": "display_data"
    },
    {
     "data": {
      "application/vnd.jupyter.widget-view+json": {
       "model_id": "4f7fe77a9f2b49cca42bf1516de5bd71",
       "version_major": 2,
       "version_minor": 0
      },
      "text/plain": [
       "Batches:   0%|          | 0/29 [00:00<?, ?it/s]"
      ]
     },
     "metadata": {},
     "output_type": "display_data"
    },
    {
     "data": {
      "application/vnd.jupyter.widget-view+json": {
       "model_id": "24c24e15c8de4ddaaceebd035dbe3cee",
       "version_major": 2,
       "version_minor": 0
      },
      "text/plain": [
       "Batches:   0%|          | 0/1 [00:00<?, ?it/s]"
      ]
     },
     "metadata": {},
     "output_type": "display_data"
    },
    {
     "data": {
      "application/vnd.jupyter.widget-view+json": {
       "model_id": "407ca5586c9d4cdea670112db04764c9",
       "version_major": 2,
       "version_minor": 0
      },
      "text/plain": [
       "Batches:   0%|          | 0/1 [00:00<?, ?it/s]"
      ]
     },
     "metadata": {},
     "output_type": "display_data"
    },
    {
     "data": {
      "application/vnd.jupyter.widget-view+json": {
       "model_id": "2ae3725aba55481080400836aac68e55",
       "version_major": 2,
       "version_minor": 0
      },
      "text/plain": [
       "Batches:   0%|          | 0/1 [00:00<?, ?it/s]"
      ]
     },
     "metadata": {},
     "output_type": "display_data"
    },
    {
     "data": {
      "application/vnd.jupyter.widget-view+json": {
       "model_id": "223c28daee914703825570acb7bb0659",
       "version_major": 2,
       "version_minor": 0
      },
      "text/plain": [
       "Batches:   0%|          | 0/1 [00:00<?, ?it/s]"
      ]
     },
     "metadata": {},
     "output_type": "display_data"
    },
    {
     "data": {
      "application/vnd.jupyter.widget-view+json": {
       "model_id": "2f072a933fde46fa911f85dfafd07787",
       "version_major": 2,
       "version_minor": 0
      },
      "text/plain": [
       "Batches:   0%|          | 0/1 [00:00<?, ?it/s]"
      ]
     },
     "metadata": {},
     "output_type": "display_data"
    },
    {
     "data": {
      "application/vnd.jupyter.widget-view+json": {
       "model_id": "2652edac3e8443c8aeb6ebf7d8dd2c08",
       "version_major": 2,
       "version_minor": 0
      },
      "text/plain": [
       "Batches:   0%|          | 0/29 [00:00<?, ?it/s]"
      ]
     },
     "metadata": {},
     "output_type": "display_data"
    },
    {
     "data": {
      "application/vnd.jupyter.widget-view+json": {
       "model_id": "f37344b9bb5d4373b53c59a8f50a91c2",
       "version_major": 2,
       "version_minor": 0
      },
      "text/plain": [
       "Batches:   0%|          | 0/29 [00:00<?, ?it/s]"
      ]
     },
     "metadata": {},
     "output_type": "display_data"
    },
    {
     "data": {
      "application/vnd.jupyter.widget-view+json": {
       "model_id": "611ce4ed0412423c9da74dd28b64300c",
       "version_major": 2,
       "version_minor": 0
      },
      "text/plain": [
       "Batches:   0%|          | 0/29 [00:00<?, ?it/s]"
      ]
     },
     "metadata": {},
     "output_type": "display_data"
    },
    {
     "data": {
      "application/vnd.jupyter.widget-view+json": {
       "model_id": "4666f6aa8ba747c3b49c5b396537980b",
       "version_major": 2,
       "version_minor": 0
      },
      "text/plain": [
       "Batches:   0%|          | 0/29 [00:00<?, ?it/s]"
      ]
     },
     "metadata": {},
     "output_type": "display_data"
    },
    {
     "data": {
      "application/vnd.jupyter.widget-view+json": {
       "model_id": "69258e276bfb48f79b8e92ace03d4161",
       "version_major": 2,
       "version_minor": 0
      },
      "text/plain": [
       "Batches:   0%|          | 0/29 [00:00<?, ?it/s]"
      ]
     },
     "metadata": {},
     "output_type": "display_data"
    },
    {
     "data": {
      "application/vnd.jupyter.widget-view+json": {
       "model_id": "05ae7f1533b840398518bbe92b4c5960",
       "version_major": 2,
       "version_minor": 0
      },
      "text/plain": [
       "Batches:   0%|          | 0/1 [00:00<?, ?it/s]"
      ]
     },
     "metadata": {},
     "output_type": "display_data"
    },
    {
     "data": {
      "application/vnd.jupyter.widget-view+json": {
       "model_id": "8c51484a14814f438452597c7a4463b9",
       "version_major": 2,
       "version_minor": 0
      },
      "text/plain": [
       "Batches:   0%|          | 0/1 [00:00<?, ?it/s]"
      ]
     },
     "metadata": {},
     "output_type": "display_data"
    },
    {
     "data": {
      "application/vnd.jupyter.widget-view+json": {
       "model_id": "edbe47694bc242cc9ae79759ba545ecf",
       "version_major": 2,
       "version_minor": 0
      },
      "text/plain": [
       "Batches:   0%|          | 0/1 [00:00<?, ?it/s]"
      ]
     },
     "metadata": {},
     "output_type": "display_data"
    },
    {
     "data": {
      "application/vnd.jupyter.widget-view+json": {
       "model_id": "ff2efc8d449f4134842edc19a22c3e30",
       "version_major": 2,
       "version_minor": 0
      },
      "text/plain": [
       "Batches:   0%|          | 0/1 [00:00<?, ?it/s]"
      ]
     },
     "metadata": {},
     "output_type": "display_data"
    },
    {
     "data": {
      "application/vnd.jupyter.widget-view+json": {
       "model_id": "62dfb1a800384a3e866eaea058be9525",
       "version_major": 2,
       "version_minor": 0
      },
      "text/plain": [
       "Batches:   0%|          | 0/1 [00:00<?, ?it/s]"
      ]
     },
     "metadata": {},
     "output_type": "display_data"
    },
    {
     "data": {
      "application/vnd.jupyter.widget-view+json": {
       "model_id": "e167d45b990140ccb624e74f3b6785a7",
       "version_major": 2,
       "version_minor": 0
      },
      "text/plain": [
       "Batches:   0%|          | 0/29 [00:00<?, ?it/s]"
      ]
     },
     "metadata": {},
     "output_type": "display_data"
    },
    {
     "data": {
      "application/vnd.jupyter.widget-view+json": {
       "model_id": "1c7cb5a706c34d3795ef604755bbfe52",
       "version_major": 2,
       "version_minor": 0
      },
      "text/plain": [
       "Batches:   0%|          | 0/29 [00:00<?, ?it/s]"
      ]
     },
     "metadata": {},
     "output_type": "display_data"
    },
    {
     "data": {
      "application/vnd.jupyter.widget-view+json": {
       "model_id": "4f64a1fec1284974a724302179445ace",
       "version_major": 2,
       "version_minor": 0
      },
      "text/plain": [
       "Batches:   0%|          | 0/29 [00:00<?, ?it/s]"
      ]
     },
     "metadata": {},
     "output_type": "display_data"
    },
    {
     "data": {
      "application/vnd.jupyter.widget-view+json": {
       "model_id": "8c439ad0ff3241ac9ed9ba38e3eda49c",
       "version_major": 2,
       "version_minor": 0
      },
      "text/plain": [
       "Batches:   0%|          | 0/29 [00:00<?, ?it/s]"
      ]
     },
     "metadata": {},
     "output_type": "display_data"
    },
    {
     "data": {
      "application/vnd.jupyter.widget-view+json": {
       "model_id": "592ba0c4dee44b3f9920316a425a2e97",
       "version_major": 2,
       "version_minor": 0
      },
      "text/plain": [
       "Batches:   0%|          | 0/29 [00:00<?, ?it/s]"
      ]
     },
     "metadata": {},
     "output_type": "display_data"
    },
    {
     "data": {
      "application/vnd.jupyter.widget-view+json": {
       "model_id": "cd166f45511e41a2b1bb4f36a8e2bdbe",
       "version_major": 2,
       "version_minor": 0
      },
      "text/plain": [
       "Batches:   0%|          | 0/1 [00:00<?, ?it/s]"
      ]
     },
     "metadata": {},
     "output_type": "display_data"
    },
    {
     "data": {
      "application/vnd.jupyter.widget-view+json": {
       "model_id": "90230b3deab44d4187aae28ed053b9e2",
       "version_major": 2,
       "version_minor": 0
      },
      "text/plain": [
       "Batches:   0%|          | 0/1 [00:00<?, ?it/s]"
      ]
     },
     "metadata": {},
     "output_type": "display_data"
    },
    {
     "data": {
      "application/vnd.jupyter.widget-view+json": {
       "model_id": "adae1e93625e4fb39eddd273543f8f00",
       "version_major": 2,
       "version_minor": 0
      },
      "text/plain": [
       "Batches:   0%|          | 0/1 [00:00<?, ?it/s]"
      ]
     },
     "metadata": {},
     "output_type": "display_data"
    },
    {
     "data": {
      "application/vnd.jupyter.widget-view+json": {
       "model_id": "d212a66c407344938c2847515c62e636",
       "version_major": 2,
       "version_minor": 0
      },
      "text/plain": [
       "Batches:   0%|          | 0/1 [00:00<?, ?it/s]"
      ]
     },
     "metadata": {},
     "output_type": "display_data"
    },
    {
     "data": {
      "application/vnd.jupyter.widget-view+json": {
       "model_id": "94ce4693b30f43dcb451aa561cf82f82",
       "version_major": 2,
       "version_minor": 0
      },
      "text/plain": [
       "Batches:   0%|          | 0/1 [00:00<?, ?it/s]"
      ]
     },
     "metadata": {},
     "output_type": "display_data"
    },
    {
     "data": {
      "application/vnd.jupyter.widget-view+json": {
       "model_id": "c100267dcf26463c999a69ce1c6c2f9b",
       "version_major": 2,
       "version_minor": 0
      },
      "text/plain": [
       "Batches:   0%|          | 0/29 [00:00<?, ?it/s]"
      ]
     },
     "metadata": {},
     "output_type": "display_data"
    },
    {
     "data": {
      "application/vnd.jupyter.widget-view+json": {
       "model_id": "5d171317944045c781354d07abcba5b7",
       "version_major": 2,
       "version_minor": 0
      },
      "text/plain": [
       "Batches:   0%|          | 0/29 [00:00<?, ?it/s]"
      ]
     },
     "metadata": {},
     "output_type": "display_data"
    },
    {
     "data": {
      "application/vnd.jupyter.widget-view+json": {
       "model_id": "986d50699e7b4aeca28639af8c92aa77",
       "version_major": 2,
       "version_minor": 0
      },
      "text/plain": [
       "Batches:   0%|          | 0/29 [00:00<?, ?it/s]"
      ]
     },
     "metadata": {},
     "output_type": "display_data"
    },
    {
     "data": {
      "application/vnd.jupyter.widget-view+json": {
       "model_id": "ed766effde324f56ab0d0504550c438b",
       "version_major": 2,
       "version_minor": 0
      },
      "text/plain": [
       "Batches:   0%|          | 0/29 [00:00<?, ?it/s]"
      ]
     },
     "metadata": {},
     "output_type": "display_data"
    },
    {
     "data": {
      "application/vnd.jupyter.widget-view+json": {
       "model_id": "cc32846c8c454a35b8a95445b5a2d869",
       "version_major": 2,
       "version_minor": 0
      },
      "text/plain": [
       "Batches:   0%|          | 0/29 [00:00<?, ?it/s]"
      ]
     },
     "metadata": {},
     "output_type": "display_data"
    },
    {
     "data": {
      "application/vnd.jupyter.widget-view+json": {
       "model_id": "73e2def9e86e4121a8c5b97bad8d6464",
       "version_major": 2,
       "version_minor": 0
      },
      "text/plain": [
       "Batches:   0%|          | 0/1 [00:00<?, ?it/s]"
      ]
     },
     "metadata": {},
     "output_type": "display_data"
    },
    {
     "data": {
      "application/vnd.jupyter.widget-view+json": {
       "model_id": "2f1dacf86936493691825d67de29a34f",
       "version_major": 2,
       "version_minor": 0
      },
      "text/plain": [
       "Batches:   0%|          | 0/1 [00:00<?, ?it/s]"
      ]
     },
     "metadata": {},
     "output_type": "display_data"
    },
    {
     "data": {
      "application/vnd.jupyter.widget-view+json": {
       "model_id": "11f3e80ed1404a1fa55e33a4cf6798af",
       "version_major": 2,
       "version_minor": 0
      },
      "text/plain": [
       "Batches:   0%|          | 0/1 [00:00<?, ?it/s]"
      ]
     },
     "metadata": {},
     "output_type": "display_data"
    },
    {
     "data": {
      "application/vnd.jupyter.widget-view+json": {
       "model_id": "a60d06debaaa4c01bd3a1fe05b9ad6a0",
       "version_major": 2,
       "version_minor": 0
      },
      "text/plain": [
       "Batches:   0%|          | 0/1 [00:00<?, ?it/s]"
      ]
     },
     "metadata": {},
     "output_type": "display_data"
    },
    {
     "data": {
      "application/vnd.jupyter.widget-view+json": {
       "model_id": "75b3f74c0f4b4241906740de60f65f38",
       "version_major": 2,
       "version_minor": 0
      },
      "text/plain": [
       "Batches:   0%|          | 0/1 [00:00<?, ?it/s]"
      ]
     },
     "metadata": {},
     "output_type": "display_data"
    },
    {
     "data": {
      "application/vnd.jupyter.widget-view+json": {
       "model_id": "cd02caffe5fd4c39a902d5955bcf6a6c",
       "version_major": 2,
       "version_minor": 0
      },
      "text/plain": [
       "Batches:   0%|          | 0/29 [00:00<?, ?it/s]"
      ]
     },
     "metadata": {},
     "output_type": "display_data"
    },
    {
     "data": {
      "application/vnd.jupyter.widget-view+json": {
       "model_id": "955ab01d175241ae9be3be06f65719f6",
       "version_major": 2,
       "version_minor": 0
      },
      "text/plain": [
       "Batches:   0%|          | 0/29 [00:00<?, ?it/s]"
      ]
     },
     "metadata": {},
     "output_type": "display_data"
    },
    {
     "data": {
      "application/vnd.jupyter.widget-view+json": {
       "model_id": "b19a10a5336842ec94c037ac282415bb",
       "version_major": 2,
       "version_minor": 0
      },
      "text/plain": [
       "Batches:   0%|          | 0/29 [00:00<?, ?it/s]"
      ]
     },
     "metadata": {},
     "output_type": "display_data"
    },
    {
     "data": {
      "application/vnd.jupyter.widget-view+json": {
       "model_id": "9d8d74730f1a48128b8116e5daabcbb6",
       "version_major": 2,
       "version_minor": 0
      },
      "text/plain": [
       "Batches:   0%|          | 0/29 [00:00<?, ?it/s]"
      ]
     },
     "metadata": {},
     "output_type": "display_data"
    },
    {
     "data": {
      "application/vnd.jupyter.widget-view+json": {
       "model_id": "82d087aecc674e53b8dad744f3e22c7c",
       "version_major": 2,
       "version_minor": 0
      },
      "text/plain": [
       "Batches:   0%|          | 0/29 [00:00<?, ?it/s]"
      ]
     },
     "metadata": {},
     "output_type": "display_data"
    },
    {
     "data": {
      "application/vnd.jupyter.widget-view+json": {
       "model_id": "05cee28b5fde4e558d3602621e1de2e3",
       "version_major": 2,
       "version_minor": 0
      },
      "text/plain": [
       "Batches:   0%|          | 0/1 [00:00<?, ?it/s]"
      ]
     },
     "metadata": {},
     "output_type": "display_data"
    },
    {
     "data": {
      "application/vnd.jupyter.widget-view+json": {
       "model_id": "e0b473f7736d41d38247573177bc227a",
       "version_major": 2,
       "version_minor": 0
      },
      "text/plain": [
       "Batches:   0%|          | 0/1 [00:00<?, ?it/s]"
      ]
     },
     "metadata": {},
     "output_type": "display_data"
    },
    {
     "data": {
      "application/vnd.jupyter.widget-view+json": {
       "model_id": "f813a75c55e741838bebd6b2b2018a8f",
       "version_major": 2,
       "version_minor": 0
      },
      "text/plain": [
       "Batches:   0%|          | 0/1 [00:00<?, ?it/s]"
      ]
     },
     "metadata": {},
     "output_type": "display_data"
    },
    {
     "data": {
      "application/vnd.jupyter.widget-view+json": {
       "model_id": "25ea514b4718437f88440a2bf6d75d51",
       "version_major": 2,
       "version_minor": 0
      },
      "text/plain": [
       "Batches:   0%|          | 0/1 [00:00<?, ?it/s]"
      ]
     },
     "metadata": {},
     "output_type": "display_data"
    },
    {
     "data": {
      "application/vnd.jupyter.widget-view+json": {
       "model_id": "17cc5eb176064aa4ad1538ffbe81ffff",
       "version_major": 2,
       "version_minor": 0
      },
      "text/plain": [
       "Batches:   0%|          | 0/1 [00:00<?, ?it/s]"
      ]
     },
     "metadata": {},
     "output_type": "display_data"
    },
    {
     "data": {
      "application/vnd.jupyter.widget-view+json": {
       "model_id": "3c1617a351bb482b9065e19346e85208",
       "version_major": 2,
       "version_minor": 0
      },
      "text/plain": [
       "Batches:   0%|          | 0/29 [00:00<?, ?it/s]"
      ]
     },
     "metadata": {},
     "output_type": "display_data"
    },
    {
     "data": {
      "application/vnd.jupyter.widget-view+json": {
       "model_id": "260eae989f7c46449c4237cbb0e31efb",
       "version_major": 2,
       "version_minor": 0
      },
      "text/plain": [
       "Batches:   0%|          | 0/29 [00:00<?, ?it/s]"
      ]
     },
     "metadata": {},
     "output_type": "display_data"
    },
    {
     "data": {
      "application/vnd.jupyter.widget-view+json": {
       "model_id": "96aea8a877724b869d76382f60df50b4",
       "version_major": 2,
       "version_minor": 0
      },
      "text/plain": [
       "Batches:   0%|          | 0/29 [00:00<?, ?it/s]"
      ]
     },
     "metadata": {},
     "output_type": "display_data"
    },
    {
     "data": {
      "application/vnd.jupyter.widget-view+json": {
       "model_id": "7c28be904d9c445dabcbd53c3974a37a",
       "version_major": 2,
       "version_minor": 0
      },
      "text/plain": [
       "Batches:   0%|          | 0/29 [00:00<?, ?it/s]"
      ]
     },
     "metadata": {},
     "output_type": "display_data"
    },
    {
     "data": {
      "application/vnd.jupyter.widget-view+json": {
       "model_id": "b36a73128fd741b5816b458729b21704",
       "version_major": 2,
       "version_minor": 0
      },
      "text/plain": [
       "Batches:   0%|          | 0/29 [00:00<?, ?it/s]"
      ]
     },
     "metadata": {},
     "output_type": "display_data"
    },
    {
     "data": {
      "application/vnd.jupyter.widget-view+json": {
       "model_id": "3280935acc0242ee91148c6651d8df54",
       "version_major": 2,
       "version_minor": 0
      },
      "text/plain": [
       "Batches:   0%|          | 0/1 [00:00<?, ?it/s]"
      ]
     },
     "metadata": {},
     "output_type": "display_data"
    },
    {
     "data": {
      "application/vnd.jupyter.widget-view+json": {
       "model_id": "1aed083c354042b9afc19620168a3ec9",
       "version_major": 2,
       "version_minor": 0
      },
      "text/plain": [
       "Batches:   0%|          | 0/1 [00:00<?, ?it/s]"
      ]
     },
     "metadata": {},
     "output_type": "display_data"
    },
    {
     "data": {
      "application/vnd.jupyter.widget-view+json": {
       "model_id": "4516958a91624c009186616703b1ce46",
       "version_major": 2,
       "version_minor": 0
      },
      "text/plain": [
       "Batches:   0%|          | 0/1 [00:00<?, ?it/s]"
      ]
     },
     "metadata": {},
     "output_type": "display_data"
    },
    {
     "data": {
      "application/vnd.jupyter.widget-view+json": {
       "model_id": "89038447196748c380d7daa395066c6c",
       "version_major": 2,
       "version_minor": 0
      },
      "text/plain": [
       "Batches:   0%|          | 0/1 [00:00<?, ?it/s]"
      ]
     },
     "metadata": {},
     "output_type": "display_data"
    },
    {
     "data": {
      "application/vnd.jupyter.widget-view+json": {
       "model_id": "c8dcfbb9a812463f958622349d23aa70",
       "version_major": 2,
       "version_minor": 0
      },
      "text/plain": [
       "Batches:   0%|          | 0/1 [00:00<?, ?it/s]"
      ]
     },
     "metadata": {},
     "output_type": "display_data"
    },
    {
     "data": {
      "application/vnd.jupyter.widget-view+json": {
       "model_id": "ac763d1921724c728ce66a69c1ae9b1e",
       "version_major": 2,
       "version_minor": 0
      },
      "text/plain": [
       "Batches:   0%|          | 0/29 [00:00<?, ?it/s]"
      ]
     },
     "metadata": {},
     "output_type": "display_data"
    },
    {
     "data": {
      "application/vnd.jupyter.widget-view+json": {
       "model_id": "93fb118bfc0d427e87adae6eb6e97bc6",
       "version_major": 2,
       "version_minor": 0
      },
      "text/plain": [
       "Batches:   0%|          | 0/29 [00:00<?, ?it/s]"
      ]
     },
     "metadata": {},
     "output_type": "display_data"
    },
    {
     "data": {
      "application/vnd.jupyter.widget-view+json": {
       "model_id": "c50eb3d394164e8596711a4e06a7e1ce",
       "version_major": 2,
       "version_minor": 0
      },
      "text/plain": [
       "Batches:   0%|          | 0/29 [00:00<?, ?it/s]"
      ]
     },
     "metadata": {},
     "output_type": "display_data"
    },
    {
     "data": {
      "application/vnd.jupyter.widget-view+json": {
       "model_id": "0d8949cc651141bfa915470aef10874b",
       "version_major": 2,
       "version_minor": 0
      },
      "text/plain": [
       "Batches:   0%|          | 0/29 [00:00<?, ?it/s]"
      ]
     },
     "metadata": {},
     "output_type": "display_data"
    },
    {
     "data": {
      "application/vnd.jupyter.widget-view+json": {
       "model_id": "76e4fdd2739a40079cc5ad7488872c47",
       "version_major": 2,
       "version_minor": 0
      },
      "text/plain": [
       "Batches:   0%|          | 0/29 [00:00<?, ?it/s]"
      ]
     },
     "metadata": {},
     "output_type": "display_data"
    },
    {
     "data": {
      "application/vnd.jupyter.widget-view+json": {
       "model_id": "6b09ec560f6a44bf994ba8692fbb4279",
       "version_major": 2,
       "version_minor": 0
      },
      "text/plain": [
       "Batches:   0%|          | 0/1 [00:00<?, ?it/s]"
      ]
     },
     "metadata": {},
     "output_type": "display_data"
    },
    {
     "data": {
      "application/vnd.jupyter.widget-view+json": {
       "model_id": "3a5109e8716248d1a76ce83ad4c22923",
       "version_major": 2,
       "version_minor": 0
      },
      "text/plain": [
       "Batches:   0%|          | 0/1 [00:00<?, ?it/s]"
      ]
     },
     "metadata": {},
     "output_type": "display_data"
    },
    {
     "data": {
      "application/vnd.jupyter.widget-view+json": {
       "model_id": "8788be3435bd470d80823a86730be89a",
       "version_major": 2,
       "version_minor": 0
      },
      "text/plain": [
       "Batches:   0%|          | 0/1 [00:00<?, ?it/s]"
      ]
     },
     "metadata": {},
     "output_type": "display_data"
    },
    {
     "data": {
      "application/vnd.jupyter.widget-view+json": {
       "model_id": "4f6f52889ba647eebb45798063f71c7a",
       "version_major": 2,
       "version_minor": 0
      },
      "text/plain": [
       "Batches:   0%|          | 0/1 [00:00<?, ?it/s]"
      ]
     },
     "metadata": {},
     "output_type": "display_data"
    },
    {
     "data": {
      "application/vnd.jupyter.widget-view+json": {
       "model_id": "1135ec8f64524b97bff1e67f822e70d5",
       "version_major": 2,
       "version_minor": 0
      },
      "text/plain": [
       "Batches:   0%|          | 0/1 [00:00<?, ?it/s]"
      ]
     },
     "metadata": {},
     "output_type": "display_data"
    },
    {
     "data": {
      "application/vnd.jupyter.widget-view+json": {
       "model_id": "43cf5f0d42844627bc5c884c91aa13e6",
       "version_major": 2,
       "version_minor": 0
      },
      "text/plain": [
       "Batches:   0%|          | 0/29 [00:00<?, ?it/s]"
      ]
     },
     "metadata": {},
     "output_type": "display_data"
    },
    {
     "data": {
      "application/vnd.jupyter.widget-view+json": {
       "model_id": "42a8d0dddc8f467f98496b323f4d2db9",
       "version_major": 2,
       "version_minor": 0
      },
      "text/plain": [
       "Batches:   0%|          | 0/29 [00:00<?, ?it/s]"
      ]
     },
     "metadata": {},
     "output_type": "display_data"
    },
    {
     "data": {
      "application/vnd.jupyter.widget-view+json": {
       "model_id": "e50cdc0ff6de4a52a45fa21bf5b009fd",
       "version_major": 2,
       "version_minor": 0
      },
      "text/plain": [
       "Batches:   0%|          | 0/29 [00:00<?, ?it/s]"
      ]
     },
     "metadata": {},
     "output_type": "display_data"
    },
    {
     "data": {
      "application/vnd.jupyter.widget-view+json": {
       "model_id": "ebf8165f9e7441c38a2dec854fe15af3",
       "version_major": 2,
       "version_minor": 0
      },
      "text/plain": [
       "Batches:   0%|          | 0/29 [00:00<?, ?it/s]"
      ]
     },
     "metadata": {},
     "output_type": "display_data"
    },
    {
     "data": {
      "application/vnd.jupyter.widget-view+json": {
       "model_id": "70fa44da60ca4d2aa0d558c3a9e201d4",
       "version_major": 2,
       "version_minor": 0
      },
      "text/plain": [
       "Batches:   0%|          | 0/29 [00:00<?, ?it/s]"
      ]
     },
     "metadata": {},
     "output_type": "display_data"
    },
    {
     "data": {
      "application/vnd.jupyter.widget-view+json": {
       "model_id": "88572d3678254df3a2ee60c259b48d93",
       "version_major": 2,
       "version_minor": 0
      },
      "text/plain": [
       "Batches:   0%|          | 0/1 [00:00<?, ?it/s]"
      ]
     },
     "metadata": {},
     "output_type": "display_data"
    },
    {
     "data": {
      "application/vnd.jupyter.widget-view+json": {
       "model_id": "fad00ff1d36240c3a04fc27443df5dce",
       "version_major": 2,
       "version_minor": 0
      },
      "text/plain": [
       "Batches:   0%|          | 0/1 [00:00<?, ?it/s]"
      ]
     },
     "metadata": {},
     "output_type": "display_data"
    },
    {
     "data": {
      "application/vnd.jupyter.widget-view+json": {
       "model_id": "8ed73947dbe44685843bba2efa573447",
       "version_major": 2,
       "version_minor": 0
      },
      "text/plain": [
       "Batches:   0%|          | 0/1 [00:00<?, ?it/s]"
      ]
     },
     "metadata": {},
     "output_type": "display_data"
    },
    {
     "data": {
      "application/vnd.jupyter.widget-view+json": {
       "model_id": "da2119b5655845028dbc51e052d77a22",
       "version_major": 2,
       "version_minor": 0
      },
      "text/plain": [
       "Batches:   0%|          | 0/1 [00:00<?, ?it/s]"
      ]
     },
     "metadata": {},
     "output_type": "display_data"
    },
    {
     "data": {
      "application/vnd.jupyter.widget-view+json": {
       "model_id": "1fc8b730bb4542f8847b3088d086cd55",
       "version_major": 2,
       "version_minor": 0
      },
      "text/plain": [
       "Batches:   0%|          | 0/1 [00:00<?, ?it/s]"
      ]
     },
     "metadata": {},
     "output_type": "display_data"
    },
    {
     "data": {
      "application/vnd.jupyter.widget-view+json": {
       "model_id": "97c36559a80b49dfac7e7be917b43e94",
       "version_major": 2,
       "version_minor": 0
      },
      "text/plain": [
       "Batches:   0%|          | 0/29 [00:00<?, ?it/s]"
      ]
     },
     "metadata": {},
     "output_type": "display_data"
    },
    {
     "data": {
      "application/vnd.jupyter.widget-view+json": {
       "model_id": "a9568cef60184133b1475aa7a50f242b",
       "version_major": 2,
       "version_minor": 0
      },
      "text/plain": [
       "Batches:   0%|          | 0/29 [00:00<?, ?it/s]"
      ]
     },
     "metadata": {},
     "output_type": "display_data"
    },
    {
     "data": {
      "application/vnd.jupyter.widget-view+json": {
       "model_id": "59b02909cf264582a1f8198afa62e442",
       "version_major": 2,
       "version_minor": 0
      },
      "text/plain": [
       "Batches:   0%|          | 0/29 [00:00<?, ?it/s]"
      ]
     },
     "metadata": {},
     "output_type": "display_data"
    },
    {
     "data": {
      "application/vnd.jupyter.widget-view+json": {
       "model_id": "db8df2ec47eb41b78ce1a05fa5964df1",
       "version_major": 2,
       "version_minor": 0
      },
      "text/plain": [
       "Batches:   0%|          | 0/29 [00:00<?, ?it/s]"
      ]
     },
     "metadata": {},
     "output_type": "display_data"
    },
    {
     "data": {
      "application/vnd.jupyter.widget-view+json": {
       "model_id": "7b5e45ccab88405f82cca2e751721d81",
       "version_major": 2,
       "version_minor": 0
      },
      "text/plain": [
       "Batches:   0%|          | 0/29 [00:00<?, ?it/s]"
      ]
     },
     "metadata": {},
     "output_type": "display_data"
    },
    {
     "data": {
      "application/vnd.jupyter.widget-view+json": {
       "model_id": "f6ec49d7bd184b198480e46d74c7ba49",
       "version_major": 2,
       "version_minor": 0
      },
      "text/plain": [
       "Batches:   0%|          | 0/1 [00:00<?, ?it/s]"
      ]
     },
     "metadata": {},
     "output_type": "display_data"
    },
    {
     "data": {
      "application/vnd.jupyter.widget-view+json": {
       "model_id": "0513868c8c1c4c658fe670539eb4851c",
       "version_major": 2,
       "version_minor": 0
      },
      "text/plain": [
       "Batches:   0%|          | 0/1 [00:00<?, ?it/s]"
      ]
     },
     "metadata": {},
     "output_type": "display_data"
    },
    {
     "data": {
      "application/vnd.jupyter.widget-view+json": {
       "model_id": "4fe84a847f1d4a5d8aac5b4f4efcd3fd",
       "version_major": 2,
       "version_minor": 0
      },
      "text/plain": [
       "Batches:   0%|          | 0/1 [00:00<?, ?it/s]"
      ]
     },
     "metadata": {},
     "output_type": "display_data"
    },
    {
     "data": {
      "application/vnd.jupyter.widget-view+json": {
       "model_id": "4999ac13eb50484b93265cca2a6930af",
       "version_major": 2,
       "version_minor": 0
      },
      "text/plain": [
       "Batches:   0%|          | 0/1 [00:00<?, ?it/s]"
      ]
     },
     "metadata": {},
     "output_type": "display_data"
    },
    {
     "data": {
      "application/vnd.jupyter.widget-view+json": {
       "model_id": "6699be7a187e47bb90a6a9ab5d4b5f6b",
       "version_major": 2,
       "version_minor": 0
      },
      "text/plain": [
       "Batches:   0%|          | 0/1 [00:00<?, ?it/s]"
      ]
     },
     "metadata": {},
     "output_type": "display_data"
    },
    {
     "data": {
      "application/vnd.jupyter.widget-view+json": {
       "model_id": "f9b8219c8da141e0ae184f8ee6ec9570",
       "version_major": 2,
       "version_minor": 0
      },
      "text/plain": [
       "Batches:   0%|          | 0/29 [00:00<?, ?it/s]"
      ]
     },
     "metadata": {},
     "output_type": "display_data"
    },
    {
     "data": {
      "application/vnd.jupyter.widget-view+json": {
       "model_id": "e7d0151e19804ae09536fee8150f374c",
       "version_major": 2,
       "version_minor": 0
      },
      "text/plain": [
       "Batches:   0%|          | 0/29 [00:00<?, ?it/s]"
      ]
     },
     "metadata": {},
     "output_type": "display_data"
    },
    {
     "data": {
      "application/vnd.jupyter.widget-view+json": {
       "model_id": "ce5559b424da411d846ca8a03a6cdd88",
       "version_major": 2,
       "version_minor": 0
      },
      "text/plain": [
       "Batches:   0%|          | 0/29 [00:00<?, ?it/s]"
      ]
     },
     "metadata": {},
     "output_type": "display_data"
    },
    {
     "data": {
      "application/vnd.jupyter.widget-view+json": {
       "model_id": "2d700423c44748af9d2ac34dbc9cd54a",
       "version_major": 2,
       "version_minor": 0
      },
      "text/plain": [
       "Batches:   0%|          | 0/29 [00:00<?, ?it/s]"
      ]
     },
     "metadata": {},
     "output_type": "display_data"
    },
    {
     "data": {
      "application/vnd.jupyter.widget-view+json": {
       "model_id": "37ebc5bd795f4156914c54fad9e10b18",
       "version_major": 2,
       "version_minor": 0
      },
      "text/plain": [
       "Batches:   0%|          | 0/29 [00:00<?, ?it/s]"
      ]
     },
     "metadata": {},
     "output_type": "display_data"
    },
    {
     "data": {
      "application/vnd.jupyter.widget-view+json": {
       "model_id": "e5e46613ea8e486b9af8f056b7c13c26",
       "version_major": 2,
       "version_minor": 0
      },
      "text/plain": [
       "Batches:   0%|          | 0/1 [00:00<?, ?it/s]"
      ]
     },
     "metadata": {},
     "output_type": "display_data"
    },
    {
     "data": {
      "application/vnd.jupyter.widget-view+json": {
       "model_id": "267674cea34a43839176d62c54943b7e",
       "version_major": 2,
       "version_minor": 0
      },
      "text/plain": [
       "Batches:   0%|          | 0/1 [00:00<?, ?it/s]"
      ]
     },
     "metadata": {},
     "output_type": "display_data"
    },
    {
     "data": {
      "application/vnd.jupyter.widget-view+json": {
       "model_id": "4df26e21624d4122b39219e88d0e9e99",
       "version_major": 2,
       "version_minor": 0
      },
      "text/plain": [
       "Batches:   0%|          | 0/1 [00:00<?, ?it/s]"
      ]
     },
     "metadata": {},
     "output_type": "display_data"
    },
    {
     "data": {
      "application/vnd.jupyter.widget-view+json": {
       "model_id": "0542897cd19c4bceb3e1840824c6f51e",
       "version_major": 2,
       "version_minor": 0
      },
      "text/plain": [
       "Batches:   0%|          | 0/1 [00:00<?, ?it/s]"
      ]
     },
     "metadata": {},
     "output_type": "display_data"
    },
    {
     "data": {
      "application/vnd.jupyter.widget-view+json": {
       "model_id": "568a051455e840caab8861546b4ab37c",
       "version_major": 2,
       "version_minor": 0
      },
      "text/plain": [
       "Batches:   0%|          | 0/1 [00:00<?, ?it/s]"
      ]
     },
     "metadata": {},
     "output_type": "display_data"
    },
    {
     "data": {
      "application/vnd.jupyter.widget-view+json": {
       "model_id": "ca85da9562de4a29b1a661a89937feb1",
       "version_major": 2,
       "version_minor": 0
      },
      "text/plain": [
       "Batches:   0%|          | 0/29 [00:00<?, ?it/s]"
      ]
     },
     "metadata": {},
     "output_type": "display_data"
    },
    {
     "data": {
      "application/vnd.jupyter.widget-view+json": {
       "model_id": "e5de88cd621d4acbb5097e4c34ae7eb0",
       "version_major": 2,
       "version_minor": 0
      },
      "text/plain": [
       "Batches:   0%|          | 0/29 [00:00<?, ?it/s]"
      ]
     },
     "metadata": {},
     "output_type": "display_data"
    },
    {
     "data": {
      "application/vnd.jupyter.widget-view+json": {
       "model_id": "34882b3cd60b4843a1c3350413e8a3cc",
       "version_major": 2,
       "version_minor": 0
      },
      "text/plain": [
       "Batches:   0%|          | 0/29 [00:00<?, ?it/s]"
      ]
     },
     "metadata": {},
     "output_type": "display_data"
    },
    {
     "data": {
      "application/vnd.jupyter.widget-view+json": {
       "model_id": "fd6ac354ffcc421a9a15ac808d771242",
       "version_major": 2,
       "version_minor": 0
      },
      "text/plain": [
       "Batches:   0%|          | 0/29 [00:00<?, ?it/s]"
      ]
     },
     "metadata": {},
     "output_type": "display_data"
    },
    {
     "data": {
      "application/vnd.jupyter.widget-view+json": {
       "model_id": "68564e9dc28d409b8d72f8d74a3904b2",
       "version_major": 2,
       "version_minor": 0
      },
      "text/plain": [
       "Batches:   0%|          | 0/29 [00:00<?, ?it/s]"
      ]
     },
     "metadata": {},
     "output_type": "display_data"
    },
    {
     "data": {
      "application/vnd.jupyter.widget-view+json": {
       "model_id": "12722829e03d45939d0a415b69c1c07e",
       "version_major": 2,
       "version_minor": 0
      },
      "text/plain": [
       "Batches:   0%|          | 0/1 [00:00<?, ?it/s]"
      ]
     },
     "metadata": {},
     "output_type": "display_data"
    },
    {
     "data": {
      "application/vnd.jupyter.widget-view+json": {
       "model_id": "da466e37ef9349fca206160d91c9fec7",
       "version_major": 2,
       "version_minor": 0
      },
      "text/plain": [
       "Batches:   0%|          | 0/1 [00:00<?, ?it/s]"
      ]
     },
     "metadata": {},
     "output_type": "display_data"
    },
    {
     "data": {
      "application/vnd.jupyter.widget-view+json": {
       "model_id": "372e3165007b4e5c8d23273998d0fb74",
       "version_major": 2,
       "version_minor": 0
      },
      "text/plain": [
       "Batches:   0%|          | 0/1 [00:00<?, ?it/s]"
      ]
     },
     "metadata": {},
     "output_type": "display_data"
    },
    {
     "data": {
      "application/vnd.jupyter.widget-view+json": {
       "model_id": "6fe952c737614b67ade52aab755c7fd8",
       "version_major": 2,
       "version_minor": 0
      },
      "text/plain": [
       "Batches:   0%|          | 0/1 [00:00<?, ?it/s]"
      ]
     },
     "metadata": {},
     "output_type": "display_data"
    },
    {
     "data": {
      "application/vnd.jupyter.widget-view+json": {
       "model_id": "3f702683c498418ebb056561a825e2b9",
       "version_major": 2,
       "version_minor": 0
      },
      "text/plain": [
       "Batches:   0%|          | 0/1 [00:00<?, ?it/s]"
      ]
     },
     "metadata": {},
     "output_type": "display_data"
    },
    {
     "data": {
      "application/vnd.jupyter.widget-view+json": {
       "model_id": "4c02e4c6d5ee4bd4ade45296e6f42d1b",
       "version_major": 2,
       "version_minor": 0
      },
      "text/plain": [
       "Batches:   0%|          | 0/29 [00:00<?, ?it/s]"
      ]
     },
     "metadata": {},
     "output_type": "display_data"
    },
    {
     "data": {
      "application/vnd.jupyter.widget-view+json": {
       "model_id": "35f047075c564deaa45b51321b84862e",
       "version_major": 2,
       "version_minor": 0
      },
      "text/plain": [
       "Batches:   0%|          | 0/29 [00:00<?, ?it/s]"
      ]
     },
     "metadata": {},
     "output_type": "display_data"
    },
    {
     "data": {
      "application/vnd.jupyter.widget-view+json": {
       "model_id": "9610ea62dc5d4df7960605f4044f8448",
       "version_major": 2,
       "version_minor": 0
      },
      "text/plain": [
       "Batches:   0%|          | 0/29 [00:00<?, ?it/s]"
      ]
     },
     "metadata": {},
     "output_type": "display_data"
    },
    {
     "data": {
      "application/vnd.jupyter.widget-view+json": {
       "model_id": "3bd23677740848eea1c5188915e9ea1c",
       "version_major": 2,
       "version_minor": 0
      },
      "text/plain": [
       "Batches:   0%|          | 0/29 [00:00<?, ?it/s]"
      ]
     },
     "metadata": {},
     "output_type": "display_data"
    },
    {
     "data": {
      "application/vnd.jupyter.widget-view+json": {
       "model_id": "bf0bed5cc58d4078b3241d18181f1962",
       "version_major": 2,
       "version_minor": 0
      },
      "text/plain": [
       "Batches:   0%|          | 0/29 [00:00<?, ?it/s]"
      ]
     },
     "metadata": {},
     "output_type": "display_data"
    },
    {
     "data": {
      "application/vnd.jupyter.widget-view+json": {
       "model_id": "00b200f11e1243a49df5c656d4af421e",
       "version_major": 2,
       "version_minor": 0
      },
      "text/plain": [
       "Batches:   0%|          | 0/1 [00:00<?, ?it/s]"
      ]
     },
     "metadata": {},
     "output_type": "display_data"
    },
    {
     "data": {
      "application/vnd.jupyter.widget-view+json": {
       "model_id": "54f152ee79ee40149d5c9cef7bac4c92",
       "version_major": 2,
       "version_minor": 0
      },
      "text/plain": [
       "Batches:   0%|          | 0/1 [00:00<?, ?it/s]"
      ]
     },
     "metadata": {},
     "output_type": "display_data"
    },
    {
     "data": {
      "application/vnd.jupyter.widget-view+json": {
       "model_id": "c0ead30056514af093fed2642ed6e1ae",
       "version_major": 2,
       "version_minor": 0
      },
      "text/plain": [
       "Batches:   0%|          | 0/1 [00:00<?, ?it/s]"
      ]
     },
     "metadata": {},
     "output_type": "display_data"
    },
    {
     "data": {
      "application/vnd.jupyter.widget-view+json": {
       "model_id": "84ee12d528244b89b69bb24d9155ecdb",
       "version_major": 2,
       "version_minor": 0
      },
      "text/plain": [
       "Batches:   0%|          | 0/1 [00:00<?, ?it/s]"
      ]
     },
     "metadata": {},
     "output_type": "display_data"
    },
    {
     "data": {
      "application/vnd.jupyter.widget-view+json": {
       "model_id": "8320f592051d4d94aa1a16500e70b242",
       "version_major": 2,
       "version_minor": 0
      },
      "text/plain": [
       "Batches:   0%|          | 0/1 [00:00<?, ?it/s]"
      ]
     },
     "metadata": {},
     "output_type": "display_data"
    },
    {
     "data": {
      "application/vnd.jupyter.widget-view+json": {
       "model_id": "8b2f9a0dac904fe1bd47d730e99e6308",
       "version_major": 2,
       "version_minor": 0
      },
      "text/plain": [
       "Batches:   0%|          | 0/29 [00:00<?, ?it/s]"
      ]
     },
     "metadata": {},
     "output_type": "display_data"
    },
    {
     "data": {
      "application/vnd.jupyter.widget-view+json": {
       "model_id": "62bf003367e44c51a062b63863dc88bb",
       "version_major": 2,
       "version_minor": 0
      },
      "text/plain": [
       "Batches:   0%|          | 0/29 [00:00<?, ?it/s]"
      ]
     },
     "metadata": {},
     "output_type": "display_data"
    },
    {
     "data": {
      "application/vnd.jupyter.widget-view+json": {
       "model_id": "1fd4f6873b684ebaa22f901219932016",
       "version_major": 2,
       "version_minor": 0
      },
      "text/plain": [
       "Batches:   0%|          | 0/29 [00:00<?, ?it/s]"
      ]
     },
     "metadata": {},
     "output_type": "display_data"
    },
    {
     "data": {
      "application/vnd.jupyter.widget-view+json": {
       "model_id": "24a0e30d97424dad9612c191d2655f9a",
       "version_major": 2,
       "version_minor": 0
      },
      "text/plain": [
       "Batches:   0%|          | 0/29 [00:00<?, ?it/s]"
      ]
     },
     "metadata": {},
     "output_type": "display_data"
    },
    {
     "data": {
      "application/vnd.jupyter.widget-view+json": {
       "model_id": "ccc629167b094931906cc86ad77400cb",
       "version_major": 2,
       "version_minor": 0
      },
      "text/plain": [
       "Batches:   0%|          | 0/29 [00:00<?, ?it/s]"
      ]
     },
     "metadata": {},
     "output_type": "display_data"
    },
    {
     "data": {
      "application/vnd.jupyter.widget-view+json": {
       "model_id": "06992f943c734e1ba8a34fffb9216e70",
       "version_major": 2,
       "version_minor": 0
      },
      "text/plain": [
       "Batches:   0%|          | 0/1 [00:00<?, ?it/s]"
      ]
     },
     "metadata": {},
     "output_type": "display_data"
    },
    {
     "data": {
      "application/vnd.jupyter.widget-view+json": {
       "model_id": "65b46795095942e08eefecc68082c5cb",
       "version_major": 2,
       "version_minor": 0
      },
      "text/plain": [
       "Batches:   0%|          | 0/1 [00:00<?, ?it/s]"
      ]
     },
     "metadata": {},
     "output_type": "display_data"
    },
    {
     "data": {
      "application/vnd.jupyter.widget-view+json": {
       "model_id": "7e9233b13d094d6688876622db3702db",
       "version_major": 2,
       "version_minor": 0
      },
      "text/plain": [
       "Batches:   0%|          | 0/1 [00:00<?, ?it/s]"
      ]
     },
     "metadata": {},
     "output_type": "display_data"
    },
    {
     "data": {
      "application/vnd.jupyter.widget-view+json": {
       "model_id": "a418cc0225224841827a88a27fe4798d",
       "version_major": 2,
       "version_minor": 0
      },
      "text/plain": [
       "Batches:   0%|          | 0/1 [00:00<?, ?it/s]"
      ]
     },
     "metadata": {},
     "output_type": "display_data"
    },
    {
     "data": {
      "application/vnd.jupyter.widget-view+json": {
       "model_id": "bf7eca64f789440aad9d8ed8e95d934e",
       "version_major": 2,
       "version_minor": 0
      },
      "text/plain": [
       "Batches:   0%|          | 0/1 [00:00<?, ?it/s]"
      ]
     },
     "metadata": {},
     "output_type": "display_data"
    },
    {
     "data": {
      "application/vnd.jupyter.widget-view+json": {
       "model_id": "ee6957179ea348c89be5ec5ab8fc49f6",
       "version_major": 2,
       "version_minor": 0
      },
      "text/plain": [
       "Batches:   0%|          | 0/29 [00:00<?, ?it/s]"
      ]
     },
     "metadata": {},
     "output_type": "display_data"
    },
    {
     "data": {
      "application/vnd.jupyter.widget-view+json": {
       "model_id": "4f08b04c68f94aeea889e224ee7c3343",
       "version_major": 2,
       "version_minor": 0
      },
      "text/plain": [
       "Batches:   0%|          | 0/29 [00:00<?, ?it/s]"
      ]
     },
     "metadata": {},
     "output_type": "display_data"
    },
    {
     "data": {
      "application/vnd.jupyter.widget-view+json": {
       "model_id": "0023bb0815d74421a338b9ef0409f707",
       "version_major": 2,
       "version_minor": 0
      },
      "text/plain": [
       "Batches:   0%|          | 0/29 [00:00<?, ?it/s]"
      ]
     },
     "metadata": {},
     "output_type": "display_data"
    },
    {
     "data": {
      "application/vnd.jupyter.widget-view+json": {
       "model_id": "f52aa98c807045808a01d3767dfec770",
       "version_major": 2,
       "version_minor": 0
      },
      "text/plain": [
       "Batches:   0%|          | 0/29 [00:00<?, ?it/s]"
      ]
     },
     "metadata": {},
     "output_type": "display_data"
    },
    {
     "data": {
      "application/vnd.jupyter.widget-view+json": {
       "model_id": "dc164bcccb654d8eadff2bdd6f6a0144",
       "version_major": 2,
       "version_minor": 0
      },
      "text/plain": [
       "Batches:   0%|          | 0/29 [00:00<?, ?it/s]"
      ]
     },
     "metadata": {},
     "output_type": "display_data"
    },
    {
     "data": {
      "application/vnd.jupyter.widget-view+json": {
       "model_id": "ed34cb07f02947449e72dd1ca3b9af20",
       "version_major": 2,
       "version_minor": 0
      },
      "text/plain": [
       "Batches:   0%|          | 0/1 [00:00<?, ?it/s]"
      ]
     },
     "metadata": {},
     "output_type": "display_data"
    },
    {
     "data": {
      "application/vnd.jupyter.widget-view+json": {
       "model_id": "bfdb94b095304cf7bdf22bd153887edf",
       "version_major": 2,
       "version_minor": 0
      },
      "text/plain": [
       "Batches:   0%|          | 0/1 [00:00<?, ?it/s]"
      ]
     },
     "metadata": {},
     "output_type": "display_data"
    },
    {
     "data": {
      "application/vnd.jupyter.widget-view+json": {
       "model_id": "f6b43b4159194f249aea25a971b33482",
       "version_major": 2,
       "version_minor": 0
      },
      "text/plain": [
       "Batches:   0%|          | 0/1 [00:00<?, ?it/s]"
      ]
     },
     "metadata": {},
     "output_type": "display_data"
    },
    {
     "data": {
      "application/vnd.jupyter.widget-view+json": {
       "model_id": "702b5151659b4286a9f645e44de4296c",
       "version_major": 2,
       "version_minor": 0
      },
      "text/plain": [
       "Batches:   0%|          | 0/1 [00:00<?, ?it/s]"
      ]
     },
     "metadata": {},
     "output_type": "display_data"
    },
    {
     "data": {
      "application/vnd.jupyter.widget-view+json": {
       "model_id": "92eccf79778643a9961699f357203769",
       "version_major": 2,
       "version_minor": 0
      },
      "text/plain": [
       "Batches:   0%|          | 0/1 [00:00<?, ?it/s]"
      ]
     },
     "metadata": {},
     "output_type": "display_data"
    },
    {
     "data": {
      "application/vnd.jupyter.widget-view+json": {
       "model_id": "9c29cf4ddf51449590e3f2668f6e82e2",
       "version_major": 2,
       "version_minor": 0
      },
      "text/plain": [
       "Batches:   0%|          | 0/29 [00:00<?, ?it/s]"
      ]
     },
     "metadata": {},
     "output_type": "display_data"
    },
    {
     "data": {
      "application/vnd.jupyter.widget-view+json": {
       "model_id": "6fac801db686458babd690bc17e5ca26",
       "version_major": 2,
       "version_minor": 0
      },
      "text/plain": [
       "Batches:   0%|          | 0/29 [00:00<?, ?it/s]"
      ]
     },
     "metadata": {},
     "output_type": "display_data"
    },
    {
     "data": {
      "application/vnd.jupyter.widget-view+json": {
       "model_id": "378f00b3161943e8add21b737735d202",
       "version_major": 2,
       "version_minor": 0
      },
      "text/plain": [
       "Batches:   0%|          | 0/29 [00:00<?, ?it/s]"
      ]
     },
     "metadata": {},
     "output_type": "display_data"
    },
    {
     "data": {
      "application/vnd.jupyter.widget-view+json": {
       "model_id": "245011e955174b36b88d7787b6b53bd0",
       "version_major": 2,
       "version_minor": 0
      },
      "text/plain": [
       "Batches:   0%|          | 0/29 [00:00<?, ?it/s]"
      ]
     },
     "metadata": {},
     "output_type": "display_data"
    },
    {
     "data": {
      "application/vnd.jupyter.widget-view+json": {
       "model_id": "7c74fcf27bde4142ab71fda1a5a00e5a",
       "version_major": 2,
       "version_minor": 0
      },
      "text/plain": [
       "Batches:   0%|          | 0/29 [00:00<?, ?it/s]"
      ]
     },
     "metadata": {},
     "output_type": "display_data"
    },
    {
     "data": {
      "application/vnd.jupyter.widget-view+json": {
       "model_id": "c190bd369a574b06b615bbe8eea3b699",
       "version_major": 2,
       "version_minor": 0
      },
      "text/plain": [
       "Batches:   0%|          | 0/1 [00:00<?, ?it/s]"
      ]
     },
     "metadata": {},
     "output_type": "display_data"
    },
    {
     "data": {
      "application/vnd.jupyter.widget-view+json": {
       "model_id": "d6cbad28787c4f44a946dc0d10ba926e",
       "version_major": 2,
       "version_minor": 0
      },
      "text/plain": [
       "Batches:   0%|          | 0/1 [00:00<?, ?it/s]"
      ]
     },
     "metadata": {},
     "output_type": "display_data"
    },
    {
     "data": {
      "application/vnd.jupyter.widget-view+json": {
       "model_id": "6d5fff07c1904c4cb31ee1ebc231bd78",
       "version_major": 2,
       "version_minor": 0
      },
      "text/plain": [
       "Batches:   0%|          | 0/1 [00:00<?, ?it/s]"
      ]
     },
     "metadata": {},
     "output_type": "display_data"
    },
    {
     "data": {
      "application/vnd.jupyter.widget-view+json": {
       "model_id": "ccac5667f7184debba55d26a064af44e",
       "version_major": 2,
       "version_minor": 0
      },
      "text/plain": [
       "Batches:   0%|          | 0/1 [00:00<?, ?it/s]"
      ]
     },
     "metadata": {},
     "output_type": "display_data"
    },
    {
     "data": {
      "application/vnd.jupyter.widget-view+json": {
       "model_id": "a45b6291456447bb830ed01b06ef28ad",
       "version_major": 2,
       "version_minor": 0
      },
      "text/plain": [
       "Batches:   0%|          | 0/1 [00:00<?, ?it/s]"
      ]
     },
     "metadata": {},
     "output_type": "display_data"
    },
    {
     "data": {
      "application/vnd.jupyter.widget-view+json": {
       "model_id": "a4fe667d82fb4c659284102df34323cb",
       "version_major": 2,
       "version_minor": 0
      },
      "text/plain": [
       "Batches:   0%|          | 0/29 [00:00<?, ?it/s]"
      ]
     },
     "metadata": {},
     "output_type": "display_data"
    },
    {
     "data": {
      "application/vnd.jupyter.widget-view+json": {
       "model_id": "8bff715163f54dfa8ef61ed1bc666ccf",
       "version_major": 2,
       "version_minor": 0
      },
      "text/plain": [
       "Batches:   0%|          | 0/29 [00:00<?, ?it/s]"
      ]
     },
     "metadata": {},
     "output_type": "display_data"
    },
    {
     "data": {
      "application/vnd.jupyter.widget-view+json": {
       "model_id": "542d9d18e6ba467b9b488ffb2b033160",
       "version_major": 2,
       "version_minor": 0
      },
      "text/plain": [
       "Batches:   0%|          | 0/29 [00:00<?, ?it/s]"
      ]
     },
     "metadata": {},
     "output_type": "display_data"
    },
    {
     "data": {
      "application/vnd.jupyter.widget-view+json": {
       "model_id": "d1fbe803ee184583a537155c31436928",
       "version_major": 2,
       "version_minor": 0
      },
      "text/plain": [
       "Batches:   0%|          | 0/29 [00:00<?, ?it/s]"
      ]
     },
     "metadata": {},
     "output_type": "display_data"
    },
    {
     "data": {
      "application/vnd.jupyter.widget-view+json": {
       "model_id": "4ac0bd47c14f47cea9a53296b63035ee",
       "version_major": 2,
       "version_minor": 0
      },
      "text/plain": [
       "Batches:   0%|          | 0/29 [00:00<?, ?it/s]"
      ]
     },
     "metadata": {},
     "output_type": "display_data"
    },
    {
     "data": {
      "application/vnd.jupyter.widget-view+json": {
       "model_id": "110097cf1de34cd79055c1d741103ca9",
       "version_major": 2,
       "version_minor": 0
      },
      "text/plain": [
       "Batches:   0%|          | 0/1 [00:00<?, ?it/s]"
      ]
     },
     "metadata": {},
     "output_type": "display_data"
    },
    {
     "data": {
      "application/vnd.jupyter.widget-view+json": {
       "model_id": "423e3c0aea57432f9b1cb9b2c13028e5",
       "version_major": 2,
       "version_minor": 0
      },
      "text/plain": [
       "Batches:   0%|          | 0/1 [00:00<?, ?it/s]"
      ]
     },
     "metadata": {},
     "output_type": "display_data"
    },
    {
     "data": {
      "application/vnd.jupyter.widget-view+json": {
       "model_id": "d3c82aebf7c941e5ab0bc44b3ae138c7",
       "version_major": 2,
       "version_minor": 0
      },
      "text/plain": [
       "Batches:   0%|          | 0/1 [00:00<?, ?it/s]"
      ]
     },
     "metadata": {},
     "output_type": "display_data"
    },
    {
     "data": {
      "application/vnd.jupyter.widget-view+json": {
       "model_id": "a2ba0856d8a443adbc6466611f55a6ab",
       "version_major": 2,
       "version_minor": 0
      },
      "text/plain": [
       "Batches:   0%|          | 0/1 [00:00<?, ?it/s]"
      ]
     },
     "metadata": {},
     "output_type": "display_data"
    },
    {
     "data": {
      "application/vnd.jupyter.widget-view+json": {
       "model_id": "3012135618ea4e3fab8cf734edd7318d",
       "version_major": 2,
       "version_minor": 0
      },
      "text/plain": [
       "Batches:   0%|          | 0/1 [00:00<?, ?it/s]"
      ]
     },
     "metadata": {},
     "output_type": "display_data"
    },
    {
     "data": {
      "application/vnd.jupyter.widget-view+json": {
       "model_id": "912528dd9e564652922d9d04d6068121",
       "version_major": 2,
       "version_minor": 0
      },
      "text/plain": [
       "Batches:   0%|          | 0/29 [00:00<?, ?it/s]"
      ]
     },
     "metadata": {},
     "output_type": "display_data"
    },
    {
     "data": {
      "application/vnd.jupyter.widget-view+json": {
       "model_id": "b3fd602c044d477cb8927591afedf7bf",
       "version_major": 2,
       "version_minor": 0
      },
      "text/plain": [
       "Batches:   0%|          | 0/29 [00:00<?, ?it/s]"
      ]
     },
     "metadata": {},
     "output_type": "display_data"
    },
    {
     "data": {
      "application/vnd.jupyter.widget-view+json": {
       "model_id": "64f1e71071544a90abe746998fa09419",
       "version_major": 2,
       "version_minor": 0
      },
      "text/plain": [
       "Batches:   0%|          | 0/29 [00:00<?, ?it/s]"
      ]
     },
     "metadata": {},
     "output_type": "display_data"
    },
    {
     "data": {
      "application/vnd.jupyter.widget-view+json": {
       "model_id": "536fabafbb3541ff815d80bfcb17f02d",
       "version_major": 2,
       "version_minor": 0
      },
      "text/plain": [
       "Batches:   0%|          | 0/29 [00:00<?, ?it/s]"
      ]
     },
     "metadata": {},
     "output_type": "display_data"
    },
    {
     "data": {
      "application/vnd.jupyter.widget-view+json": {
       "model_id": "dc28cbe5f0484b1ba8f0bbd4da2161d4",
       "version_major": 2,
       "version_minor": 0
      },
      "text/plain": [
       "Batches:   0%|          | 0/29 [00:00<?, ?it/s]"
      ]
     },
     "metadata": {},
     "output_type": "display_data"
    },
    {
     "data": {
      "application/vnd.jupyter.widget-view+json": {
       "model_id": "7b6644c5969249259caacb2619ea4366",
       "version_major": 2,
       "version_minor": 0
      },
      "text/plain": [
       "Batches:   0%|          | 0/1 [00:00<?, ?it/s]"
      ]
     },
     "metadata": {},
     "output_type": "display_data"
    },
    {
     "data": {
      "application/vnd.jupyter.widget-view+json": {
       "model_id": "bbd7449c5ab44d9e8e0feed508873cc3",
       "version_major": 2,
       "version_minor": 0
      },
      "text/plain": [
       "Batches:   0%|          | 0/1 [00:00<?, ?it/s]"
      ]
     },
     "metadata": {},
     "output_type": "display_data"
    },
    {
     "data": {
      "application/vnd.jupyter.widget-view+json": {
       "model_id": "76fabd546e684780ac1be586a701cce9",
       "version_major": 2,
       "version_minor": 0
      },
      "text/plain": [
       "Batches:   0%|          | 0/1 [00:00<?, ?it/s]"
      ]
     },
     "metadata": {},
     "output_type": "display_data"
    },
    {
     "data": {
      "application/vnd.jupyter.widget-view+json": {
       "model_id": "636487a54cdc4e34a5f76c205914dc16",
       "version_major": 2,
       "version_minor": 0
      },
      "text/plain": [
       "Batches:   0%|          | 0/1 [00:00<?, ?it/s]"
      ]
     },
     "metadata": {},
     "output_type": "display_data"
    },
    {
     "data": {
      "application/vnd.jupyter.widget-view+json": {
       "model_id": "e2e2b01a061245c287c1e0576642bc7d",
       "version_major": 2,
       "version_minor": 0
      },
      "text/plain": [
       "Batches:   0%|          | 0/1 [00:00<?, ?it/s]"
      ]
     },
     "metadata": {},
     "output_type": "display_data"
    },
    {
     "data": {
      "application/vnd.jupyter.widget-view+json": {
       "model_id": "253380fafb234b23bd888bc26cd69e7c",
       "version_major": 2,
       "version_minor": 0
      },
      "text/plain": [
       "Batches:   0%|          | 0/29 [00:00<?, ?it/s]"
      ]
     },
     "metadata": {},
     "output_type": "display_data"
    },
    {
     "data": {
      "application/vnd.jupyter.widget-view+json": {
       "model_id": "7ff15ee54f9445d28aa414d7ad4ea897",
       "version_major": 2,
       "version_minor": 0
      },
      "text/plain": [
       "Batches:   0%|          | 0/29 [00:00<?, ?it/s]"
      ]
     },
     "metadata": {},
     "output_type": "display_data"
    },
    {
     "data": {
      "application/vnd.jupyter.widget-view+json": {
       "model_id": "21aae9847bb14145b1ad6f28009ada4a",
       "version_major": 2,
       "version_minor": 0
      },
      "text/plain": [
       "Batches:   0%|          | 0/29 [00:00<?, ?it/s]"
      ]
     },
     "metadata": {},
     "output_type": "display_data"
    },
    {
     "data": {
      "application/vnd.jupyter.widget-view+json": {
       "model_id": "384a663cc12e480dbc9d21791097c63d",
       "version_major": 2,
       "version_minor": 0
      },
      "text/plain": [
       "Batches:   0%|          | 0/29 [00:00<?, ?it/s]"
      ]
     },
     "metadata": {},
     "output_type": "display_data"
    },
    {
     "data": {
      "application/vnd.jupyter.widget-view+json": {
       "model_id": "4c1e3e25be4b4d4aa5b96009052502be",
       "version_major": 2,
       "version_minor": 0
      },
      "text/plain": [
       "Batches:   0%|          | 0/29 [00:00<?, ?it/s]"
      ]
     },
     "metadata": {},
     "output_type": "display_data"
    },
    {
     "data": {
      "application/vnd.jupyter.widget-view+json": {
       "model_id": "c793c22d34e14dca849b9b3048d463e1",
       "version_major": 2,
       "version_minor": 0
      },
      "text/plain": [
       "Batches:   0%|          | 0/1 [00:00<?, ?it/s]"
      ]
     },
     "metadata": {},
     "output_type": "display_data"
    },
    {
     "data": {
      "application/vnd.jupyter.widget-view+json": {
       "model_id": "cfb9048c4607447bb53f3b8b85dc7c27",
       "version_major": 2,
       "version_minor": 0
      },
      "text/plain": [
       "Batches:   0%|          | 0/1 [00:00<?, ?it/s]"
      ]
     },
     "metadata": {},
     "output_type": "display_data"
    },
    {
     "data": {
      "application/vnd.jupyter.widget-view+json": {
       "model_id": "70202c9d310f43888645c59cc21c1bf6",
       "version_major": 2,
       "version_minor": 0
      },
      "text/plain": [
       "Batches:   0%|          | 0/1 [00:00<?, ?it/s]"
      ]
     },
     "metadata": {},
     "output_type": "display_data"
    },
    {
     "data": {
      "application/vnd.jupyter.widget-view+json": {
       "model_id": "19112be55bed446ea9793e3811ac7ab6",
       "version_major": 2,
       "version_minor": 0
      },
      "text/plain": [
       "Batches:   0%|          | 0/1 [00:00<?, ?it/s]"
      ]
     },
     "metadata": {},
     "output_type": "display_data"
    },
    {
     "data": {
      "application/vnd.jupyter.widget-view+json": {
       "model_id": "c9079e06858e476b88777957f31413c8",
       "version_major": 2,
       "version_minor": 0
      },
      "text/plain": [
       "Batches:   0%|          | 0/1 [00:00<?, ?it/s]"
      ]
     },
     "metadata": {},
     "output_type": "display_data"
    },
    {
     "data": {
      "application/vnd.jupyter.widget-view+json": {
       "model_id": "d4c0501ce942420f99f57ea783f09d60",
       "version_major": 2,
       "version_minor": 0
      },
      "text/plain": [
       "Batches:   0%|          | 0/57 [00:00<?, ?it/s]"
      ]
     },
     "metadata": {},
     "output_type": "display_data"
    },
    {
     "data": {
      "application/vnd.jupyter.widget-view+json": {
       "model_id": "aac56dac4a4a45f898cc301958332100",
       "version_major": 2,
       "version_minor": 0
      },
      "text/plain": [
       "Batches:   0%|          | 0/57 [00:00<?, ?it/s]"
      ]
     },
     "metadata": {},
     "output_type": "display_data"
    },
    {
     "data": {
      "application/vnd.jupyter.widget-view+json": {
       "model_id": "9b5e56142b40435fb191611b9efc74fb",
       "version_major": 2,
       "version_minor": 0
      },
      "text/plain": [
       "Batches:   0%|          | 0/57 [00:00<?, ?it/s]"
      ]
     },
     "metadata": {},
     "output_type": "display_data"
    },
    {
     "data": {
      "application/vnd.jupyter.widget-view+json": {
       "model_id": "c86ca480760c42f6b0221112ac6e5902",
       "version_major": 2,
       "version_minor": 0
      },
      "text/plain": [
       "Batches:   0%|          | 0/57 [00:00<?, ?it/s]"
      ]
     },
     "metadata": {},
     "output_type": "display_data"
    },
    {
     "data": {
      "application/vnd.jupyter.widget-view+json": {
       "model_id": "7e2fc6d944e644f89f10a7a8684a836e",
       "version_major": 2,
       "version_minor": 0
      },
      "text/plain": [
       "Batches:   0%|          | 0/57 [00:00<?, ?it/s]"
      ]
     },
     "metadata": {},
     "output_type": "display_data"
    },
    {
     "data": {
      "application/vnd.jupyter.widget-view+json": {
       "model_id": "3d8b48bc5f594514a9b016916e1542a0",
       "version_major": 2,
       "version_minor": 0
      },
      "text/plain": [
       "Batches:   0%|          | 0/1 [00:00<?, ?it/s]"
      ]
     },
     "metadata": {},
     "output_type": "display_data"
    },
    {
     "data": {
      "application/vnd.jupyter.widget-view+json": {
       "model_id": "bd5ffadf8be34603ad62147f4a4a1689",
       "version_major": 2,
       "version_minor": 0
      },
      "text/plain": [
       "Batches:   0%|          | 0/1 [00:00<?, ?it/s]"
      ]
     },
     "metadata": {},
     "output_type": "display_data"
    },
    {
     "data": {
      "application/vnd.jupyter.widget-view+json": {
       "model_id": "6edb960252cf4643a0871547b039a8e6",
       "version_major": 2,
       "version_minor": 0
      },
      "text/plain": [
       "Batches:   0%|          | 0/1 [00:00<?, ?it/s]"
      ]
     },
     "metadata": {},
     "output_type": "display_data"
    },
    {
     "data": {
      "application/vnd.jupyter.widget-view+json": {
       "model_id": "f2cc8c2fa056421bbd4ff78f81a934f5",
       "version_major": 2,
       "version_minor": 0
      },
      "text/plain": [
       "Batches:   0%|          | 0/1 [00:00<?, ?it/s]"
      ]
     },
     "metadata": {},
     "output_type": "display_data"
    },
    {
     "data": {
      "application/vnd.jupyter.widget-view+json": {
       "model_id": "e327461d16f441adb9cd0a30cd5eac30",
       "version_major": 2,
       "version_minor": 0
      },
      "text/plain": [
       "Batches:   0%|          | 0/1 [00:00<?, ?it/s]"
      ]
     },
     "metadata": {},
     "output_type": "display_data"
    },
    {
     "data": {
      "application/vnd.jupyter.widget-view+json": {
       "model_id": "d123d49891474361b21cdad753592d02",
       "version_major": 2,
       "version_minor": 0
      },
      "text/plain": [
       "Batches:   0%|          | 0/29 [00:00<?, ?it/s]"
      ]
     },
     "metadata": {},
     "output_type": "display_data"
    },
    {
     "data": {
      "application/vnd.jupyter.widget-view+json": {
       "model_id": "5818f6b3c4e641d98053b84f3b655685",
       "version_major": 2,
       "version_minor": 0
      },
      "text/plain": [
       "Batches:   0%|          | 0/29 [00:00<?, ?it/s]"
      ]
     },
     "metadata": {},
     "output_type": "display_data"
    },
    {
     "data": {
      "application/vnd.jupyter.widget-view+json": {
       "model_id": "83e76d720cbd431bbae722c01a1d5283",
       "version_major": 2,
       "version_minor": 0
      },
      "text/plain": [
       "Batches:   0%|          | 0/29 [00:00<?, ?it/s]"
      ]
     },
     "metadata": {},
     "output_type": "display_data"
    },
    {
     "data": {
      "application/vnd.jupyter.widget-view+json": {
       "model_id": "2c898dfadb60495a843a7f62762087be",
       "version_major": 2,
       "version_minor": 0
      },
      "text/plain": [
       "Batches:   0%|          | 0/29 [00:00<?, ?it/s]"
      ]
     },
     "metadata": {},
     "output_type": "display_data"
    },
    {
     "data": {
      "application/vnd.jupyter.widget-view+json": {
       "model_id": "56354f3a19534ea5b2809a7cc6803873",
       "version_major": 2,
       "version_minor": 0
      },
      "text/plain": [
       "Batches:   0%|          | 0/29 [00:00<?, ?it/s]"
      ]
     },
     "metadata": {},
     "output_type": "display_data"
    },
    {
     "data": {
      "application/vnd.jupyter.widget-view+json": {
       "model_id": "5ed734649cfa4f0082ff22e820a634d3",
       "version_major": 2,
       "version_minor": 0
      },
      "text/plain": [
       "Batches:   0%|          | 0/1 [00:00<?, ?it/s]"
      ]
     },
     "metadata": {},
     "output_type": "display_data"
    },
    {
     "data": {
      "application/vnd.jupyter.widget-view+json": {
       "model_id": "d48b012ad45947ea9de89d1fdfd2bb86",
       "version_major": 2,
       "version_minor": 0
      },
      "text/plain": [
       "Batches:   0%|          | 0/1 [00:00<?, ?it/s]"
      ]
     },
     "metadata": {},
     "output_type": "display_data"
    },
    {
     "data": {
      "application/vnd.jupyter.widget-view+json": {
       "model_id": "842b3c0d212e401b8dd32692b8686ff6",
       "version_major": 2,
       "version_minor": 0
      },
      "text/plain": [
       "Batches:   0%|          | 0/1 [00:00<?, ?it/s]"
      ]
     },
     "metadata": {},
     "output_type": "display_data"
    },
    {
     "data": {
      "application/vnd.jupyter.widget-view+json": {
       "model_id": "0b59b2bb4631462399db27cb4a8bfd3c",
       "version_major": 2,
       "version_minor": 0
      },
      "text/plain": [
       "Batches:   0%|          | 0/1 [00:00<?, ?it/s]"
      ]
     },
     "metadata": {},
     "output_type": "display_data"
    },
    {
     "data": {
      "application/vnd.jupyter.widget-view+json": {
       "model_id": "8eee00b96e7d4bc19dfe3eb80eedcc1d",
       "version_major": 2,
       "version_minor": 0
      },
      "text/plain": [
       "Batches:   0%|          | 0/1 [00:00<?, ?it/s]"
      ]
     },
     "metadata": {},
     "output_type": "display_data"
    },
    {
     "data": {
      "application/vnd.jupyter.widget-view+json": {
       "model_id": "9093ceebc36b42a68ba8cd433aeedf6f",
       "version_major": 2,
       "version_minor": 0
      },
      "text/plain": [
       "Batches:   0%|          | 0/29 [00:00<?, ?it/s]"
      ]
     },
     "metadata": {},
     "output_type": "display_data"
    },
    {
     "data": {
      "application/vnd.jupyter.widget-view+json": {
       "model_id": "6f8ab8b145d840e986a851eef7ba05ef",
       "version_major": 2,
       "version_minor": 0
      },
      "text/plain": [
       "Batches:   0%|          | 0/29 [00:00<?, ?it/s]"
      ]
     },
     "metadata": {},
     "output_type": "display_data"
    },
    {
     "data": {
      "application/vnd.jupyter.widget-view+json": {
       "model_id": "48ce5956e794404792292ce920585bca",
       "version_major": 2,
       "version_minor": 0
      },
      "text/plain": [
       "Batches:   0%|          | 0/29 [00:00<?, ?it/s]"
      ]
     },
     "metadata": {},
     "output_type": "display_data"
    },
    {
     "data": {
      "application/vnd.jupyter.widget-view+json": {
       "model_id": "7619bf541b33403f916dd9658c204dea",
       "version_major": 2,
       "version_minor": 0
      },
      "text/plain": [
       "Batches:   0%|          | 0/29 [00:00<?, ?it/s]"
      ]
     },
     "metadata": {},
     "output_type": "display_data"
    },
    {
     "data": {
      "application/vnd.jupyter.widget-view+json": {
       "model_id": "1c2d293f055c4ec8a2d6b9c15987d506",
       "version_major": 2,
       "version_minor": 0
      },
      "text/plain": [
       "Batches:   0%|          | 0/29 [00:00<?, ?it/s]"
      ]
     },
     "metadata": {},
     "output_type": "display_data"
    },
    {
     "data": {
      "application/vnd.jupyter.widget-view+json": {
       "model_id": "b180b4dcb87d47869ca5656cd119b600",
       "version_major": 2,
       "version_minor": 0
      },
      "text/plain": [
       "Batches:   0%|          | 0/1 [00:00<?, ?it/s]"
      ]
     },
     "metadata": {},
     "output_type": "display_data"
    },
    {
     "data": {
      "application/vnd.jupyter.widget-view+json": {
       "model_id": "6fdfe6bbde4d4a9d94a00c804a699d2f",
       "version_major": 2,
       "version_minor": 0
      },
      "text/plain": [
       "Batches:   0%|          | 0/1 [00:00<?, ?it/s]"
      ]
     },
     "metadata": {},
     "output_type": "display_data"
    },
    {
     "data": {
      "application/vnd.jupyter.widget-view+json": {
       "model_id": "bde157a2bc8f48f2afeeafa68cc3f767",
       "version_major": 2,
       "version_minor": 0
      },
      "text/plain": [
       "Batches:   0%|          | 0/1 [00:00<?, ?it/s]"
      ]
     },
     "metadata": {},
     "output_type": "display_data"
    },
    {
     "data": {
      "application/vnd.jupyter.widget-view+json": {
       "model_id": "bb8c066c749b463484f6f78d877f8604",
       "version_major": 2,
       "version_minor": 0
      },
      "text/plain": [
       "Batches:   0%|          | 0/1 [00:00<?, ?it/s]"
      ]
     },
     "metadata": {},
     "output_type": "display_data"
    },
    {
     "data": {
      "application/vnd.jupyter.widget-view+json": {
       "model_id": "cf3c8bfad42e4a62b0661d298c1c8447",
       "version_major": 2,
       "version_minor": 0
      },
      "text/plain": [
       "Batches:   0%|          | 0/1 [00:00<?, ?it/s]"
      ]
     },
     "metadata": {},
     "output_type": "display_data"
    },
    {
     "data": {
      "application/vnd.jupyter.widget-view+json": {
       "model_id": "b49a1711639b4feb88d5ab5bcb2c2cbe",
       "version_major": 2,
       "version_minor": 0
      },
      "text/plain": [
       "Batches:   0%|          | 0/29 [00:00<?, ?it/s]"
      ]
     },
     "metadata": {},
     "output_type": "display_data"
    },
    {
     "data": {
      "application/vnd.jupyter.widget-view+json": {
       "model_id": "d07a270cc6304e3db5775e9dbdf815aa",
       "version_major": 2,
       "version_minor": 0
      },
      "text/plain": [
       "Batches:   0%|          | 0/29 [00:00<?, ?it/s]"
      ]
     },
     "metadata": {},
     "output_type": "display_data"
    },
    {
     "data": {
      "application/vnd.jupyter.widget-view+json": {
       "model_id": "8580d91436d84561b92df1c458369227",
       "version_major": 2,
       "version_minor": 0
      },
      "text/plain": [
       "Batches:   0%|          | 0/29 [00:00<?, ?it/s]"
      ]
     },
     "metadata": {},
     "output_type": "display_data"
    },
    {
     "data": {
      "application/vnd.jupyter.widget-view+json": {
       "model_id": "7e6a0a5310184016b294fa91e600bf79",
       "version_major": 2,
       "version_minor": 0
      },
      "text/plain": [
       "Batches:   0%|          | 0/29 [00:00<?, ?it/s]"
      ]
     },
     "metadata": {},
     "output_type": "display_data"
    },
    {
     "data": {
      "application/vnd.jupyter.widget-view+json": {
       "model_id": "23243a16d02c43c2b1385631d727f16c",
       "version_major": 2,
       "version_minor": 0
      },
      "text/plain": [
       "Batches:   0%|          | 0/29 [00:00<?, ?it/s]"
      ]
     },
     "metadata": {},
     "output_type": "display_data"
    },
    {
     "data": {
      "application/vnd.jupyter.widget-view+json": {
       "model_id": "4fd1beb7827c49daa3aaa68350db0228",
       "version_major": 2,
       "version_minor": 0
      },
      "text/plain": [
       "Batches:   0%|          | 0/1 [00:00<?, ?it/s]"
      ]
     },
     "metadata": {},
     "output_type": "display_data"
    },
    {
     "data": {
      "application/vnd.jupyter.widget-view+json": {
       "model_id": "3a04ed1287ed44f5be1b433e80f1d0fb",
       "version_major": 2,
       "version_minor": 0
      },
      "text/plain": [
       "Batches:   0%|          | 0/1 [00:00<?, ?it/s]"
      ]
     },
     "metadata": {},
     "output_type": "display_data"
    },
    {
     "data": {
      "application/vnd.jupyter.widget-view+json": {
       "model_id": "d9ec6cc7ad154a288cb8a6755dede1e2",
       "version_major": 2,
       "version_minor": 0
      },
      "text/plain": [
       "Batches:   0%|          | 0/1 [00:00<?, ?it/s]"
      ]
     },
     "metadata": {},
     "output_type": "display_data"
    },
    {
     "data": {
      "application/vnd.jupyter.widget-view+json": {
       "model_id": "236118bacc6f4a05a52b7eaceb14d707",
       "version_major": 2,
       "version_minor": 0
      },
      "text/plain": [
       "Batches:   0%|          | 0/1 [00:00<?, ?it/s]"
      ]
     },
     "metadata": {},
     "output_type": "display_data"
    },
    {
     "data": {
      "application/vnd.jupyter.widget-view+json": {
       "model_id": "cf6ac77c5e8f4a4b83053629022425d9",
       "version_major": 2,
       "version_minor": 0
      },
      "text/plain": [
       "Batches:   0%|          | 0/1 [00:00<?, ?it/s]"
      ]
     },
     "metadata": {},
     "output_type": "display_data"
    },
    {
     "data": {
      "application/vnd.jupyter.widget-view+json": {
       "model_id": "c63567cc4f51408582c459bded687ba6",
       "version_major": 2,
       "version_minor": 0
      },
      "text/plain": [
       "Batches:   0%|          | 0/57 [00:00<?, ?it/s]"
      ]
     },
     "metadata": {},
     "output_type": "display_data"
    },
    {
     "data": {
      "application/vnd.jupyter.widget-view+json": {
       "model_id": "6d69756f8ced4ddf8170df90ea933ee8",
       "version_major": 2,
       "version_minor": 0
      },
      "text/plain": [
       "Batches:   0%|          | 0/57 [00:00<?, ?it/s]"
      ]
     },
     "metadata": {},
     "output_type": "display_data"
    },
    {
     "data": {
      "application/vnd.jupyter.widget-view+json": {
       "model_id": "5c5fe22862224187abb47c0bcdcddf29",
       "version_major": 2,
       "version_minor": 0
      },
      "text/plain": [
       "Batches:   0%|          | 0/57 [00:00<?, ?it/s]"
      ]
     },
     "metadata": {},
     "output_type": "display_data"
    },
    {
     "data": {
      "application/vnd.jupyter.widget-view+json": {
       "model_id": "1be10bcce4cd47a985fd5556cfed7dd4",
       "version_major": 2,
       "version_minor": 0
      },
      "text/plain": [
       "Batches:   0%|          | 0/57 [00:00<?, ?it/s]"
      ]
     },
     "metadata": {},
     "output_type": "display_data"
    },
    {
     "data": {
      "application/vnd.jupyter.widget-view+json": {
       "model_id": "88c855b8660c44e080dd15e777172b89",
       "version_major": 2,
       "version_minor": 0
      },
      "text/plain": [
       "Batches:   0%|          | 0/57 [00:00<?, ?it/s]"
      ]
     },
     "metadata": {},
     "output_type": "display_data"
    }
   ],
   "source": [
    "def open_links_in_tabs(driver, filename):\n",
    "    with open(filename, \"r\", encoding=\"utf-8\") as file:\n",
    "        lines = file.readlines()\n",
    "    # List for unique window handles\n",
    "    window_handles = []\n",
    "    new_start_times = []\n",
    "    for index, line in enumerate(lines):\n",
    "        if line.startswith(\"Link: \"):\n",
    "            link = line.replace(\"Link: \", \"\").strip()\n",
    "            #This verifies if the link is already opened\n",
    "            if link not in window_handles:\n",
    "                # Link opened in new tab\n",
    "                driver.execute_script(f'window.open(\"{link}\", \"_blank\");')\n",
    "                window_handles.append(link)\n",
    "                driver.switch_to.window(driver.window_handles[-1])\n",
    "                try:\n",
    "                    wait = WebDriverWait(driver, 15)\n",
    "                    # wait for the 'imagemap' element to load\n",
    "                    thumbnails = wait.until(EC.presence_of_element_located((By.NAME, 'imagemap')))\n",
    "                    # Executing the playClip JavaScript function\n",
    "                    driver.execute_script('playClip(0);')\n",
    "                    #Timestamp extraction from the URL\n",
    "                    match = re.search(r'&play=(\\d+)', driver.current_url)\n",
    "                    if match:\n",
    "                        timestamp = match.group(1)\n",
    "                        new_start_times.append(timestamp)\n",
    "                    else:\n",
    "                        timestamp = \"N/A\"\n",
    "                    # Find the inex of the current \"StartTime: \" line\n",
    "                    line_index = index\n",
    "                    while line_index >= 0 and not lines[line_index].startswith(\"StartTime: \"):\n",
    "                        line_index -= 1\n",
    "                    # Current StartTime:\" line update\n",
    "                    if line_index >= 0:\n",
    "                        lines[line_index] = f\"StartTime: {timestamp}\\n\"\n",
    "                except Exception as e:\n",
    "                    print(f\"Error while interacting with the page: {e}\")\n",
    "    for link in window_handles:\n",
    "        driver.switch_to.window(driver.window_handles[-1])\n",
    "        driver.close()\n",
    "        driver.switch_to.window(driver.window_handles[0])\n",
    "    start_times_filepath = append_start_times_to_document(new_start_times, os.path.dirname(filepath))\n",
    "    driver.quit()\n",
    "\n",
    "def append_start_times_to_document(start_times, filepath, document_name='start_times.txt'):\n",
    "    start_times_filepath = os.path.join(filepath, document_name)\n",
    "    with open(start_times_filepath, 'a', encoding='utf-8') as file:\n",
    "        for start_time in start_times:\n",
    "            file.write(str(start_time) + '\\n')\n",
    "    return start_times_filepath\n",
    "                \n",
    "def integrate_start_times_with_content(filepath, filename):\n",
    "    folder_path = os.path.dirname(filepath)\n",
    "    start_times_filepath = os.path.join(folder_path, 'start_times.txt')\n",
    "    filename_filepath = os.path.join(folder_path, filename)\n",
    "    with open(start_times_filepath, 'r', encoding='utf-8') as start_time_file:\n",
    "        start_times = start_time_file.readlines()\n",
    "    with open(filename_filepath, 'r', encoding='utf-8') as other_file:\n",
    "        lines = other_file.readlines()\n",
    "    final_content = []\n",
    "    start_time_index = 0\n",
    "    for line in lines:\n",
    "        if \"StartTime:\" in line:\n",
    "            final_content.append(line.strip() + \" \" + start_times[start_time_index].strip() + \"\\n\")\n",
    "            start_time_index += 1\n",
    "        else:\n",
    "            final_content.append(line)\n",
    "    with open(filename_filepath, 'w', encoding='utf-8') as other_file:\n",
    "        other_file.writelines(final_content)\n",
    "    os.remove(start_times_filepath)\n",
    "    \n",
    "def download_and_extract_images(matches, hashtag, date):\n",
    "    date_subfolder = os.path.join(f'{hashtag}', 'extracted_images', date)\n",
    "    os.makedirs(date_subfolder, exist_ok=True)\n",
    "    showid_list = []\n",
    "    for match in matches:\n",
    "        link, image, description, starttime_str = match\n",
    "        id_match = re.search(r'id=(.*?)$', link)\n",
    "        if id_match:\n",
    "            showid = id_match.group(1)\n",
    "            if starttime_str:\n",
    "                starttime = int(starttime_str)\n",
    "            else:\n",
    "                starttime = None\n",
    "            showid_list.append(showid)\n",
    "            url = f'https://storage.googleapis.com/data.gdeltproject.org/gdeltv3/iatv/visualexplorer/{showid}.zip'\n",
    "            zip_filename = os.path.join(date_subfolder, showid + '.zip')\n",
    "            if not os.path.exists(zip_filename):\n",
    "                response = requests.get(url, stream=True)\n",
    "                if response.status_code == 200:\n",
    "                    with open(zip_filename, 'wb') as f:\n",
    "                        for chunk in response.iter_content(1024):\n",
    "                            f.write(chunk)\n",
    "            with zipfile.ZipFile(zip_filename, 'r') as zf:\n",
    "                zf.extractall(date_subfolder)\n",
    "            os.remove(zip_filename)\n",
    "    for showid in showid_list:\n",
    "        image_directory = os.path.join(date_subfolder, showid)\n",
    "        img_names = list(glob.glob(os.path.join(image_directory, '*.jpg')))\n",
    "        print(f\"Images for showid {showid}: {len(img_names)}\")\n",
    "        img_emb = model.encode([Image.open(filepath) for filepath in img_names], batch_size=128, convert_to_tensor=True, show_progress_bar=True)\n",
    "    return showid_list\n",
    "\n",
    "def compute_embeddings(img_paths):\n",
    "    images = [Image.open(path).convert('RGB') for path in img_paths]\n",
    "    return model.encode(images, convert_to_tensor=True, show_progress_bar=True)\n",
    "\n",
    "def search_query(query, img_paths, k=5):\n",
    "    query_emb = model.encode([query], convert_to_tensor=True, show_progress_bar=True)\n",
    "    img_embs = compute_embeddings(img_paths)\n",
    "    hits = util.semantic_search(query_emb, img_embs, top_k=k)[0]\n",
    "    results = []\n",
    "    for hit in hits:\n",
    "        img_path = img_paths[hit['corpus_id']]\n",
    "        results.append({\n",
    "            'query': query,\n",
    "            'image_name': os.path.basename(img_path),\n",
    "            'image_url': img_path,\n",
    "            'score': hit['score'],\n",
    "        })\n",
    "    return results\n",
    "\n",
    "def scrape_gdelt_for_data(date, hashtag):\n",
    "    hashtag_folder = f'{hashtag}'\n",
    "    os.makedirs(hashtag_folder, exist_ok=True)\n",
    "    url = f\"https://api.gdeltproject.org/api/v2/tvv/tvv?date={date}#{hashtag}\"\n",
    "    filename = f\"{date}.txt\"\n",
    "    filepath = os.path.join(hashtag_folder, filename)\n",
    "    driver = webdriver.Edge()\n",
    "    driver.get(url)\n",
    "    wait = WebDriverWait(driver, 10)\n",
    "    container = wait.until(EC.presence_of_element_located((By.XPATH, \"//div[@class='itemdetails-container']\")))\n",
    "    items = container.find_elements(By.XPATH, \"//div[@class='itemdetails-item']\")\n",
    "    records_found = False\n",
    "    record_count = 0\n",
    "    data = []\n",
    "    for item in items:\n",
    "        link = item.find_element(By.TAG_NAME, 'a').get_attribute('href')\n",
    "        if link.startswith(f\"https://api.gdeltproject.org/api/v2/tvv/tvv?id={hashtag}\"):\n",
    "            records_found = True\n",
    "            record_count += 1\n",
    "            image = item.find_element(By.TAG_NAME, 'img').get_attribute('src')\n",
    "            description = item.find_element(By.TAG_NAME, 'p').text\n",
    "            data.append(f\"Link: {link}\\nImage: {image}\\nDescription: {description}\\nStartTime: \\n\\n\")\n",
    "    if records_found:\n",
    "        with open(filepath, 'w', encoding='utf-8') as text_file:\n",
    "            text_file.writelines(data)\n",
    "        print(f\"{record_count} records found for {date}.\")\n",
    "        with open(filepath, 'r', encoding='utf-8') as file:\n",
    "            content = file.read()\n",
    "        pattern = r'Link: (.*?)\\nImage: (.*?)\\nDescription: (.*?)\\nStartTime: (.*?)\\n'\n",
    "        matches = re.findall(pattern, content)        \n",
    "        if matches:\n",
    "            download_and_extract_images(matches, hashtag, date)\n",
    "    else:\n",
    "        print(f\"No records found/available for {date}.\")\n",
    "    driver.quit()\n",
    "    return filepath, filename, records_found\n",
    "\n",
    "date = input(\"Enter the date (in the format YYYYMMDD): \") # Restricted to one specific date for testing purposes. \n",
    "hashtags = [\"CNN\", \"FOXNEWS\"] # List of two US News stations available on GDELT Project. Open Source and Publicly available.\n",
    "for hashtag in hashtags:\n",
    "    filepath, filename, records_found = scrape_gdelt_for_data(date, hashtag)\n",
    "    if records_found:\n",
    "        driver = webdriver.Edge()\n",
    "        open_links_in_tabs(driver, filepath)\n",
    "        integrate_start_times_with_content(filepath, filename)\n",
    "        driver.quit()\n",
    "        base_folder = os.path.join(f'{hashtag}', 'extracted_images', date)\n",
    "        for root, _, _ in os.walk(base_folder):\n",
    "            for folder_name in os.listdir(root):\n",
    "                folder_path = os.path.join(root, folder_name)\n",
    "                if os.path.isdir(folder_path):\n",
    "                    img_paths = [os.path.join(folder_path, f) for f in os.listdir(folder_path) if f.endswith('.jpg')]\n",
    "                    all_results = []\n",
    "                    with ThreadPoolExecutor() as executor:\n",
    "                        futures = [executor.submit(search_query, query, img_paths) for query in cyber_master_list]\n",
    "                        for future in futures:\n",
    "                            all_results.extend(future.result())\n",
    "                    pickle_folder = os.path.join(f'{hashtag}', 'pickle_folder', date)\n",
    "                    os.makedirs(pickle_folder, exist_ok=True)\n",
    "                    relative_folder_path = os.path.relpath(folder_path, base_folder)\n",
    "                    pickle_filename = f\"{hashtag}_{date}_{relative_folder_path.replace(os.sep, '_')}.pkl\"\n",
    "                    pickle_path = os.path.join(pickle_folder, pickle_filename)\n",
    "                    with open(pickle_path, 'wb') as f:\n",
    "                        pickle.dump(all_results, f)"
   ]
  },
  {
   "cell_type": "code",
   "execution_count": 6,
   "metadata": {},
   "outputs": [
    {
     "data": {
      "text/plain": [
       "[{'query': 'fencer',\n",
       "  'image_name': 'CNNW_20231123_070000_CNN_NewsNight_With_Abby_Phillip-000603.jpg',\n",
       "  'image_url': 'CNN\\\\extracted_images\\\\20231123\\\\CNNW_20231123_070000_CNN_NewsNight_With_Abby_Phillip\\\\CNNW_20231123_070000_CNN_NewsNight_With_Abby_Phillip-000603.jpg',\n",
       "  'score': 0.19855991005897522},\n",
       " {'query': 'fencer',\n",
       "  'image_name': 'CNNW_20231123_070000_CNN_NewsNight_With_Abby_Phillip-000777.jpg',\n",
       "  'image_url': 'CNN\\\\extracted_images\\\\20231123\\\\CNNW_20231123_070000_CNN_NewsNight_With_Abby_Phillip\\\\CNNW_20231123_070000_CNN_NewsNight_With_Abby_Phillip-000777.jpg',\n",
       "  'score': 0.1898367702960968},\n",
       " {'query': 'fencer',\n",
       "  'image_name': 'CNNW_20231123_070000_CNN_NewsNight_With_Abby_Phillip-000887.jpg',\n",
       "  'image_url': 'CNN\\\\extracted_images\\\\20231123\\\\CNNW_20231123_070000_CNN_NewsNight_With_Abby_Phillip\\\\CNNW_20231123_070000_CNN_NewsNight_With_Abby_Phillip-000887.jpg',\n",
       "  'score': 0.18048463761806488},\n",
       " {'query': 'fencer',\n",
       "  'image_name': 'CNNW_20231123_070000_CNN_NewsNight_With_Abby_Phillip-000602.jpg',\n",
       "  'image_url': 'CNN\\\\extracted_images\\\\20231123\\\\CNNW_20231123_070000_CNN_NewsNight_With_Abby_Phillip\\\\CNNW_20231123_070000_CNN_NewsNight_With_Abby_Phillip-000602.jpg',\n",
       "  'score': 0.17633619904518127},\n",
       " {'query': 'fencer',\n",
       "  'image_name': 'CNNW_20231123_070000_CNN_NewsNight_With_Abby_Phillip-000726.jpg',\n",
       "  'image_url': 'CNN\\\\extracted_images\\\\20231123\\\\CNNW_20231123_070000_CNN_NewsNight_With_Abby_Phillip\\\\CNNW_20231123_070000_CNN_NewsNight_With_Abby_Phillip-000726.jpg',\n",
       "  'score': 0.17357900738716125},\n",
       " {'query': 'rome laboratory',\n",
       "  'image_name': 'CNNW_20231123_070000_CNN_NewsNight_With_Abby_Phillip-000607.jpg',\n",
       "  'image_url': 'CNN\\\\extracted_images\\\\20231123\\\\CNNW_20231123_070000_CNN_NewsNight_With_Abby_Phillip\\\\CNNW_20231123_070000_CNN_NewsNight_With_Abby_Phillip-000607.jpg',\n",
       "  'score': 0.1970234215259552},\n",
       " {'query': 'rome laboratory',\n",
       "  'image_name': 'CNNW_20231123_070000_CNN_NewsNight_With_Abby_Phillip-000596.jpg',\n",
       "  'image_url': 'CNN\\\\extracted_images\\\\20231123\\\\CNNW_20231123_070000_CNN_NewsNight_With_Abby_Phillip\\\\CNNW_20231123_070000_CNN_NewsNight_With_Abby_Phillip-000596.jpg',\n",
       "  'score': 0.19377931952476501},\n",
       " {'query': 'rome laboratory',\n",
       "  'image_name': 'CNNW_20231123_070000_CNN_NewsNight_With_Abby_Phillip-000743.jpg',\n",
       "  'image_url': 'CNN\\\\extracted_images\\\\20231123\\\\CNNW_20231123_070000_CNN_NewsNight_With_Abby_Phillip\\\\CNNW_20231123_070000_CNN_NewsNight_With_Abby_Phillip-000743.jpg',\n",
       "  'score': 0.18948055803775787},\n",
       " {'query': 'rome laboratory',\n",
       "  'image_name': 'CNNW_20231123_070000_CNN_NewsNight_With_Abby_Phillip-000785.jpg',\n",
       "  'image_url': 'CNN\\\\extracted_images\\\\20231123\\\\CNNW_20231123_070000_CNN_NewsNight_With_Abby_Phillip\\\\CNNW_20231123_070000_CNN_NewsNight_With_Abby_Phillip-000785.jpg',\n",
       "  'score': 0.18884341418743134},\n",
       " {'query': 'rome laboratory',\n",
       "  'image_name': 'CNNW_20231123_070000_CNN_NewsNight_With_Abby_Phillip-000410.jpg',\n",
       "  'image_url': 'CNN\\\\extracted_images\\\\20231123\\\\CNNW_20231123_070000_CNN_NewsNight_With_Abby_Phillip\\\\CNNW_20231123_070000_CNN_NewsNight_With_Abby_Phillip-000410.jpg',\n",
       "  'score': 0.18700799345970154},\n",
       " {'query': 'backdoor',\n",
       "  'image_name': 'CNNW_20231123_070000_CNN_NewsNight_With_Abby_Phillip-000636.jpg',\n",
       "  'image_url': 'CNN\\\\extracted_images\\\\20231123\\\\CNNW_20231123_070000_CNN_NewsNight_With_Abby_Phillip\\\\CNNW_20231123_070000_CNN_NewsNight_With_Abby_Phillip-000636.jpg',\n",
       "  'score': 0.19808003306388855},\n",
       " {'query': 'backdoor',\n",
       "  'image_name': 'CNNW_20231123_070000_CNN_NewsNight_With_Abby_Phillip-000440.jpg',\n",
       "  'image_url': 'CNN\\\\extracted_images\\\\20231123\\\\CNNW_20231123_070000_CNN_NewsNight_With_Abby_Phillip\\\\CNNW_20231123_070000_CNN_NewsNight_With_Abby_Phillip-000440.jpg',\n",
       "  'score': 0.19602297246456146},\n",
       " {'query': 'backdoor',\n",
       "  'image_name': 'CNNW_20231123_070000_CNN_NewsNight_With_Abby_Phillip-000269.jpg',\n",
       "  'image_url': 'CNN\\\\extracted_images\\\\20231123\\\\CNNW_20231123_070000_CNN_NewsNight_With_Abby_Phillip\\\\CNNW_20231123_070000_CNN_NewsNight_With_Abby_Phillip-000269.jpg',\n",
       "  'score': 0.19320747256278992},\n",
       " {'query': 'backdoor',\n",
       "  'image_name': 'CNNW_20231123_070000_CNN_NewsNight_With_Abby_Phillip-000354.jpg',\n",
       "  'image_url': 'CNN\\\\extracted_images\\\\20231123\\\\CNNW_20231123_070000_CNN_NewsNight_With_Abby_Phillip\\\\CNNW_20231123_070000_CNN_NewsNight_With_Abby_Phillip-000354.jpg',\n",
       "  'score': 0.18629038333892822},\n",
       " {'query': 'backdoor',\n",
       "  'image_name': 'CNNW_20231123_070000_CNN_NewsNight_With_Abby_Phillip-000602.jpg',\n",
       "  'image_url': 'CNN\\\\extracted_images\\\\20231123\\\\CNNW_20231123_070000_CNN_NewsNight_With_Abby_Phillip\\\\CNNW_20231123_070000_CNN_NewsNight_With_Abby_Phillip-000602.jpg',\n",
       "  'score': 0.18514925241470337},\n",
       " {'query': 'access',\n",
       "  'image_name': 'CNNW_20231123_070000_CNN_NewsNight_With_Abby_Phillip-000766.jpg',\n",
       "  'image_url': 'CNN\\\\extracted_images\\\\20231123\\\\CNNW_20231123_070000_CNN_NewsNight_With_Abby_Phillip\\\\CNNW_20231123_070000_CNN_NewsNight_With_Abby_Phillip-000766.jpg',\n",
       "  'score': 0.20763540267944336},\n",
       " {'query': 'access',\n",
       "  'image_name': 'CNNW_20231123_070000_CNN_NewsNight_With_Abby_Phillip-000866.jpg',\n",
       "  'image_url': 'CNN\\\\extracted_images\\\\20231123\\\\CNNW_20231123_070000_CNN_NewsNight_With_Abby_Phillip\\\\CNNW_20231123_070000_CNN_NewsNight_With_Abby_Phillip-000866.jpg',\n",
       "  'score': 0.20195908844470978},\n",
       " {'query': 'access',\n",
       "  'image_name': 'CNNW_20231123_070000_CNN_NewsNight_With_Abby_Phillip-000429.jpg',\n",
       "  'image_url': 'CNN\\\\extracted_images\\\\20231123\\\\CNNW_20231123_070000_CNN_NewsNight_With_Abby_Phillip\\\\CNNW_20231123_070000_CNN_NewsNight_With_Abby_Phillip-000429.jpg',\n",
       "  'score': 0.2010720819234848},\n",
       " {'query': 'access',\n",
       "  'image_name': 'CNNW_20231123_070000_CNN_NewsNight_With_Abby_Phillip-000762.jpg',\n",
       "  'image_url': 'CNN\\\\extracted_images\\\\20231123\\\\CNNW_20231123_070000_CNN_NewsNight_With_Abby_Phillip\\\\CNNW_20231123_070000_CNN_NewsNight_With_Abby_Phillip-000762.jpg',\n",
       "  'score': 0.20064085721969604},\n",
       " {'query': 'access',\n",
       "  'image_name': 'CNNW_20231123_070000_CNN_NewsNight_With_Abby_Phillip-000455.jpg',\n",
       "  'image_url': 'CNN\\\\extracted_images\\\\20231123\\\\CNNW_20231123_070000_CNN_NewsNight_With_Abby_Phillip\\\\CNNW_20231123_070000_CNN_NewsNight_With_Abby_Phillip-000455.jpg',\n",
       "  'score': 0.1986120641231537},\n",
       " {'query': 'kiss and tell',\n",
       "  'image_name': 'CNNW_20231123_070000_CNN_NewsNight_With_Abby_Phillip-000862.jpg',\n",
       "  'image_url': 'CNN\\\\extracted_images\\\\20231123\\\\CNNW_20231123_070000_CNN_NewsNight_With_Abby_Phillip\\\\CNNW_20231123_070000_CNN_NewsNight_With_Abby_Phillip-000862.jpg',\n",
       "  'score': 0.2018820345401764},\n",
       " {'query': 'kiss and tell',\n",
       "  'image_name': 'CNNW_20231123_070000_CNN_NewsNight_With_Abby_Phillip-000019.jpg',\n",
       "  'image_url': 'CNN\\\\extracted_images\\\\20231123\\\\CNNW_20231123_070000_CNN_NewsNight_With_Abby_Phillip\\\\CNNW_20231123_070000_CNN_NewsNight_With_Abby_Phillip-000019.jpg',\n",
       "  'score': 0.1981128752231598},\n",
       " {'query': 'kiss and tell',\n",
       "  'image_name': 'CNNW_20231123_070000_CNN_NewsNight_With_Abby_Phillip-000597.jpg',\n",
       "  'image_url': 'CNN\\\\extracted_images\\\\20231123\\\\CNNW_20231123_070000_CNN_NewsNight_With_Abby_Phillip\\\\CNNW_20231123_070000_CNN_NewsNight_With_Abby_Phillip-000597.jpg',\n",
       "  'score': 0.19714856147766113},\n",
       " {'query': 'kiss and tell',\n",
       "  'image_name': 'CNNW_20231123_070000_CNN_NewsNight_With_Abby_Phillip-000614.jpg',\n",
       "  'image_url': 'CNN\\\\extracted_images\\\\20231123\\\\CNNW_20231123_070000_CNN_NewsNight_With_Abby_Phillip\\\\CNNW_20231123_070000_CNN_NewsNight_With_Abby_Phillip-000614.jpg',\n",
       "  'score': 0.19338057935237885},\n",
       " {'query': 'kiss and tell',\n",
       "  'image_name': 'CNNW_20231123_070000_CNN_NewsNight_With_Abby_Phillip-000874.jpg',\n",
       "  'image_url': 'CNN\\\\extracted_images\\\\20231123\\\\CNNW_20231123_070000_CNN_NewsNight_With_Abby_Phillip\\\\CNNW_20231123_070000_CNN_NewsNight_With_Abby_Phillip-000874.jpg',\n",
       "  'score': 0.19197620451450348}]"
      ]
     },
     "execution_count": 6,
     "metadata": {},
     "output_type": "execute_result"
    }
   ],
   "source": [
    "with open('./CNN/pickle_folder/20231123/CNN_20231123_CNNW_20231123_070000_CNN_NewsNight_With_Abby_Phillip.pkl', 'rb') as file:\n",
    "    cnn_pkl_1 = pickle.load(file)\n",
    "\n",
    "cnn_pkl_1"
   ]
  },
  {
   "cell_type": "code",
   "execution_count": 7,
   "metadata": {},
   "outputs": [
    {
     "data": {
      "text/plain": [
       "[{'query': 'fencer',\n",
       "  'image_name': 'FOXNEWSW_20231123_070000_Hannity-000907.jpg',\n",
       "  'image_url': 'FOXNEWS\\\\extracted_images\\\\20231123\\\\FOXNEWSW_20231123_070000_Hannity\\\\FOXNEWSW_20231123_070000_Hannity-000907.jpg',\n",
       "  'score': 0.18771319091320038},\n",
       " {'query': 'fencer',\n",
       "  'image_name': 'FOXNEWSW_20231123_070000_Hannity-000347.jpg',\n",
       "  'image_url': 'FOXNEWS\\\\extracted_images\\\\20231123\\\\FOXNEWSW_20231123_070000_Hannity\\\\FOXNEWSW_20231123_070000_Hannity-000347.jpg',\n",
       "  'score': 0.16577032208442688},\n",
       " {'query': 'fencer',\n",
       "  'image_name': 'FOXNEWSW_20231123_070000_Hannity-000332.jpg',\n",
       "  'image_url': 'FOXNEWS\\\\extracted_images\\\\20231123\\\\FOXNEWSW_20231123_070000_Hannity\\\\FOXNEWSW_20231123_070000_Hannity-000332.jpg',\n",
       "  'score': 0.16093285381793976},\n",
       " {'query': 'fencer',\n",
       "  'image_name': 'FOXNEWSW_20231123_070000_Hannity-000335.jpg',\n",
       "  'image_url': 'FOXNEWS\\\\extracted_images\\\\20231123\\\\FOXNEWSW_20231123_070000_Hannity\\\\FOXNEWSW_20231123_070000_Hannity-000335.jpg',\n",
       "  'score': 0.1477425992488861},\n",
       " {'query': 'fencer',\n",
       "  'image_name': 'FOXNEWSW_20231123_070000_Hannity-000719.jpg',\n",
       "  'image_url': 'FOXNEWS\\\\extracted_images\\\\20231123\\\\FOXNEWSW_20231123_070000_Hannity\\\\FOXNEWSW_20231123_070000_Hannity-000719.jpg',\n",
       "  'score': 0.14482885599136353},\n",
       " {'query': 'rome laboratory',\n",
       "  'image_name': 'FOXNEWSW_20231123_070000_Hannity-000336.jpg',\n",
       "  'image_url': 'FOXNEWS\\\\extracted_images\\\\20231123\\\\FOXNEWSW_20231123_070000_Hannity\\\\FOXNEWSW_20231123_070000_Hannity-000336.jpg',\n",
       "  'score': 0.19341422617435455},\n",
       " {'query': 'rome laboratory',\n",
       "  'image_name': 'FOXNEWSW_20231123_070000_Hannity-000332.jpg',\n",
       "  'image_url': 'FOXNEWS\\\\extracted_images\\\\20231123\\\\FOXNEWSW_20231123_070000_Hannity\\\\FOXNEWSW_20231123_070000_Hannity-000332.jpg',\n",
       "  'score': 0.18585282564163208},\n",
       " {'query': 'rome laboratory',\n",
       "  'image_name': 'FOXNEWSW_20231123_070000_Hannity-000335.jpg',\n",
       "  'image_url': 'FOXNEWS\\\\extracted_images\\\\20231123\\\\FOXNEWSW_20231123_070000_Hannity\\\\FOXNEWSW_20231123_070000_Hannity-000335.jpg',\n",
       "  'score': 0.1824546456336975},\n",
       " {'query': 'rome laboratory',\n",
       "  'image_name': 'FOXNEWSW_20231123_070000_Hannity-000907.jpg',\n",
       "  'image_url': 'FOXNEWS\\\\extracted_images\\\\20231123\\\\FOXNEWSW_20231123_070000_Hannity\\\\FOXNEWSW_20231123_070000_Hannity-000907.jpg',\n",
       "  'score': 0.18070466816425323},\n",
       " {'query': 'rome laboratory',\n",
       "  'image_name': 'FOXNEWSW_20231123_070000_Hannity-000333.jpg',\n",
       "  'image_url': 'FOXNEWS\\\\extracted_images\\\\20231123\\\\FOXNEWSW_20231123_070000_Hannity\\\\FOXNEWSW_20231123_070000_Hannity-000333.jpg',\n",
       "  'score': 0.17517077922821045},\n",
       " {'query': 'backdoor',\n",
       "  'image_name': 'FOXNEWSW_20231123_070000_Hannity-000798.jpg',\n",
       "  'image_url': 'FOXNEWS\\\\extracted_images\\\\20231123\\\\FOXNEWSW_20231123_070000_Hannity\\\\FOXNEWSW_20231123_070000_Hannity-000798.jpg',\n",
       "  'score': 0.19095981121063232},\n",
       " {'query': 'backdoor',\n",
       "  'image_name': 'FOXNEWSW_20231123_070000_Hannity-000786.jpg',\n",
       "  'image_url': 'FOXNEWS\\\\extracted_images\\\\20231123\\\\FOXNEWSW_20231123_070000_Hannity\\\\FOXNEWSW_20231123_070000_Hannity-000786.jpg',\n",
       "  'score': 0.18769748508930206},\n",
       " {'query': 'backdoor',\n",
       "  'image_name': 'FOXNEWSW_20231123_070000_Hannity-000795.jpg',\n",
       "  'image_url': 'FOXNEWS\\\\extracted_images\\\\20231123\\\\FOXNEWSW_20231123_070000_Hannity\\\\FOXNEWSW_20231123_070000_Hannity-000795.jpg',\n",
       "  'score': 0.18699514865875244},\n",
       " {'query': 'backdoor',\n",
       "  'image_name': 'FOXNEWSW_20231123_070000_Hannity-000797.jpg',\n",
       "  'image_url': 'FOXNEWS\\\\extracted_images\\\\20231123\\\\FOXNEWSW_20231123_070000_Hannity\\\\FOXNEWSW_20231123_070000_Hannity-000797.jpg',\n",
       "  'score': 0.1868906319141388},\n",
       " {'query': 'backdoor',\n",
       "  'image_name': 'FOXNEWSW_20231123_070000_Hannity-000800.jpg',\n",
       "  'image_url': 'FOXNEWS\\\\extracted_images\\\\20231123\\\\FOXNEWSW_20231123_070000_Hannity\\\\FOXNEWSW_20231123_070000_Hannity-000800.jpg',\n",
       "  'score': 0.18396297097206116},\n",
       " {'query': 'access',\n",
       "  'image_name': 'FOXNEWSW_20231123_070000_Hannity-000907.jpg',\n",
       "  'image_url': 'FOXNEWS\\\\extracted_images\\\\20231123\\\\FOXNEWSW_20231123_070000_Hannity\\\\FOXNEWSW_20231123_070000_Hannity-000907.jpg',\n",
       "  'score': 0.19697219133377075},\n",
       " {'query': 'access',\n",
       "  'image_name': 'FOXNEWSW_20231123_070000_Hannity-000347.jpg',\n",
       "  'image_url': 'FOXNEWS\\\\extracted_images\\\\20231123\\\\FOXNEWSW_20231123_070000_Hannity\\\\FOXNEWSW_20231123_070000_Hannity-000347.jpg',\n",
       "  'score': 0.177167609333992},\n",
       " {'query': 'access',\n",
       "  'image_name': 'FOXNEWSW_20231123_070000_Hannity-000734.jpg',\n",
       "  'image_url': 'FOXNEWS\\\\extracted_images\\\\20231123\\\\FOXNEWSW_20231123_070000_Hannity\\\\FOXNEWSW_20231123_070000_Hannity-000734.jpg',\n",
       "  'score': 0.1765301525592804},\n",
       " {'query': 'access',\n",
       "  'image_name': 'FOXNEWSW_20231123_070000_Hannity-000035.jpg',\n",
       "  'image_url': 'FOXNEWS\\\\extracted_images\\\\20231123\\\\FOXNEWSW_20231123_070000_Hannity\\\\FOXNEWSW_20231123_070000_Hannity-000035.jpg',\n",
       "  'score': 0.1746167689561844},\n",
       " {'query': 'access',\n",
       "  'image_name': 'FOXNEWSW_20231123_070000_Hannity-000889.jpg',\n",
       "  'image_url': 'FOXNEWS\\\\extracted_images\\\\20231123\\\\FOXNEWSW_20231123_070000_Hannity\\\\FOXNEWSW_20231123_070000_Hannity-000889.jpg',\n",
       "  'score': 0.17440614104270935},\n",
       " {'query': 'kiss and tell',\n",
       "  'image_name': 'FOXNEWSW_20231123_070000_Hannity-000347.jpg',\n",
       "  'image_url': 'FOXNEWS\\\\extracted_images\\\\20231123\\\\FOXNEWSW_20231123_070000_Hannity\\\\FOXNEWSW_20231123_070000_Hannity-000347.jpg',\n",
       "  'score': 0.18405920267105103},\n",
       " {'query': 'kiss and tell',\n",
       "  'image_name': 'FOXNEWSW_20231123_070000_Hannity-000323.jpg',\n",
       "  'image_url': 'FOXNEWS\\\\extracted_images\\\\20231123\\\\FOXNEWSW_20231123_070000_Hannity\\\\FOXNEWSW_20231123_070000_Hannity-000323.jpg',\n",
       "  'score': 0.18376854062080383},\n",
       " {'query': 'kiss and tell',\n",
       "  'image_name': 'FOXNEWSW_20231123_070000_Hannity-000544.jpg',\n",
       "  'image_url': 'FOXNEWS\\\\extracted_images\\\\20231123\\\\FOXNEWSW_20231123_070000_Hannity\\\\FOXNEWSW_20231123_070000_Hannity-000544.jpg',\n",
       "  'score': 0.18375200033187866},\n",
       " {'query': 'kiss and tell',\n",
       "  'image_name': 'FOXNEWSW_20231123_070000_Hannity-000311.jpg',\n",
       "  'image_url': 'FOXNEWS\\\\extracted_images\\\\20231123\\\\FOXNEWSW_20231123_070000_Hannity\\\\FOXNEWSW_20231123_070000_Hannity-000311.jpg',\n",
       "  'score': 0.1807744801044464},\n",
       " {'query': 'kiss and tell',\n",
       "  'image_name': 'FOXNEWSW_20231123_070000_Hannity-000313.jpg',\n",
       "  'image_url': 'FOXNEWS\\\\extracted_images\\\\20231123\\\\FOXNEWSW_20231123_070000_Hannity\\\\FOXNEWSW_20231123_070000_Hannity-000313.jpg',\n",
       "  'score': 0.1783687174320221}]"
      ]
     },
     "execution_count": 7,
     "metadata": {},
     "output_type": "execute_result"
    }
   ],
   "source": [
    "with open('./FOXNEWS/pickle_folder/20231123/FOXNEWS_20231123_FOXNEWSW_20231123_070000_Hannity.pkl', 'rb') as file:\n",
    "    fox_pkl_1 = pickle.load(file)\n",
    "\n",
    "fox_pkl_1"
   ]
  }
 ],
 "metadata": {
  "kernelspec": {
   "display_name": ".venv",
   "language": "python",
   "name": "python3"
  },
  "language_info": {
   "codemirror_mode": {
    "name": "ipython",
    "version": 3
   },
   "file_extension": ".py",
   "mimetype": "text/x-python",
   "name": "python",
   "nbconvert_exporter": "python",
   "pygments_lexer": "ipython3",
   "version": "3.11.3"
  }
 },
 "nbformat": 4,
 "nbformat_minor": 2
}
